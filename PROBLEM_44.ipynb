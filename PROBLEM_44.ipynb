{
 "cells": [
  {
   "cell_type": "markdown",
   "id": "e5d4903a",
   "metadata": {},
   "source": [
    "# Average Value of Even Numbers That Are Divisible by Three"
   ]
  },
  {
   "cell_type": "markdown",
   "id": "e00f4d89",
   "metadata": {},
   "source": [
    "## Problem Statement\n",
    "\n",
    "\n",
    "> Given an integer array nums of positive integers, return the average value of all even integers that are divisible by 3.\n",
    "Note that the average of n elements is the sum of the n elements divided by n and rounded down to the nearest integer.\n",
    "\n",
    "\n",
    "Source: https://leetcode.com/problems/average-value-of-even-numbers-that-are-divisible-by-three/description/"
   ]
  },
  {
   "cell_type": "markdown",
   "id": "d7e8d774",
   "metadata": {},
   "source": [
    "## Solution\n",
    "\n",
    "\n",
    "### 1. State the problem clearly. Identify the input & output formats.\n",
    "\n",
    "\n",
    "**Problem**\n",
    "\n",
    "> Given an integer array nums of positive integers, return the average value of all even integers that are divisible by 3.\n",
    "Note that the average of n elements is the sum of the n elements divided by n and rounded down to the nearest integer.\n",
    "\n",
    "<br/>\n",
    "\n",
    "\n",
    "**Input**\n",
    "\n",
    "1. nums = [1,3,6,10,12,15]\n",
    "\n",
    "\n",
    "**Output**\n",
    "\n",
    "1. 9\n",
    "\n",
    "\n",
    "<br/>\n",
    "\n",
    "Based on the above, we can now create a signature of our function:"
   ]
  },
  {
   "cell_type": "code",
   "execution_count": 1,
   "id": "2066c59e",
   "metadata": {},
   "outputs": [],
   "source": [
    "def average_value(nums):\n",
    "    pass"
   ]
  },
  {
   "cell_type": "markdown",
   "id": "d6a980f9",
   "metadata": {},
   "source": [
    "### 2. Come up with some example inputs & outputs. Try to cover all edge cases.\n",
    "\n",
    "\n",
    "1. There is no single number that satisfies the requirement.\n",
    "2. There is single number that satisfies the requirement.\n",
    "3. There is many number that satisfies the requirement."
   ]
  },
  {
   "cell_type": "code",
   "execution_count": 2,
   "id": "31370543",
   "metadata": {},
   "outputs": [],
   "source": [
    "tests = []"
   ]
  },
  {
   "cell_type": "code",
   "execution_count": 3,
   "id": "f76e7f08",
   "metadata": {},
   "outputs": [],
   "source": [
    "tests.append({\n",
    "    'input': {\n",
    "        'nums' : [1,3,6,10,15]\n",
    "    },\n",
    "    'output': 6\n",
    "})"
   ]
  },
  {
   "cell_type": "code",
   "execution_count": 4,
   "id": "fb327405",
   "metadata": {},
   "outputs": [],
   "source": [
    "tests.append({\n",
    "    'input': {\n",
    "        'nums' : [1,3,6,10,12,15]\n",
    "    },\n",
    "    'output': 9\n",
    "})"
   ]
  },
  {
   "cell_type": "code",
   "execution_count": 5,
   "id": "08134a2b",
   "metadata": {},
   "outputs": [],
   "source": [
    "tests.append({\n",
    "    'input': {\n",
    "        'nums' : [1,3,10,15]\n",
    "    },\n",
    "    'output': 0\n",
    "})"
   ]
  },
  {
   "cell_type": "markdown",
   "id": "e881b6ff",
   "metadata": {},
   "source": [
    "### 3. Come up with a correct solution for the problem. State it in plain English.\n",
    "\n",
    "> finding all the numbers that are divisible by 6."
   ]
  },
  {
   "cell_type": "markdown",
   "id": "e82eb080",
   "metadata": {},
   "source": [
    "###  4. Implement the solution and test it using example inputs. Fix bugs, if any."
   ]
  },
  {
   "cell_type": "code",
   "execution_count": 6,
   "id": "977f6188",
   "metadata": {},
   "outputs": [],
   "source": [
    "def average_value(nums):\n",
    "    \n",
    "    # Set average, sum &\n",
    "    # count of even & divisible by 3\n",
    "    avg = sum = count = 0\n",
    "    \n",
    "    # Set a loop for count & sum\n",
    "    for num in nums:\n",
    "        if num%6 == 0:\n",
    "            sum += num\n",
    "            count += 1\n",
    "    \n",
    "    # If count zero return 0\n",
    "    if count == 0:\n",
    "        return 0\n",
    "    \n",
    "    # Return average value\n",
    "    avg = sum//count\n",
    "    return avg"
   ]
  },
  {
   "cell_type": "code",
   "execution_count": 7,
   "id": "7a5c23a2",
   "metadata": {},
   "outputs": [
    {
     "name": "stdout",
     "output_type": "stream",
     "text": [
      "True\n",
      "True\n",
      "True\n"
     ]
    }
   ],
   "source": [
    "for i in range(len(tests)):\n",
    "    print(average_value(tests[i]['input']['nums'])==tests[i]['output'])"
   ]
  },
  {
   "cell_type": "markdown",
   "id": "43746b77",
   "metadata": {},
   "source": [
    "### 5. Analyze the algorithm's complexity and identify inefficiencies, if any."
   ]
  },
  {
   "cell_type": "markdown",
   "id": "5cd67600",
   "metadata": {},
   "source": [
    "> Time complexity : **O(N)** <br>\n",
    "> Space complexity : **O(1)**"
   ]
  }
 ],
 "metadata": {
  "kernelspec": {
   "display_name": "Python 3 (ipykernel)",
   "language": "python",
   "name": "python3"
  },
  "language_info": {
   "codemirror_mode": {
    "name": "ipython",
    "version": 3
   },
   "file_extension": ".py",
   "mimetype": "text/x-python",
   "name": "python",
   "nbconvert_exporter": "python",
   "pygments_lexer": "ipython3",
   "version": "3.10.8"
  }
 },
 "nbformat": 4,
 "nbformat_minor": 5
}
