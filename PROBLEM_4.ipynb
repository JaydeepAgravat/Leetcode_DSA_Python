{
 "cells": [
  {
   "cell_type": "markdown",
   "id": "e5d4903a",
   "metadata": {},
   "source": [
    "# Binary Search"
   ]
  },
  {
   "cell_type": "markdown",
   "id": "e00f4d89",
   "metadata": {},
   "source": [
    "## Problem Statement\n",
    "\n",
    "\n",
    "> Given an array of integers nums which is sorted in ascending order, and an integer target, write a function to search target in nums. If target exists, then return its index. Otherwise, return -1.\n",
    "<br>\n",
    "> You must write an algorithm with O(log n) runtime complexity.\n",
    "<br>\n",
    "> All the integers in nums are unique.\n",
    "\n",
    "Source: https://leetcode.com/problems/binary-search/"
   ]
  },
  {
   "cell_type": "markdown",
   "id": "d7e8d774",
   "metadata": {},
   "source": [
    "## Solution\n",
    "\n",
    "\n",
    "### 1. State the problem clearly. Identify the input & output formats.\n",
    "\n",
    "\n",
    "**Problem**\n",
    "\n",
    "> The list `nums` is array of integer which is increasing oreder,\n",
    "and an integer target.\n",
    "> We have to find target in the list `nums` & return its index.\n",
    "> If target is not found than , return -1.\n",
    "<br>\n",
    "> All the integers in nums are unique.\n",
    "\n",
    "\n",
    "<br/>\n",
    "\n",
    "\n",
    "**Input**\n",
    "\n",
    "1. `nums` = [-1,0,3,5,9,12]\n",
    "2. `target` = 9\n",
    "\n",
    "\n",
    "**Output**\n",
    "\n",
    "1. `4`\n",
    "\n",
    "\n",
    "<br/>\n",
    "\n",
    "Based on the above, we can now create a signature of our function:"
   ]
  },
  {
   "cell_type": "code",
   "execution_count": 1,
   "id": "2066c59e",
   "metadata": {},
   "outputs": [],
   "source": [
    "def search(nums, target):\n",
    "    pass"
   ]
  },
  {
   "cell_type": "markdown",
   "id": "d6a980f9",
   "metadata": {},
   "source": [
    "### 2. Come up with some example inputs & outputs. Try to cover all edge cases.\n",
    "\n",
    "\n",
    "1. `nums` contain one element. \n",
    "2. `nums` contain more than one elemnt.\n",
    "3. `target` element is not in the list `nums`.  \n",
    "4. `target` element is first in the list `nums`.  \n",
    "5. `target` element is last in the list `nums`.   \n",
    "5. `target` element is middle in the list `nums`.  "
   ]
  },
  {
   "cell_type": "code",
   "execution_count": 2,
   "id": "31370543",
   "metadata": {},
   "outputs": [],
   "source": [
    "tests = []"
   ]
  },
  {
   "cell_type": "code",
   "execution_count": 3,
   "id": "f76e7f08",
   "metadata": {},
   "outputs": [],
   "source": [
    "tests.append({\n",
    "    'input': {\n",
    "       'nums': [6],\n",
    "       'target': 6\n",
    "    },\n",
    "    'output': 0\n",
    "})"
   ]
  },
  {
   "cell_type": "code",
   "execution_count": 4,
   "id": "fb327405",
   "metadata": {},
   "outputs": [],
   "source": [
    "tests.append({\n",
    "    'input': {\n",
    "       'nums': [6],\n",
    "       'target': 5\n",
    "    },\n",
    "    'output': -1\n",
    "})"
   ]
  },
  {
   "cell_type": "code",
   "execution_count": 5,
   "id": "748cc48c",
   "metadata": {},
   "outputs": [],
   "source": [
    "tests.append({\n",
    "    'input': {\n",
    "       'nums': [1,2,3,4,5,6],\n",
    "       'target': 7\n",
    "    },\n",
    "    'output': -1\n",
    "})"
   ]
  },
  {
   "cell_type": "code",
   "execution_count": 6,
   "id": "0484babb",
   "metadata": {},
   "outputs": [],
   "source": [
    "tests.append({\n",
    "    'input': {\n",
    "       'nums': [1,2,3,4,5,6],\n",
    "       'target': 6\n",
    "    },\n",
    "    'output': 5\n",
    "})"
   ]
  },
  {
   "cell_type": "code",
   "execution_count": 7,
   "id": "6034b40c",
   "metadata": {},
   "outputs": [],
   "source": [
    "tests.append({\n",
    "    'input': {\n",
    "       'nums': [1,2,3,4,5,6],\n",
    "       'target': 3\n",
    "    },\n",
    "    'output': 2\n",
    "})"
   ]
  },
  {
   "cell_type": "code",
   "execution_count": 8,
   "id": "a58389c3",
   "metadata": {},
   "outputs": [],
   "source": [
    "tests.append({\n",
    "    'input': {\n",
    "       'nums': [1,2,3,4,5,6],\n",
    "       'target': 4\n",
    "    },\n",
    "    'output': 3\n",
    "})"
   ]
  },
  {
   "cell_type": "markdown",
   "id": "e881b6ff",
   "metadata": {},
   "source": [
    "### 3. Come up with a correct solution for the problem. State it in plain English.\n",
    "\n",
    "\n",
    "1. Find the middle element of the list.\n",
    "2. If it matches `target` number, return the middle position as the answer.\n",
    "3. If it is less than the `target` number, then search the second half of the list\n",
    "4. If it is greater than the `target` number, then search the first half of the list\n",
    "5. If no more elements remain, return -1."
   ]
  },
  {
   "cell_type": "markdown",
   "id": "e82eb080",
   "metadata": {},
   "source": [
    "###  4. Implement the solution and test it using example inputs. Fix bugs, if any."
   ]
  },
  {
   "cell_type": "code",
   "execution_count": 9,
   "id": "977f6188",
   "metadata": {},
   "outputs": [],
   "source": [
    "def search(nums, target):\n",
    "    \n",
    "    # Set two pointer\n",
    "    low, high = 0, len(nums) - 1\n",
    "    \n",
    "    # Set a loop for finding index\n",
    "    while low <= high:\n",
    "        \n",
    "        # For middle element\n",
    "        mid = (low + high) // 2\n",
    "        mid_number = nums[mid]\n",
    "\n",
    "        # Compare middle element with target\n",
    "        if mid_number == target:\n",
    "            \n",
    "            # Found the target!\n",
    "            return mid\n",
    "        \n",
    "        # Set a pointer according to mid_number and target\n",
    "        elif mid_number < target:\n",
    "            low = mid + 1\n",
    "        elif mid_number > target:\n",
    "            high = mid - 1  \n",
    "\n",
    "    # Target is not found\n",
    "    return -1"
   ]
  },
  {
   "cell_type": "code",
   "execution_count": 10,
   "id": "7a5c23a2",
   "metadata": {},
   "outputs": [
    {
     "name": "stdout",
     "output_type": "stream",
     "text": [
      "True\n",
      "True\n",
      "True\n",
      "True\n",
      "True\n",
      "True\n"
     ]
    }
   ],
   "source": [
    "for i in range(len(tests)):\n",
    "    print(search(**tests[i]['input']) == tests[i]['output']) "
   ]
  },
  {
   "cell_type": "markdown",
   "id": "43746b77",
   "metadata": {},
   "source": [
    "### 5. Analyze the algorithm's complexity and identify inefficiencies, if any."
   ]
  },
  {
   "cell_type": "markdown",
   "id": "4615d671",
   "metadata": {},
   "source": [
    "> Time complexity : **O(Nlog(N))**\n",
    "<br>\n",
    "> Space complexity : **O(1)**"
   ]
  }
 ],
 "metadata": {
  "kernelspec": {
   "display_name": "Python 3 (ipykernel)",
   "language": "python",
   "name": "python3"
  },
  "language_info": {
   "codemirror_mode": {
    "name": "ipython",
    "version": 3
   },
   "file_extension": ".py",
   "mimetype": "text/x-python",
   "name": "python",
   "nbconvert_exporter": "python",
   "pygments_lexer": "ipython3",
   "version": "3.10.8"
  }
 },
 "nbformat": 4,
 "nbformat_minor": 5
}
