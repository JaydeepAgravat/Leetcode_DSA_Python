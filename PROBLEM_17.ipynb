{
 "cells": [
  {
   "cell_type": "markdown",
   "id": "e5d4903a",
   "metadata": {},
   "source": [
    "# Backspace String Compare"
   ]
  },
  {
   "cell_type": "markdown",
   "id": "e00f4d89",
   "metadata": {},
   "source": [
    "## Problem Statement\n",
    "\n",
    "\n",
    "> Given two strings s and t, return true if they are equal when both are typed into empty text editors. '#' means a backspace character.<br>\n",
    "\n",
    "> Note that after backspacing an empty text, the text will continue empty.\n",
    "\n",
    "\n",
    "Source: https://leetcode.com/problems/backspace-string-compare/description/"
   ]
  },
  {
   "cell_type": "markdown",
   "id": "d7e8d774",
   "metadata": {},
   "source": [
    "## Solution\n",
    "\n",
    "\n",
    "### 1. State the problem clearly. Identify the input & output formats.\n",
    "\n",
    "\n",
    "**Problem**\n",
    "\n",
    "> Given two strings s and t, return true if they are equal when both are typed into empty text editors. '#' means a backspace character.\n",
    "Note that after backspacing an empty text, the text will continue empty. <br/>\n",
    "\n",
    "\n",
    "**Input**\n",
    "\n",
    "1. s = \"ab#c\"\n",
    "2. t = \"ad#c\"\n",
    "\n",
    "\n",
    "**Output**\n",
    "\n",
    "1. True\n",
    "\n",
    "\n",
    "<br/>\n",
    "\n",
    "Based on the above, we can now create a signature of our function:"
   ]
  },
  {
   "cell_type": "code",
   "execution_count": 1,
   "id": "2066c59e",
   "metadata": {},
   "outputs": [],
   "source": [
    "def backspace_compare(s, t):\n",
    "    pass"
   ]
  },
  {
   "cell_type": "markdown",
   "id": "d6a980f9",
   "metadata": {},
   "source": [
    "### 2. Come up with some example inputs & outputs. Try to cover all edge cases.\n",
    "\n",
    "\n",
    "1. Both string is empty.\n",
    "2. Both string is not same. \n",
    "3. Both sting is same."
   ]
  },
  {
   "cell_type": "code",
   "execution_count": 2,
   "id": "31370543",
   "metadata": {},
   "outputs": [],
   "source": [
    "tests = []"
   ]
  },
  {
   "cell_type": "code",
   "execution_count": 3,
   "id": "f76e7f08",
   "metadata": {},
   "outputs": [],
   "source": [
    "tests.append({\n",
    "    'input': {\n",
    "        's': '#a#b#c#',\n",
    "        't': '#a#b#c#'\n",
    "    },\n",
    "    'output': True\n",
    "})"
   ]
  },
  {
   "cell_type": "code",
   "execution_count": 4,
   "id": "fb327405",
   "metadata": {},
   "outputs": [],
   "source": [
    "tests.append({\n",
    "    'input': {\n",
    "        's': 'abc#e##',\n",
    "        't': 'azb#ce##'\n",
    "    },\n",
    "    'output': False\n",
    "})"
   ]
  },
  {
   "cell_type": "code",
   "execution_count": 5,
   "id": "1df9094a",
   "metadata": {},
   "outputs": [],
   "source": [
    "tests.append({\n",
    "    'input': {\n",
    "        's': 'abc#e##',\n",
    "        't': 'ab#ce##'\n",
    "    },\n",
    "    'output': True\n",
    "})"
   ]
  },
  {
   "cell_type": "markdown",
   "id": "e881b6ff",
   "metadata": {},
   "source": [
    "### 3. Come up with a correct solution for the problem. State it in plain English.\n",
    "\n",
    "\n",
    "1. Let's individually build the result of each string (build(S) and build(T)), then compare if they are equal.\n",
    "\n",
    "2. To build the result of a string build(S), we'll use a stack based approach, simulating the result of each keystroke."
   ]
  },
  {
   "cell_type": "markdown",
   "id": "e82eb080",
   "metadata": {},
   "source": [
    "###  4. Implement the solution and test it using example inputs. Fix bugs, if any."
   ]
  },
  {
   "cell_type": "code",
   "execution_count": 6,
   "id": "977f6188",
   "metadata": {},
   "outputs": [],
   "source": [
    "def backspace_compare(s, t):\n",
    "    \n",
    "    # compare result string\n",
    "    return build(s) == build(t)\n",
    "\n",
    "def build(s):\n",
    "    \n",
    "    # Empty stack\n",
    "    ans = []\n",
    "    \n",
    "    # Set a loop for repetation\n",
    "    for c in s:\n",
    "        \n",
    "        # If c is not #\n",
    "        if c != '#':\n",
    "            \n",
    "            # Push c into stack\n",
    "            ans.append(c)\n",
    "            \n",
    "        # IF Stack is not empty\n",
    "        elif ans:\n",
    "            \n",
    "            # Pop char from stack\n",
    "            ans.pop()\n",
    "    \n",
    "    # Return result\n",
    "    return ''.join(ans)"
   ]
  },
  {
   "cell_type": "code",
   "execution_count": 7,
   "id": "7a5c23a2",
   "metadata": {},
   "outputs": [
    {
     "name": "stdout",
     "output_type": "stream",
     "text": [
      "True\n",
      "True\n",
      "True\n"
     ]
    }
   ],
   "source": [
    "for i in range(len(tests)):\n",
    "    print(backspace_compare(**tests[i]['input']) == tests[i]['output'])"
   ]
  },
  {
   "cell_type": "markdown",
   "id": "43746b77",
   "metadata": {},
   "source": [
    "### 5. Analyze the algorithm's complexity and identify inefficiencies, if any."
   ]
  },
  {
   "cell_type": "markdown",
   "id": "02522e9c",
   "metadata": {},
   "source": [
    "> Time complexity : **O(M+N)** <br>\n",
    "> Space complexity : **O(M+N)** <br>\n",
    "where M, N are the lengths of S and T respectively."
   ]
  },
  {
   "cell_type": "markdown",
   "id": "14c03d94",
   "metadata": {},
   "source": [
    "### 6. Apply the right technique to overcome the inefficiency. Repeat steps 3 to 6."
   ]
  },
  {
   "cell_type": "markdown",
   "id": "df090716",
   "metadata": {},
   "source": [
    ">  **Two Pointer**"
   ]
  },
  {
   "cell_type": "markdown",
   "id": "6c81c692",
   "metadata": {},
   "source": [
    "### 7. Come up with a correct solution for the problem. State it in plain English.\n",
    "\n",
    "\n",
    "1. Iterate through the string in reverse.\n",
    "2. If we see a backspace character, the next non-backspace character is skipped.\n",
    "3. If a character isn't skipped, it is part of the final answer.\n",
    "\n",
    "- **we iterate through the string in reverse, then we will know how many backspace characters we have seen, and therefore whether the result includes our character.**"
   ]
  },
  {
   "cell_type": "markdown",
   "id": "6986aefd",
   "metadata": {},
   "source": [
    "### 8. Implement the solution and test it using example inputs. Fix bugs, if any."
   ]
  },
  {
   "cell_type": "code",
   "execution_count": 8,
   "id": "4da38c43",
   "metadata": {},
   "outputs": [],
   "source": [
    "def backspace_compare(s, t):\n",
    "    \n",
    "    # Set two pointer\n",
    "    i = len(s)-1 \n",
    "    j = len(t)-1\n",
    "    \n",
    "    # Set count to zero\n",
    "    count = 0\n",
    "    \n",
    "    # Set a loop for both string \n",
    "    while i>=0 or j>=0:\n",
    "        \n",
    "        # Find relevant char in S\n",
    "        while i>=0:\n",
    "            if s[i] == '#':\n",
    "                count += 1\n",
    "                i -= 1\n",
    "            elif count>0:\n",
    "                count -= 1\n",
    "                i -= 1\n",
    "            else:\n",
    "                break\n",
    "        \n",
    "        count = 0\n",
    "        \n",
    "        # Find relevant char in T\n",
    "        while j>=0:\n",
    "            if t[j] == '#':\n",
    "                count += 1\n",
    "                j -= 1\n",
    "            elif count>0:\n",
    "                count -= 1\n",
    "                j -= 1\n",
    "            else:\n",
    "                break\n",
    "        \n",
    "        # If char is different\n",
    "        if (i>=0 and j>=0 and s[i]!=t[j]):\n",
    "            return False\n",
    "        \n",
    "        # If expecting to compare char vs nothing\n",
    "        if (i>=0 != j>=0):\n",
    "            return False\n",
    "        \n",
    "        i -= 1\n",
    "        j -= 1\n",
    "    \n",
    "    # Both string \n",
    "    return True                "
   ]
  },
  {
   "cell_type": "code",
   "execution_count": 9,
   "id": "ab309b80",
   "metadata": {},
   "outputs": [
    {
     "name": "stdout",
     "output_type": "stream",
     "text": [
      "True\n",
      "True\n",
      "True\n"
     ]
    }
   ],
   "source": [
    "for i in range(len(tests)):\n",
    "    print(backspace_compare(**tests[i]['input']) == tests[i]['output'])"
   ]
  },
  {
   "cell_type": "markdown",
   "id": "35da7de7",
   "metadata": {},
   "source": [
    "### 9. Analyze the algorithm's complexity and identify inefficiencies, if any."
   ]
  },
  {
   "cell_type": "markdown",
   "id": "53002fb9",
   "metadata": {},
   "source": [
    "> Time complexity : **O(M+N)** <br>\n",
    "> Space complexity : **O(1)** <br>\n",
    "where M, N are the lengths of S and T respectively."
   ]
  }
 ],
 "metadata": {
  "kernelspec": {
   "display_name": "Python 3 (ipykernel)",
   "language": "python",
   "name": "python3"
  },
  "language_info": {
   "codemirror_mode": {
    "name": "ipython",
    "version": 3
   },
   "file_extension": ".py",
   "mimetype": "text/x-python",
   "name": "python",
   "nbconvert_exporter": "python",
   "pygments_lexer": "ipython3",
   "version": "3.10.8"
  }
 },
 "nbformat": 4,
 "nbformat_minor": 5
}
