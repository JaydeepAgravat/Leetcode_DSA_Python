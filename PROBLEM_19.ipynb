{
 "cells": [
  {
   "cell_type": "markdown",
   "id": "e5d4903a",
   "metadata": {},
   "source": [
    "# Remove Duplicates from Sorted List"
   ]
  },
  {
   "cell_type": "markdown",
   "id": "e00f4d89",
   "metadata": {},
   "source": [
    "## Problem Statement\n",
    "\n",
    "\n",
    "> Given the head of a sorted linked list, delete all duplicates such that each element appears only once. Return the linked list sorted as well.\n",
    "\n",
    "\n",
    "Source: https://leetcode.com/problems/remove-duplicates-from-sorted-list/description/"
   ]
  },
  {
   "cell_type": "markdown",
   "id": "d7e8d774",
   "metadata": {},
   "source": [
    "## Solution\n",
    "\n",
    "\n",
    "### 1. State the problem clearly. Identify the input & output formats.\n",
    "\n",
    "\n",
    "**Problem**\n",
    "\n",
    "> Given the head of a sorted linked list, delete all duplicates such that each element appears only once. Return the linked list sorted as well.\n",
    "\n",
    "<br/>\n",
    "\n",
    "\n",
    "**Input**\n",
    "\n",
    "1. head = [1,1,2,3,3]\n",
    "\n",
    "\n",
    "**Output**\n",
    "\n",
    "1. [1,2,3]\n",
    "\n",
    "\n",
    "<br/>\n",
    "\n",
    "Based on the above, we can now create a signature of our function:"
   ]
  },
  {
   "cell_type": "code",
   "execution_count": 1,
   "id": "2066c59e",
   "metadata": {},
   "outputs": [],
   "source": [
    "def delete_duplicates(head):\n",
    "    pass"
   ]
  },
  {
   "cell_type": "markdown",
   "id": "d6a980f9",
   "metadata": {},
   "source": [
    "### 2. Come up with some example inputs & outputs. Try to cover all edge cases.\n",
    "\n",
    "\n",
    "1. Number of node is zero.\n",
    "2. Number of node is one.\n",
    "3. All node is same element.\n",
    "4. First element is appear more than one times.\n",
    "5. Last element is appear more than one times."
   ]
  },
  {
   "cell_type": "markdown",
   "id": "e881b6ff",
   "metadata": {},
   "source": [
    "### 3. Come up with a correct solution for the problem. State it in plain English.\n",
    "\n",
    "\n",
    "> **Two pointer**"
   ]
  },
  {
   "cell_type": "markdown",
   "id": "e82eb080",
   "metadata": {},
   "source": [
    "###  4. Implement the solution and test it using example inputs. Fix bugs, if any."
   ]
  },
  {
   "cell_type": "code",
   "execution_count": 2,
   "id": "977f6188",
   "metadata": {},
   "outputs": [],
   "source": [
    "def delete_duplicates(head):\n",
    "    \n",
    "    # IF linked list contain <= 1 node\n",
    "    if head is None or head.next is None:\n",
    "        return head\n",
    "    \n",
    "    # Set two pointer\n",
    "    curr = head\n",
    "    nxt = head.next\n",
    "    \n",
    "    # Traverse linked list using `nxt`\n",
    "    while nxt:\n",
    "        \n",
    "        # If both node is equal than remove node\n",
    "        if curr.val == nxt.val:\n",
    "            curr.next = nxt.next\n",
    "            \n",
    "        # Else increment curr pointer\n",
    "        else:\n",
    "            curr = curr.next\n",
    "            \n",
    "        # Increment nxt pointer\n",
    "        nxt = nxt.next\n",
    "    \n",
    "    # Return result head\n",
    "    return head"
   ]
  },
  {
   "cell_type": "markdown",
   "id": "43746b77",
   "metadata": {},
   "source": [
    "### 5. Analyze the algorithm's complexity and identify inefficiencies, if any."
   ]
  },
  {
   "cell_type": "markdown",
   "id": "1f82b7e1",
   "metadata": {},
   "source": [
    "> Time complexity: **O(N)** <br>\n",
    "> Space complexity: **O(1)**"
   ]
  }
 ],
 "metadata": {
  "kernelspec": {
   "display_name": "Python 3 (ipykernel)",
   "language": "python",
   "name": "python3"
  },
  "language_info": {
   "codemirror_mode": {
    "name": "ipython",
    "version": 3
   },
   "file_extension": ".py",
   "mimetype": "text/x-python",
   "name": "python",
   "nbconvert_exporter": "python",
   "pygments_lexer": "ipython3",
   "version": "3.10.8"
  }
 },
 "nbformat": 4,
 "nbformat_minor": 5
}
