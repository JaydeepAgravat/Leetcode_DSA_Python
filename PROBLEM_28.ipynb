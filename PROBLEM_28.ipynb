{
 "cells": [
  {
   "cell_type": "markdown",
   "id": "e5d4903a",
   "metadata": {},
   "source": [
    "# Minimum Bit Flips to Convert Number"
   ]
  },
  {
   "cell_type": "markdown",
   "id": "e00f4d89",
   "metadata": {},
   "source": [
    "## Problem Statement\n",
    "\n",
    "\n",
    "> Given two integers start and goal, return the minimum number of bit flips to convert start to goal.\n",
    "\n",
    "\n",
    "Source: https://leetcode.com/problems/minimum-bit-flips-to-convert-number/description/"
   ]
  },
  {
   "cell_type": "markdown",
   "id": "d7e8d774",
   "metadata": {},
   "source": [
    "## Solution\n",
    "\n",
    "\n",
    "### 1. State the problem clearly. Identify the input & output formats.\n",
    "\n",
    "\n",
    "**Problem**\n",
    "\n",
    "> Given two integers start and goal, return the minimum number of bit flips to convert start to goal.\n",
    "\n",
    "<br/>\n",
    "\n",
    "\n",
    "**Input**\n",
    "\n",
    "1. start = 10 //1010\n",
    "2. goal = 7   //0111\n",
    "\n",
    "\n",
    "**Output**\n",
    "\n",
    "1. 3 \n",
    "\n",
    "\n",
    "\n",
    "\n",
    "<br/>\n",
    "\n",
    "Based on the above, we can now create a signature of our function:"
   ]
  },
  {
   "cell_type": "code",
   "execution_count": 1,
   "id": "2066c59e",
   "metadata": {},
   "outputs": [],
   "source": [
    "def min_bit_flips(start, end):\n",
    "    pass"
   ]
  },
  {
   "cell_type": "markdown",
   "id": "d6a980f9",
   "metadata": {},
   "source": [
    "### 2. Come up with some example inputs & outputs. Try to cover all edge cases.\n",
    "\n",
    "- 0 <= start, goal <= 10^9\n"
   ]
  },
  {
   "cell_type": "code",
   "execution_count": 2,
   "id": "31370543",
   "metadata": {},
   "outputs": [],
   "source": [
    "tests = []"
   ]
  },
  {
   "cell_type": "code",
   "execution_count": 3,
   "id": "f76e7f08",
   "metadata": {},
   "outputs": [],
   "source": [
    "tests.append({\n",
    "    'input': {\n",
    "        'start' : 10,\n",
    "        'goal' : 7\n",
    "    },\n",
    "    'output': 3\n",
    "})"
   ]
  },
  {
   "cell_type": "code",
   "execution_count": 4,
   "id": "fb327405",
   "metadata": {},
   "outputs": [],
   "source": [
    "tests.append({\n",
    "    'input': {\n",
    "        'start' : 3,\n",
    "        'goal' : 4\n",
    "    },\n",
    "    'output': 3\n",
    "})"
   ]
  },
  {
   "cell_type": "code",
   "execution_count": 5,
   "id": "08134a2b",
   "metadata": {},
   "outputs": [],
   "source": [
    "tests.append({\n",
    "    'input': {\n",
    "        'start' : 0,\n",
    "        'goal' : 0\n",
    "    },\n",
    "    'output': 0\n",
    "})"
   ]
  },
  {
   "cell_type": "markdown",
   "id": "e881b6ff",
   "metadata": {},
   "source": [
    "### 3. Come up with a correct solution for the problem. State it in plain English.\n",
    "\n",
    "\n",
    "> **Bit Manipulation**\n",
    "- xor -> if flip bit, place 1\n",
    "- x & x-1 -> count 1's"
   ]
  },
  {
   "cell_type": "markdown",
   "id": "e82eb080",
   "metadata": {},
   "source": [
    "###  4. Implement the solution and test it using example inputs. Fix bugs, if any."
   ]
  },
  {
   "cell_type": "code",
   "execution_count": 6,
   "id": "977f6188",
   "metadata": {},
   "outputs": [],
   "source": [
    "def min_bit_flips(start, goal):\n",
    "    \n",
    "    # perform XOR \n",
    "    x = start ^ goal\n",
    "    \n",
    "    # Counter for flip bits\n",
    "    min_flips = 0\n",
    "    \n",
    "    # Set a loop for counting 1's in x\n",
    "    while x!=0:\n",
    "        min_flips += x & 1\n",
    "        x >>= 1\n",
    "    \n",
    "    # Return minimum number of flip bits\n",
    "    return min_flips"
   ]
  },
  {
   "cell_type": "code",
   "execution_count": 7,
   "id": "7a5c23a2",
   "metadata": {},
   "outputs": [
    {
     "name": "stdout",
     "output_type": "stream",
     "text": [
      "True\n",
      "True\n",
      "True\n"
     ]
    }
   ],
   "source": [
    "for i in range(len(tests)):\n",
    "    print(min_bit_flips(**tests[i]['input'])==tests[i]['output'])"
   ]
  },
  {
   "cell_type": "markdown",
   "id": "43746b77",
   "metadata": {},
   "source": [
    "### 5. Analyze the algorithm's complexity and identify inefficiencies, if any."
   ]
  },
  {
   "cell_type": "markdown",
   "id": "0a6aa990",
   "metadata": {},
   "source": [
    "> Time complexity : **O(log(N))** <br>\n",
    "> Space complexity : **O(1)**"
   ]
  },
  {
   "cell_type": "markdown",
   "id": "14c03d94",
   "metadata": {},
   "source": [
    "### 6. Apply the right technique to overcome the inefficiency. Repeat steps 3 to 6."
   ]
  },
  {
   "cell_type": "markdown",
   "id": "f23e5620",
   "metadata": {},
   "source": [
    "> **Brian Kernighan's Algorithm**\n",
    "- For counting 1's bit"
   ]
  },
  {
   "cell_type": "markdown",
   "id": "6c81c692",
   "metadata": {},
   "source": [
    "### 7. Come up with a correct solution for the problem. State it in plain English.\n",
    "\n",
    "\n",
    "- xor -> if flip bit, place 1\n",
    "- x & x-1 -> count 1's"
   ]
  },
  {
   "cell_type": "markdown",
   "id": "6986aefd",
   "metadata": {},
   "source": [
    "### 8. Implement the solution and test it using example inputs. Fix bugs, if any."
   ]
  },
  {
   "cell_type": "code",
   "execution_count": 8,
   "id": "4da38c43",
   "metadata": {},
   "outputs": [],
   "source": [
    "def min_bit_flips(start, goal):\n",
    "    \n",
    "    # perform XOR \n",
    "    x = start ^ goal\n",
    "    \n",
    "    # Counter for flip bits\n",
    "    min_flips = 0\n",
    "    \n",
    "    # Set a loop for counting 1's in x\n",
    "    while x!=0:\n",
    "        x = x & x-1\n",
    "        min_flips += 1\n",
    "    \n",
    "    # Return minimum number of flip bits\n",
    "    return min_flips"
   ]
  },
  {
   "cell_type": "code",
   "execution_count": 9,
   "id": "2f8759d5",
   "metadata": {},
   "outputs": [
    {
     "name": "stdout",
     "output_type": "stream",
     "text": [
      "True\n",
      "True\n",
      "True\n"
     ]
    }
   ],
   "source": [
    "for i in range(len(tests)):\n",
    "    print(min_bit_flips(**tests[i]['input'])==tests[i]['output'])"
   ]
  },
  {
   "cell_type": "markdown",
   "id": "35da7de7",
   "metadata": {},
   "source": [
    "### 9. Analyze the algorithm's complexity and identify inefficiencies, if any."
   ]
  },
  {
   "cell_type": "markdown",
   "id": "95f1908c",
   "metadata": {},
   "source": [
    "> Time complexity : **O(log(N))** <br>\n",
    "> Space complexity : **O(1)**"
   ]
  }
 ],
 "metadata": {
  "kernelspec": {
   "display_name": "Python 3 (ipykernel)",
   "language": "python",
   "name": "python3"
  },
  "language_info": {
   "codemirror_mode": {
    "name": "ipython",
    "version": 3
   },
   "file_extension": ".py",
   "mimetype": "text/x-python",
   "name": "python",
   "nbconvert_exporter": "python",
   "pygments_lexer": "ipython3",
   "version": "3.10.8"
  }
 },
 "nbformat": 4,
 "nbformat_minor": 5
}
