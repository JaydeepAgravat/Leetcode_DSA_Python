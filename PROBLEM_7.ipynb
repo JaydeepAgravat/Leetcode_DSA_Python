{
 "cells": [
  {
   "cell_type": "markdown",
   "id": "e5d4903a",
   "metadata": {},
   "source": [
    "# Convert 1D Array Into 2D Array"
   ]
  },
  {
   "cell_type": "markdown",
   "id": "e00f4d89",
   "metadata": {},
   "source": [
    "## Problem Statement\n",
    "\n",
    "\n",
    "> You are given a 0-indexed 1-dimensional (1D) integer array original, and two integers, m and n. You are tasked with creating a 2-dimensional (2D) array with  m rows and n columns using all the elements from original.\n",
    "\n",
    "> The elements from indices 0 to n - 1 (inclusive) of original should form the first row of the constructed 2D array, the elements from indices n to 2 * n - 1 (inclusive) should form the second row of the constructed 2D array, and so on.\n",
    "\n",
    "> Return an m x n 2D array constructed according to the above procedure, or an empty 2D array if it is impossible.\n",
    "\n",
    "\n",
    "Source: https://leetcode.com/problems/convert-1d-array-into-2d-array/"
   ]
  },
  {
   "cell_type": "markdown",
   "id": "d7e8d774",
   "metadata": {},
   "source": [
    "## Solution\n",
    "\n",
    "\n",
    "### 1. State the problem clearly. Identify the input & output formats.\n",
    "\n",
    "\n",
    "**Problem**\n",
    "\n",
    "> convert 1D to 2D, m=row, n=column <br>\n",
    "> If not possible than return [].\n",
    "\n",
    "<br/>\n",
    "\n",
    "\n",
    "**Input**\n",
    "\n",
    "1. original = [1,2,3,4]\n",
    "2. m = 2\n",
    "3. n = 2\n",
    "\n",
    "\n",
    "**Output**\n",
    "\n",
    "1. [[1,2],[3,4]]\n",
    "\n",
    "\n",
    "<br/>\n",
    "\n",
    "Based on the above, we can now create a signature of our function:"
   ]
  },
  {
   "cell_type": "code",
   "execution_count": 1,
   "id": "2066c59e",
   "metadata": {},
   "outputs": [],
   "source": [
    "def create_2D_list(original, m, n):\n",
    "    pass"
   ]
  },
  {
   "cell_type": "markdown",
   "id": "d6a980f9",
   "metadata": {},
   "source": [
    "### 2. Come up with some example inputs & outputs. Try to cover all edge cases.\n",
    "\n",
    "\n",
    "1. `original` contain 1 element.\n",
    "2. `original` contain more than 1 element.\n",
    "3. Impossible to create 2D list."
   ]
  },
  {
   "cell_type": "code",
   "execution_count": 2,
   "id": "31370543",
   "metadata": {},
   "outputs": [],
   "source": [
    "tests = []"
   ]
  },
  {
   "cell_type": "code",
   "execution_count": 3,
   "id": "f76e7f08",
   "metadata": {},
   "outputs": [],
   "source": [
    "tests.append({\n",
    "    'input': {\n",
    "        'original' : [1],\n",
    "        'm' : 1,\n",
    "        'n' : 1\n",
    "    },\n",
    "    'output': [[1]]\n",
    "})"
   ]
  },
  {
   "cell_type": "code",
   "execution_count": 4,
   "id": "fb327405",
   "metadata": {},
   "outputs": [],
   "source": [
    "tests.append({\n",
    "    'input': {\n",
    "        'original' : [1, 2, 3],\n",
    "        'm' : 1,\n",
    "        'n' : 3\n",
    "    },\n",
    "    'output': [[1, 2, 3]]\n",
    "})"
   ]
  },
  {
   "cell_type": "code",
   "execution_count": 5,
   "id": "08134a2b",
   "metadata": {},
   "outputs": [],
   "source": [
    "tests.append({\n",
    "    'input': {\n",
    "        'original' : [1, 2, 3, 4],\n",
    "        'm' : 2,\n",
    "        'n' : 2\n",
    "    },\n",
    "    'output': [[1,2],[3,4]]\n",
    "})"
   ]
  },
  {
   "cell_type": "code",
   "execution_count": 6,
   "id": "8212c894",
   "metadata": {},
   "outputs": [],
   "source": [
    "tests.append({\n",
    "    'input': {\n",
    "        'original' : [1, 2, 3, 4],\n",
    "        'm' : 2,\n",
    "        'n' : 3\n",
    "    },\n",
    "    'output': []\n",
    "})"
   ]
  },
  {
   "cell_type": "markdown",
   "id": "e881b6ff",
   "metadata": {},
   "source": [
    "### 3. Come up with a correct solution for the problem. State it in plain English.\n",
    "\n",
    "\n",
    "1. Create empty a list `result`.\n",
    "2. Check 2D possible.\n",
    "3. Iterate loop m times.\n",
    "4. Each time append appropriate list.\n",
    "5. Return 2D list `result`."
   ]
  },
  {
   "cell_type": "markdown",
   "id": "e82eb080",
   "metadata": {},
   "source": [
    "###  4. Implement the solution and test it using example inputs. Fix bugs, if any."
   ]
  },
  {
   "cell_type": "code",
   "execution_count": 7,
   "id": "977f6188",
   "metadata": {},
   "outputs": [],
   "source": [
    "def create_2D_list(original, m, n):\n",
    "    \n",
    "    # Empty list\n",
    "    result = []\n",
    "    \n",
    "    # Check base condition\n",
    "    if len(original) != m*n:\n",
    "        return result\n",
    "    \n",
    "    # Iterate loop m=row time\n",
    "    for i in range(m):\n",
    "        \n",
    "        # Append appropriate list\n",
    "        result.append(original[i*n:i*n+n])\n",
    "    \n",
    "    # Return 2D list\n",
    "    return result"
   ]
  },
  {
   "cell_type": "code",
   "execution_count": 8,
   "id": "7a5c23a2",
   "metadata": {},
   "outputs": [
    {
     "name": "stdout",
     "output_type": "stream",
     "text": [
      "True\n",
      "True\n",
      "True\n",
      "True\n"
     ]
    }
   ],
   "source": [
    "for i in range(len(tests)):\n",
    "    print(create_2D_list(**tests[i]['input']) == tests[i]['output'])"
   ]
  },
  {
   "cell_type": "markdown",
   "id": "43746b77",
   "metadata": {},
   "source": [
    "### 5. Analyze the algorithm's complexity and identify inefficiencies, if any."
   ]
  },
  {
   "cell_type": "markdown",
   "id": "39fa4f7a",
   "metadata": {},
   "source": [
    "> Time complexity : **O(N^2)** <br>\n",
    "> Space complexity : **O(1)** <br>"
   ]
  },
  {
   "cell_type": "markdown",
   "id": "d39addc8",
   "metadata": {},
   "source": [
    "##### Another Solution:\n",
    "\n",
    "```python\n",
    "def create_2D_list(original, m, n):\n",
    "    result=[]\n",
    "    if m*n==len(original):\n",
    "        for i in range(0,m*n,n):\n",
    "            result.append(original[i:i+n])\n",
    "    return result\n",
    "```"
   ]
  }
 ],
 "metadata": {
  "kernelspec": {
   "display_name": "Python 3 (ipykernel)",
   "language": "python",
   "name": "python3"
  },
  "language_info": {
   "codemirror_mode": {
    "name": "ipython",
    "version": 3
   },
   "file_extension": ".py",
   "mimetype": "text/x-python",
   "name": "python",
   "nbconvert_exporter": "python",
   "pygments_lexer": "ipython3",
   "version": "3.10.8"
  }
 },
 "nbformat": 4,
 "nbformat_minor": 5
}
