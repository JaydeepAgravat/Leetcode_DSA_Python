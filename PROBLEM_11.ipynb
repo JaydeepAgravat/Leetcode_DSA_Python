{
 "cells": [
  {
   "cell_type": "markdown",
   "id": "e5d4903a",
   "metadata": {},
   "source": [
    "# Merge Two Sorted Lists"
   ]
  },
  {
   "cell_type": "markdown",
   "id": "e00f4d89",
   "metadata": {},
   "source": [
    "## Problem Statement\n",
    "\n",
    "\n",
    "> You are given the heads of two sorted linked lists list1 and list2.\n",
    "\n",
    "> Merge the two lists in a one sorted list. The list should be made by splicing together the nodes of the first two lists.\n",
    "\n",
    "> Return the head of the merged linked list.\n",
    "\n",
    "\n",
    "Source: https://leetcode.com/problems/merge-two-sorted-lists/description/"
   ]
  },
  {
   "cell_type": "markdown",
   "id": "d7e8d774",
   "metadata": {},
   "source": [
    "## Solution\n",
    "\n",
    "\n",
    "### 1. State the problem clearly. Identify the input & output formats.\n",
    "\n",
    "\n",
    "**Problem**\n",
    "\n",
    "> The heads of two sorted linked lists list1 and list2 is given.\n",
    "> Return the head of the merged linked list.\n",
    "\n",
    "<br/>\n",
    "\n",
    "\n",
    "**Input**\n",
    "\n",
    "1. list1 = [1,2,4]\n",
    "2. list2 = [1,3,4]\n",
    "\n",
    "\n",
    "**Output**\n",
    "\n",
    "1. [1,1,2,3,4,4]\n",
    "\n",
    "\n",
    "<br/>\n",
    "\n",
    "Based on the above, we can now create a signature of our function:"
   ]
  },
  {
   "cell_type": "code",
   "execution_count": 1,
   "id": "2066c59e",
   "metadata": {},
   "outputs": [],
   "source": [
    "def merge_two_list(list1, list2):\n",
    "    pass"
   ]
  },
  {
   "cell_type": "markdown",
   "id": "d6a980f9",
   "metadata": {},
   "source": [
    "### 2. Come up with some example inputs & outputs. Try to cover all edge cases.\n",
    "\n",
    "\n",
    "1. `list1` & `list2` is empty.\n",
    "2. `list1` is empty.\n",
    "3. `list2` is empty.\n",
    "4. `list1` & `list2` is contain random & duplicate number."
   ]
  },
  {
   "cell_type": "markdown",
   "id": "e881b6ff",
   "metadata": {},
   "source": [
    "### 3. Come up with a correct solution for the problem. State it in plain English.\n",
    "\n",
    "\n",
    "1. Create a single node.\n",
    "2. Set a loop for merge the two linked list\n",
    "3. Return merge linked list"
   ]
  },
  {
   "cell_type": "markdown",
   "id": "e82eb080",
   "metadata": {},
   "source": [
    "###  4. Implement the solution and test it using example inputs. Fix bugs, if any."
   ]
  },
  {
   "cell_type": "markdown",
   "id": "7c1cd869",
   "metadata": {},
   "source": [
    "##### Definition for singly-linked list.\n",
    "``` python\n",
    " class ListNode:\n",
    "     def __init__(self, val=0, next=None):\n",
    "         self.val = val\n",
    "         self.next = next\n",
    "```"
   ]
  },
  {
   "cell_type": "code",
   "execution_count": 2,
   "id": "977f6188",
   "metadata": {},
   "outputs": [],
   "source": [
    "def merge_two_list(list1, list2):\n",
    "    \n",
    "    # Create a single node\n",
    "    curr = dummy = ListNode()\n",
    "    \n",
    "    # Set a loop for merge the two linked list\n",
    "    while list1 and list2:\n",
    "        if list1.val < list2.val:\n",
    "            curr.next = list1\n",
    "            list1 = list1.next\n",
    "        else:\n",
    "            curr.next = list2\n",
    "            list2 = list2.next\n",
    "        curr = curr.next\n",
    "\n",
    "    if list1:\n",
    "        curr.next = list1\n",
    "    if list2:\n",
    "        curr.next = list2\n",
    "        \n",
    "    # Return merge linked list\n",
    "    return dummy.next"
   ]
  },
  {
   "cell_type": "markdown",
   "id": "43746b77",
   "metadata": {},
   "source": [
    "### 5. Analyze the algorithm's complexity and identify inefficiencies, if any."
   ]
  },
  {
   "cell_type": "markdown",
   "id": "209d7d72",
   "metadata": {},
   "source": [
    "> Time complexity : **O(N)** <br>\n",
    "> Space complexity : **O(1)**"
   ]
  }
 ],
 "metadata": {
  "kernelspec": {
   "display_name": "Python 3 (ipykernel)",
   "language": "python",
   "name": "python3"
  },
  "language_info": {
   "codemirror_mode": {
    "name": "ipython",
    "version": 3
   },
   "file_extension": ".py",
   "mimetype": "text/x-python",
   "name": "python",
   "nbconvert_exporter": "python",
   "pygments_lexer": "ipython3",
   "version": "3.10.8"
  }
 },
 "nbformat": 4,
 "nbformat_minor": 5
}
