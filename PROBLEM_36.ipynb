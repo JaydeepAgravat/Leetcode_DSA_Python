{
 "cells": [
  {
   "cell_type": "markdown",
   "id": "e5d4903a",
   "metadata": {},
   "source": [
    "# Maximum Product of Three Numbers"
   ]
  },
  {
   "cell_type": "markdown",
   "id": "e00f4d89",
   "metadata": {},
   "source": [
    "## Problem Statement\n",
    "\n",
    "\n",
    "> Given an integer array nums, find three numbers whose product is maximum and return the maximum product.\n",
    "\n",
    "\n",
    "Source: https://leetcode.com/problems/maximum-product-of-three-numbers/description/"
   ]
  },
  {
   "cell_type": "markdown",
   "id": "d7e8d774",
   "metadata": {},
   "source": [
    "## Solution\n",
    "\n",
    "\n",
    "### 1. State the problem clearly. Identify the input & output formats.\n",
    "\n",
    "\n",
    "**Problem**\n",
    "\n",
    "> Given an integer array nums, find three numbers whose product is maximum and return the maximum product.\n",
    "\n",
    "<br/>\n",
    "\n",
    "\n",
    "**Input**\n",
    "\n",
    "1. nums = [1,2,3]\n",
    "\n",
    "**Output**\n",
    "\n",
    "1. 6\n",
    "\n",
    "\n",
    "<br/>\n",
    "\n",
    "Based on the above, we can now create a signature of our function:"
   ]
  },
  {
   "cell_type": "code",
   "execution_count": 1,
   "id": "2066c59e",
   "metadata": {},
   "outputs": [],
   "source": [
    "def maximum_product(nums):\n",
    "    pass"
   ]
  },
  {
   "cell_type": "markdown",
   "id": "d6a980f9",
   "metadata": {},
   "source": [
    "### 2. Come up with some example inputs & outputs. Try to cover all edge cases.\n",
    "\n",
    "\n",
    "```\n",
    "1. + + + (List +/-)\n",
    "2. - - - (List -)\n",
    "3. + + - (List 2+/1-)\n",
    "4. + - - (List +/-)\n",
    "```"
   ]
  },
  {
   "cell_type": "code",
   "execution_count": 2,
   "id": "31370543",
   "metadata": {},
   "outputs": [],
   "source": [
    "tests = []"
   ]
  },
  {
   "cell_type": "code",
   "execution_count": 3,
   "id": "f76e7f08",
   "metadata": {},
   "outputs": [],
   "source": [
    "tests.append({\n",
    "    'input': {\n",
    "        'nums' : [-3,-2,-1,0,5,6,7]\n",
    "    },\n",
    "    'output': 210\n",
    "})"
   ]
  },
  {
   "cell_type": "code",
   "execution_count": 4,
   "id": "fb327405",
   "metadata": {},
   "outputs": [],
   "source": [
    "tests.append({\n",
    "    'input': {\n",
    "        'nums' : [-5,-4,-3,-2,-1]\n",
    "    },\n",
    "    'output': -6\n",
    "})"
   ]
  },
  {
   "cell_type": "code",
   "execution_count": 5,
   "id": "08134a2b",
   "metadata": {},
   "outputs": [],
   "source": [
    "tests.append({\n",
    "    'input': {\n",
    "        'nums' : [-3,-2,-1,0,1,2,3]\n",
    "    },\n",
    "    'output': 18\n",
    "})"
   ]
  },
  {
   "cell_type": "code",
   "execution_count": 6,
   "id": "c3f7d7d2",
   "metadata": {},
   "outputs": [],
   "source": [
    "tests.append({\n",
    "    'input': {\n",
    "        'nums' : [-5,4,5]\n",
    "    },\n",
    "    'output': -100\n",
    "})"
   ]
  },
  {
   "cell_type": "markdown",
   "id": "e881b6ff",
   "metadata": {},
   "source": [
    "### 3. Come up with a correct solution for the problem. State it in plain English.\n",
    "\n",
    "\n",
    "> **Using Sorting** <br>\n",
    "> We need 2min & 3max value."
   ]
  },
  {
   "cell_type": "markdown",
   "id": "e82eb080",
   "metadata": {},
   "source": [
    "###  4. Implement the solution and test it using example inputs. Fix bugs, if any."
   ]
  },
  {
   "cell_type": "code",
   "execution_count": 7,
   "id": "977f6188",
   "metadata": {},
   "outputs": [],
   "source": [
    "def maximum_product(nums):\n",
    "    \n",
    "    # Sort\n",
    "    nums.sort()\n",
    "    \n",
    "    # Return maximum product\n",
    "    return max(nums[0]*nums[1]*nums[-1],nums[-3]*nums[-2]*nums[-1])"
   ]
  },
  {
   "cell_type": "code",
   "execution_count": 8,
   "id": "7a5c23a2",
   "metadata": {},
   "outputs": [
    {
     "name": "stdout",
     "output_type": "stream",
     "text": [
      "True\n",
      "True\n",
      "True\n",
      "True\n"
     ]
    }
   ],
   "source": [
    "for i in range(len(tests)):\n",
    "    print(maximum_product(tests[i]['input']['nums'])==tests[i]['output'])"
   ]
  },
  {
   "cell_type": "markdown",
   "id": "43746b77",
   "metadata": {},
   "source": [
    "### 5. Analyze the algorithm's complexity and identify inefficiencies, if any."
   ]
  },
  {
   "cell_type": "markdown",
   "id": "32dd18fa",
   "metadata": {},
   "source": [
    "> Time complexity : **O(N*log(N))** <br>\n",
    "> Space complexity : **O(N)**"
   ]
  },
  {
   "cell_type": "markdown",
   "id": "14c03d94",
   "metadata": {},
   "source": [
    "### 6. Apply the right technique to overcome the inefficiency. Repeat steps 3 to 6."
   ]
  },
  {
   "cell_type": "markdown",
   "id": "245275a7",
   "metadata": {},
   "source": [
    "> **Single Scan**"
   ]
  },
  {
   "cell_type": "markdown",
   "id": "6c81c692",
   "metadata": {},
   "source": [
    "### 7. Come up with a correct solution for the problem. State it in plain English.\n",
    "\n",
    "\n",
    "> We can find out the larger value out of min1×min2×max1 and max1×max2×max3 to find the required maximum product.\n",
    "\n",
    "> find the required 2 smallest values(min1 and min2) and the three largest values(max1,max2,max3) in the nums array"
   ]
  },
  {
   "cell_type": "markdown",
   "id": "6986aefd",
   "metadata": {},
   "source": [
    "### 8. Implement the solution and test it using example inputs. Fix bugs, if any."
   ]
  },
  {
   "cell_type": "code",
   "execution_count": 9,
   "id": "4da38c43",
   "metadata": {},
   "outputs": [],
   "source": [
    "def maximum_product(nums):\n",
    "    \n",
    "    # Set value for maximum\n",
    "    mx1 = mx2 = mx3 = -1001\n",
    "    \n",
    "    # Set value for minimum\n",
    "    mn1 = mn2 = 1001\n",
    "\n",
    "    # For finding 2Small & 3Large values\n",
    "    for num in nums:\n",
    "\n",
    "        # For min\n",
    "        if num <= mn1:\n",
    "            mn2 = mn1\n",
    "            mn1 = num\n",
    "        elif num <= mn2:\n",
    "            mn2 = num\n",
    "\n",
    "        # For max\n",
    "        if num >= mx1:\n",
    "            mx3 = mx2\n",
    "            mx2 = mx1\n",
    "            mx1 = num\n",
    "        elif num >= mx2:\n",
    "            mx3 = mx2\n",
    "            mx2 = num\n",
    "        elif num >= mx3:\n",
    "            mx3 = num\n",
    "\n",
    "    # Return maximum product\n",
    "    return max(mn1*mn2*mx1,mx1*mx2*mx3)"
   ]
  },
  {
   "cell_type": "code",
   "execution_count": 10,
   "id": "2f8759d5",
   "metadata": {},
   "outputs": [
    {
     "name": "stdout",
     "output_type": "stream",
     "text": [
      "True\n",
      "True\n",
      "True\n",
      "True\n"
     ]
    }
   ],
   "source": [
    "for i in range(len(tests)):\n",
    "    print(maximum_product(tests[i]['input']['nums'])==tests[i]['output'])"
   ]
  },
  {
   "cell_type": "markdown",
   "id": "35da7de7",
   "metadata": {},
   "source": [
    "### 9. Analyze the algorithm's complexity and identify inefficiencies, if any."
   ]
  },
  {
   "cell_type": "markdown",
   "id": "0ed44435",
   "metadata": {},
   "source": [
    "> Time complexity : **O(N)** <br>\n",
    "> Space complexity : **O(1)**"
   ]
  }
 ],
 "metadata": {
  "kernelspec": {
   "display_name": "Python 3 (ipykernel)",
   "language": "python",
   "name": "python3"
  },
  "language_info": {
   "codemirror_mode": {
    "name": "ipython",
    "version": 3
   },
   "file_extension": ".py",
   "mimetype": "text/x-python",
   "name": "python",
   "nbconvert_exporter": "python",
   "pygments_lexer": "ipython3",
   "version": "3.10.8"
  }
 },
 "nbformat": 4,
 "nbformat_minor": 5
}
