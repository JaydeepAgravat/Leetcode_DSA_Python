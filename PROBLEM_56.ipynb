{
 "cells": [
  {
   "cell_type": "markdown",
   "id": "e5d4903a",
   "metadata": {},
   "source": [
    "# Problem  Single Number"
   ]
  },
  {
   "cell_type": "markdown",
   "id": "e00f4d89",
   "metadata": {},
   "source": [
    "## Problem Statement\n",
    "\n",
    "\n",
    "> Given a non-empty array of integers nums, every element appears twice except for one. Find that single one.\n",
    "\n",
    "\n",
    "Source: https://leetcode.com/problems/single-number/"
   ]
  },
  {
   "cell_type": "markdown",
   "id": "d7e8d774",
   "metadata": {},
   "source": [
    "## Solution\n",
    "\n",
    "\n",
    "### 1. State the problem clearly. Identify the input & output formats.\n",
    "\n",
    "\n",
    "**Problem**\n",
    "\n",
    "> The list `nums` is non-empty, every element appears twice except for one.\n",
    "<br>\n",
    "> We need to find that single one.\n",
    "\n",
    "<br/>\n",
    "\n",
    "\n",
    "**Input**\n",
    "\n",
    "1. `nums`: A list of integer where every element appears twice except for one.\n",
    "E.g.`[4,1,2,1,2]`\n",
    "\n",
    "\n",
    "**Output**\n",
    "\n",
    "1. `single` : Not repeating element.\n",
    "E.g. 4\n",
    "\n",
    "\n",
    "<br/>\n",
    "\n",
    "Based on the above, we can now create a signature of our function:"
   ]
  },
  {
   "cell_type": "code",
   "execution_count": 1,
   "id": "2066c59e",
   "metadata": {},
   "outputs": [],
   "source": [
    "def single_number(nums):\n",
    "    pass"
   ]
  },
  {
   "cell_type": "markdown",
   "id": "d6a980f9",
   "metadata": {},
   "source": [
    "### 2. Come up with some example inputs & outputs. Try to cover all edge cases.\n",
    "\n",
    "\n",
    "1. The list `nums` contain just one element.\n",
    "2. The list `nums` contain negative element.\n",
    "3. The list `nums` contain more than one element"
   ]
  },
  {
   "cell_type": "code",
   "execution_count": 2,
   "id": "31370543",
   "metadata": {},
   "outputs": [],
   "source": [
    "tests = []"
   ]
  },
  {
   "cell_type": "code",
   "execution_count": 3,
   "id": "f76e7f08",
   "metadata": {},
   "outputs": [],
   "source": [
    "tests.append({\n",
    "    'input': {\n",
    "        'nums' : [10]\n",
    "    },\n",
    "    'output': 10\n",
    "})"
   ]
  },
  {
   "cell_type": "code",
   "execution_count": 4,
   "id": "c24dc89e",
   "metadata": {},
   "outputs": [],
   "source": [
    "tests.append({\n",
    "    'input': {\n",
    "        'nums' : [-1, -3, -1, -3, 2]\n",
    "    },\n",
    "    'output': 2\n",
    "})"
   ]
  },
  {
   "cell_type": "code",
   "execution_count": 5,
   "id": "fb327405",
   "metadata": {},
   "outputs": [],
   "source": [
    "tests.append({\n",
    "    'input': {\n",
    "        'nums' : [4, 1, 2, 1, 2]\n",
    "    },\n",
    "    'output': 4\n",
    "})"
   ]
  },
  {
   "cell_type": "markdown",
   "id": "e881b6ff",
   "metadata": {},
   "source": [
    "### 3. Come up with a correct solution for the problem. State it in plain English.\n",
    "\n",
    "\n",
    "1. Create a set `set_nums` which contain the list `nums`'s element.\n",
    "2. Perform sum operation on both set `set_nums` and list `nums`. \n",
    "3. Subtract both sums.\n",
    "4. Return the single number."
   ]
  },
  {
   "cell_type": "markdown",
   "id": "e82eb080",
   "metadata": {},
   "source": [
    "###  4. Implement the solution and test it using example inputs. Fix bugs, if any."
   ]
  },
  {
   "cell_type": "code",
   "execution_count": 6,
   "id": "977f6188",
   "metadata": {},
   "outputs": [],
   "source": [
    "def single_number(nums):\n",
    "    \n",
    "    # Create a set\n",
    "    set_nums = set(nums)\n",
    "    \n",
    "    # Perform sum on both list and set\n",
    "    sum_of_set = sum(set_nums)\n",
    "    sum_of_list = sum(nums)\n",
    "    \n",
    "    # Find single number\n",
    "    single = sum_of_set * 2 - sum_of_list\n",
    "    \n",
    "    # Return single number\n",
    "    return single"
   ]
  },
  {
   "cell_type": "code",
   "execution_count": 7,
   "id": "7a5c23a2",
   "metadata": {},
   "outputs": [
    {
     "name": "stdout",
     "output_type": "stream",
     "text": [
      "True\n",
      "True\n",
      "True\n"
     ]
    }
   ],
   "source": [
    "for i in range(3):\n",
    "    print(single_number(tests[i]['input']['nums'])==tests[i]['output'])"
   ]
  },
  {
   "cell_type": "markdown",
   "id": "43746b77",
   "metadata": {},
   "source": [
    "### 5. Analyze the algorithm's complexity and identify inefficiencies, if any."
   ]
  },
  {
   "cell_type": "markdown",
   "id": "20c758a1",
   "metadata": {},
   "source": [
    "> Time complexity : **O(N)**\n",
    "<br>\n",
    "> Space complexity : **O(N)**"
   ]
  },
  {
   "cell_type": "markdown",
   "id": "14c03d94",
   "metadata": {},
   "source": [
    "### 6. Apply the right technique to overcome the inefficiency. Repeat steps 3 to 6."
   ]
  },
  {
   "cell_type": "markdown",
   "id": "d3bf6f09",
   "metadata": {},
   "source": [
    "> **Using XOR**\n",
    "<br>\n",
    "> To eliminate the duplicate element in the list."
   ]
  },
  {
   "cell_type": "markdown",
   "id": "6c81c692",
   "metadata": {},
   "source": [
    "### 7. Come up with a correct solution for the problem. State it in plain English.\n",
    "\n",
    "1. Create a variable `single` .\n",
    "2. Iterating over the loop `nums` to perform XOR operation.\n",
    "3. Return a variable `single`."
   ]
  },
  {
   "cell_type": "markdown",
   "id": "6986aefd",
   "metadata": {},
   "source": [
    "### 8. Implement the solution and test it using example inputs. Fix bugs, if any."
   ]
  },
  {
   "cell_type": "code",
   "execution_count": 8,
   "id": "4da38c43",
   "metadata": {},
   "outputs": [],
   "source": [
    "def single_number(nums):\n",
    "\n",
    "    # Create variable single\n",
    "    single = 0 \n",
    "\n",
    "    # Set a loop for XOR operation\n",
    "    for num in nums:\n",
    "        single ^= num\n",
    "        \n",
    "    # Return single number\n",
    "    return single"
   ]
  },
  {
   "cell_type": "code",
   "execution_count": 9,
   "id": "ae596296",
   "metadata": {},
   "outputs": [
    {
     "name": "stdout",
     "output_type": "stream",
     "text": [
      "True\n",
      "True\n",
      "True\n"
     ]
    }
   ],
   "source": [
    "for i in range(3):\n",
    "    print(single_number(tests[i]['input']['nums'])==tests[i]['output'])"
   ]
  },
  {
   "cell_type": "markdown",
   "id": "35da7de7",
   "metadata": {},
   "source": [
    "### 9. Analyze the algorithm's complexity and identify inefficiencies, if any."
   ]
  },
  {
   "cell_type": "markdown",
   "id": "85317a30",
   "metadata": {},
   "source": [
    "> Time complexity : **O(N)**\n",
    "<br>\n",
    "> Space complexity : **O(1)** "
   ]
  }
 ],
 "metadata": {
  "kernelspec": {
   "display_name": "Python 3 (ipykernel)",
   "language": "python",
   "name": "python3"
  },
  "language_info": {
   "codemirror_mode": {
    "name": "ipython",
    "version": 3
   },
   "file_extension": ".py",
   "mimetype": "text/x-python",
   "name": "python",
   "nbconvert_exporter": "python",
   "pygments_lexer": "ipython3",
   "version": "3.10.8"
  }
 },
 "nbformat": 4,
 "nbformat_minor": 5
}
