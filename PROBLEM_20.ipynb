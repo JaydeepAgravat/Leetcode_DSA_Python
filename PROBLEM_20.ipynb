{
 "cells": [
  {
   "cell_type": "markdown",
   "id": "e5d4903a",
   "metadata": {},
   "source": [
    "#  Merge Sorted Array"
   ]
  },
  {
   "cell_type": "markdown",
   "id": "e00f4d89",
   "metadata": {},
   "source": [
    "## Problem Statement\n",
    "\n",
    "\n",
    "> You are given two integer arrays nums1 and nums2, sorted in non-decreasing order, and two integers m and n, representing the number of elements in nums1 and nums2 respectively.\n",
    "\n",
    "> Merge nums1 and nums2 into a single array sorted in non-decreasing order.\n",
    "\n",
    "> The final sorted array should not be returned by the function, but instead be stored inside the array nums1. To accommodate this, nums1 has a length of m + n, where the first m elements denote the elements that should be merged, and the last n elements are set to 0 and should be ignored. nums2 has a length of n.\n",
    "\n",
    "\n",
    "Source: https://leetcode.com/problems/merge-sorted-array/description/"
   ]
  },
  {
   "cell_type": "markdown",
   "id": "d7e8d774",
   "metadata": {},
   "source": [
    "## Solution\n",
    "\n",
    "\n",
    "### 1. State the problem clearly. Identify the input & output formats.\n",
    "\n",
    "\n",
    "**Problem**\n",
    "\n",
    "> Merge Sorted Array in single array `nums1`.\n",
    "\n",
    "<br/>\n",
    "\n",
    "\n",
    "**Input**\n",
    "\n",
    "1. nums1 = [1,2,3,0,0,0],\n",
    "2. m = 3\n",
    "3. nums2 = [2,5,6]\n",
    "4. n = 3\n",
    "\n",
    "\n",
    "**Output**\n",
    "\n",
    "1. [1,2,2,3,5,6]\n",
    "\n",
    "\n",
    "<br/>\n",
    "\n",
    "Based on the above, we can now create a signature of our function:"
   ]
  },
  {
   "cell_type": "code",
   "execution_count": 1,
   "id": "2066c59e",
   "metadata": {},
   "outputs": [],
   "source": [
    "def merge(num1, m, num2, n):\n",
    "    pass"
   ]
  },
  {
   "cell_type": "markdown",
   "id": "d6a980f9",
   "metadata": {},
   "source": [
    "### 2. Come up with some example inputs & outputs. Try to cover all edge cases.\n",
    "\n",
    "\n",
    "1. All num1 element is greater than num2.\n",
    "2. All num2 element is smaller than num1.\n",
    "3. num1 & num2 contain some duplicate element."
   ]
  },
  {
   "cell_type": "markdown",
   "id": "e881b6ff",
   "metadata": {},
   "source": [
    "### 3. Come up with a correct solution for the problem. State it in plain English.\n",
    "\n",
    "\n",
    "> **Three pointer**"
   ]
  },
  {
   "cell_type": "markdown",
   "id": "e82eb080",
   "metadata": {},
   "source": [
    "###  4. Implement the solution and test it using example inputs. Fix bugs, if any."
   ]
  },
  {
   "cell_type": "code",
   "execution_count": 2,
   "id": "977f6188",
   "metadata": {},
   "outputs": [],
   "source": [
    "def merge(num1, m, num2, n):\n",
    "    \n",
    "    # Last index in num1\n",
    "    last = m+n-1\n",
    "    \n",
    "    # Merge in reverse order\n",
    "    while n>0:\n",
    "        \n",
    "        # Fill num1 with leftout num2 OR\n",
    "        # Greater element fill in last\n",
    "        if (num1[m-1] < num2[n-1]) or (m<=0):\n",
    "            num1[last] = num2[n-1]\n",
    "            n -= 1\n",
    "        else:\n",
    "            num1[last] = num1[m-1]\n",
    "            m -= 1\n",
    "        \n",
    "        # Decrement last index\n",
    "        last -= 1\n",
    "    \n",
    "    print(num1)"
   ]
  },
  {
   "cell_type": "code",
   "execution_count": 3,
   "id": "7a5c23a2",
   "metadata": {},
   "outputs": [
    {
     "name": "stdout",
     "output_type": "stream",
     "text": [
      "[1, 2, 2, 3, 5, 6]\n"
     ]
    }
   ],
   "source": [
    "merge([1,2,3,0,0,0],3,[2,5,6],3)"
   ]
  },
  {
   "cell_type": "markdown",
   "id": "43746b77",
   "metadata": {},
   "source": [
    "### 5. Analyze the algorithm's complexity and identify inefficiencies, if any."
   ]
  },
  {
   "cell_type": "markdown",
   "id": "e13014b4",
   "metadata": {},
   "source": [
    "> Time complexity : **O(N)** <br>\n",
    "> Space complexity : **O(1)**"
   ]
  }
 ],
 "metadata": {
  "kernelspec": {
   "display_name": "Python 3 (ipykernel)",
   "language": "python",
   "name": "python3"
  },
  "language_info": {
   "codemirror_mode": {
    "name": "ipython",
    "version": 3
   },
   "file_extension": ".py",
   "mimetype": "text/x-python",
   "name": "python",
   "nbconvert_exporter": "python",
   "pygments_lexer": "ipython3",
   "version": "3.10.8"
  }
 },
 "nbformat": 4,
 "nbformat_minor": 5
}
