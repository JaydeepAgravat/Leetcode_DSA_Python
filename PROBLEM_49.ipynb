{
 "cells": [
  {
   "cell_type": "markdown",
   "id": "e5d4903a",
   "metadata": {},
   "source": [
    "# Minimum Operations to Make the Array Increasing"
   ]
  },
  {
   "cell_type": "markdown",
   "id": "e00f4d89",
   "metadata": {},
   "source": [
    "## Problem Statement\n",
    "\n",
    "\n",
    "> You are given an integer array nums (0-indexed). In one operation, you can choose an element of the array and increment it by 1.\n",
    "For example, if nums = [1,2,3], you can choose to increment nums[1] to make nums = [1,3,3].\n",
    "Return the minimum number of operations needed to make nums strictly increasing.\n",
    "An array nums is strictly increasing if nums[i] < nums[i+1] for all 0 <= i < nums.length - 1. An array of length 1 is trivially strictly increasing.\n",
    "\n",
    "\n",
    "Source: https://leetcode.com/problems/minimum-operations-to-make-the-array-increasing/description/"
   ]
  },
  {
   "cell_type": "markdown",
   "id": "d7e8d774",
   "metadata": {},
   "source": [
    "## Solution\n",
    "\n",
    "\n",
    "### 1. State the problem clearly. Identify the input & output formats.\n",
    "\n",
    "\n",
    "**Problem**\n",
    "\n",
    "> You are given an integer array nums (0-indexed). In one operation, you can choose an element of the array and increment it by 1.\n",
    "For example, if nums = [1,2,3], you can choose to increment nums[1] to make nums = [1,3,3].\n",
    "Return the minimum number of operations needed to make nums strictly increasing.\n",
    "An array nums is strictly increasing if nums[i] < nums[i+1] for all 0 <= i < nums.length - 1. An array of length 1 is trivially strictly increasing.\n",
    "\n",
    "<br/>\n",
    "\n",
    "\n",
    "**Input**\n",
    "\n",
    "1. nums = [1,1,1]\n",
    "\n",
    "\n",
    "**Output**\n",
    "\n",
    "1. 3\n",
    "\n",
    "\n",
    "<br/>\n",
    "\n",
    "Based on the above, we can now create a signature of our function:"
   ]
  },
  {
   "cell_type": "code",
   "execution_count": 1,
   "id": "2066c59e",
   "metadata": {},
   "outputs": [],
   "source": [
    "def min_operations(nums):\n",
    "    pass"
   ]
  },
  {
   "cell_type": "markdown",
   "id": "d6a980f9",
   "metadata": {},
   "source": [
    "### 2. Come up with some example inputs & outputs. Try to cover all edge cases.\n",
    "\n",
    "\n",
    "1. nums length is 1.\n",
    "2. nums length is more than one with random value."
   ]
  },
  {
   "cell_type": "code",
   "execution_count": 2,
   "id": "31370543",
   "metadata": {},
   "outputs": [],
   "source": [
    "tests = []"
   ]
  },
  {
   "cell_type": "code",
   "execution_count": 3,
   "id": "f76e7f08",
   "metadata": {},
   "outputs": [],
   "source": [
    "tests.append({\n",
    "    'input': {\n",
    "        'nums' : [8]\n",
    "    },\n",
    "    'output': 0\n",
    "})"
   ]
  },
  {
   "cell_type": "code",
   "execution_count": 4,
   "id": "fb327405",
   "metadata": {},
   "outputs": [],
   "source": [
    "tests.append({\n",
    "    'input': {\n",
    "        'nums' : [1,5,2,4,1]\n",
    "    },\n",
    "    'output': 14\n",
    "})"
   ]
  },
  {
   "cell_type": "markdown",
   "id": "e881b6ff",
   "metadata": {},
   "source": [
    "### 3. Come up with a correct solution for the problem. State it in plain English.\n",
    "\n",
    "\n",
    "1. Use a dummy value of 0 to initialize the prev;\n",
    "2. Traverse the input array, compare each element cur with the modified previous element prev; If cur > prev, update prev to the value of cur for the prospective comparison in the next iteration; otherwise, we need to increase cur to at least prev + 1 to make the array strictly increasing; in this case, update prev by increment of 1."
   ]
  },
  {
   "cell_type": "markdown",
   "id": "e82eb080",
   "metadata": {},
   "source": [
    "###  4. Implement the solution and test it using example inputs. Fix bugs, if any."
   ]
  },
  {
   "cell_type": "code",
   "execution_count": 5,
   "id": "977f6188",
   "metadata": {},
   "outputs": [],
   "source": [
    "def min_operations(nums):\n",
    "    \n",
    "    # Set count of operations &\n",
    "    # Previous element to zero\n",
    "    count = prev = 0\n",
    "    \n",
    "    \n",
    "    # Set a loop for counting minimum operations\n",
    "    for curr in  nums:\n",
    "        \n",
    "        # If current element is greater than previous element\n",
    "        if curr > prev:\n",
    "            \n",
    "            # Then set previous element to current element\n",
    "            prev = curr\n",
    "            \n",
    "        # Otherwise\n",
    "        else:\n",
    "            \n",
    "            # Incremenet previous element\n",
    "            prev += 1\n",
    "            \n",
    "            # Count operation\n",
    "            count += prev - curr\n",
    "    \n",
    "    # Return minimum opearations\n",
    "    return count"
   ]
  },
  {
   "cell_type": "code",
   "execution_count": 6,
   "id": "7a5c23a2",
   "metadata": {},
   "outputs": [
    {
     "name": "stdout",
     "output_type": "stream",
     "text": [
      "True\n",
      "True\n"
     ]
    }
   ],
   "source": [
    "for i in range(len(tests)):\n",
    "    print(min_operations(tests[i]['input']['nums'])==tests[i]['output'])"
   ]
  },
  {
   "cell_type": "markdown",
   "id": "43746b77",
   "metadata": {},
   "source": [
    "### 5. Analyze the algorithm's complexity and identify inefficiencies, if any."
   ]
  },
  {
   "cell_type": "markdown",
   "id": "bca55701",
   "metadata": {},
   "source": [
    "> Time complexity : **O(N)** <br>\n",
    "> Spacec complexity : **O(1)**"
   ]
  }
 ],
 "metadata": {
  "kernelspec": {
   "display_name": "Python 3 (ipykernel)",
   "language": "python",
   "name": "python3"
  },
  "language_info": {
   "codemirror_mode": {
    "name": "ipython",
    "version": 3
   },
   "file_extension": ".py",
   "mimetype": "text/x-python",
   "name": "python",
   "nbconvert_exporter": "python",
   "pygments_lexer": "ipython3",
   "version": "3.10.8"
  }
 },
 "nbformat": 4,
 "nbformat_minor": 5
}
