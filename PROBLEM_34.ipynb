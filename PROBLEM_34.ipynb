{
 "cells": [
  {
   "cell_type": "markdown",
   "id": "e5d4903a",
   "metadata": {},
   "source": [
    "# Add Binary"
   ]
  },
  {
   "cell_type": "markdown",
   "id": "e00f4d89",
   "metadata": {},
   "source": [
    "## Problem Statement\n",
    "\n",
    "\n",
    "> Given two binary strings a and b, return their sum as a binary string.\n",
    "\n",
    "\n",
    "Source: https://leetcode.com/problems/add-binary/description/"
   ]
  },
  {
   "cell_type": "markdown",
   "id": "d7e8d774",
   "metadata": {},
   "source": [
    "## Solution\n",
    "\n",
    "\n",
    "### 1. State the problem clearly. Identify the input & output formats.\n",
    "\n",
    "\n",
    "**Problem**\n",
    "\n",
    "> Given two binary strings a and b, return their sum as a binary string.\n",
    "\n",
    "<br/>\n",
    "\n",
    "\n",
    "**Input**\n",
    "\n",
    "1. a = \"11\"\n",
    "2. b = \"1\"\n",
    "\n",
    "\n",
    "**Output**\n",
    "\n",
    "1. \"100\"\n",
    "\n",
    "\n",
    "<br/>\n",
    "\n",
    "Based on the above, we can now create a signature of our function:"
   ]
  },
  {
   "cell_type": "code",
   "execution_count": 1,
   "id": "2066c59e",
   "metadata": {},
   "outputs": [],
   "source": [
    "def add_binary(a, b):\n",
    "    pass"
   ]
  },
  {
   "cell_type": "markdown",
   "id": "d6a980f9",
   "metadata": {},
   "source": [
    "### 2. Come up with some example inputs & outputs. Try to cover all edge cases.\n",
    "\n",
    "\n",
    "1. Both string contains all 1's.\n",
    "2. Both string contains all 0's.\n",
    "3. Both string add & MSB contain 1.\n",
    "4. Both string add & MSB contain 0."
   ]
  },
  {
   "cell_type": "code",
   "execution_count": 2,
   "id": "31370543",
   "metadata": {},
   "outputs": [],
   "source": [
    "tests = []"
   ]
  },
  {
   "cell_type": "code",
   "execution_count": 3,
   "id": "f76e7f08",
   "metadata": {},
   "outputs": [],
   "source": [
    "tests.append({\n",
    "    'input': {\n",
    "        'a' : '111',\n",
    "        'b' : '111'\n",
    "    },\n",
    "    'output': '1110'\n",
    "})"
   ]
  },
  {
   "cell_type": "code",
   "execution_count": 4,
   "id": "fb327405",
   "metadata": {},
   "outputs": [],
   "source": [
    "tests.append({\n",
    "    'input': {\n",
    "        'a' : '0',\n",
    "        'b' : '0'\n",
    "    },\n",
    "    'output': '0'\n",
    "})"
   ]
  },
  {
   "cell_type": "code",
   "execution_count": 5,
   "id": "08134a2b",
   "metadata": {},
   "outputs": [],
   "source": [
    "tests.append({\n",
    "    'input': {\n",
    "        'a' : '111',\n",
    "        'b' : '1'\n",
    "    },\n",
    "    'output': '1000'\n",
    "})"
   ]
  },
  {
   "cell_type": "code",
   "execution_count": 6,
   "id": "426f8b26",
   "metadata": {},
   "outputs": [],
   "source": [
    "tests.append({\n",
    "    'input': {\n",
    "        'a' : '101',\n",
    "        'b' : '1'\n",
    "    },\n",
    "    'output': '110'\n",
    "})"
   ]
  },
  {
   "cell_type": "markdown",
   "id": "e881b6ff",
   "metadata": {},
   "source": [
    "### 3. Come up with a correct solution for the problem. State it in plain English.\n",
    "\n",
    "\n",
    "```python\n",
    "sum   = carry = 0/1\n",
    "sum   = sum + c1 + c2\n",
    "\n",
    "carry = sum(0|1|2|3) if sum>1 => 1 else => 0\n",
    "res   = sum(0|1|2|3) if sum(1|3) => 1 else sum(0|2) => 0\n",
    "\n",
    "# Repeat until c1 or c2 left\n",
    "```"
   ]
  },
  {
   "cell_type": "markdown",
   "id": "e82eb080",
   "metadata": {},
   "source": [
    "###  4. Implement the solution and test it using example inputs. Fix bugs, if any."
   ]
  },
  {
   "cell_type": "code",
   "execution_count": 7,
   "id": "977f6188",
   "metadata": {},
   "outputs": [],
   "source": [
    "def add_binary(a, b):\n",
    "    \n",
    "    # Set empty result string\n",
    "    res = ''\n",
    "    \n",
    "    # Set two pointer for left to right add\n",
    "    i, j = len(a)-1,len(b)-1\n",
    "    \n",
    "    # Initially carry is zero\n",
    "    carry = 0\n",
    "    \n",
    "    # Iterate over both string together\n",
    "    while i>=0 or j>=0:\n",
    "        \n",
    "        # Initialise sum with carry\n",
    "        sum = carry\n",
    "        \n",
    "        # Add a[i] value\n",
    "        if i>=0: sum += int(a[i])\n",
    "            \n",
    "        # Add b[j] value\n",
    "        if j>=0: sum += int(b[j])\n",
    "            \n",
    "        # Set carry\n",
    "        carry = 1 if sum>1 else 0\n",
    "        \n",
    "        # Add sum in res\n",
    "        res += str(sum%2)\n",
    "        \n",
    "        # Decrement pointer\n",
    "        i, j = i-1, j-1\n",
    "        \n",
    "    #  Add last carry in result if it is one\n",
    "    if carry==1:\n",
    "        res += str(carry)\n",
    "        \n",
    "    # Return result in reverse string\n",
    "    return res[::-1]"
   ]
  },
  {
   "cell_type": "code",
   "execution_count": 8,
   "id": "7a5c23a2",
   "metadata": {},
   "outputs": [
    {
     "name": "stdout",
     "output_type": "stream",
     "text": [
      "True\n",
      "True\n",
      "True\n",
      "True\n"
     ]
    }
   ],
   "source": [
    "for i in range(len(tests)):\n",
    "    print(add_binary(**tests[i]['input']) == tests[i]['output'])"
   ]
  },
  {
   "cell_type": "markdown",
   "id": "43746b77",
   "metadata": {},
   "source": [
    "### 5. Analyze the algorithm's complexity and identify inefficiencies, if any."
   ]
  },
  {
   "cell_type": "markdown",
   "id": "969065d9",
   "metadata": {},
   "source": [
    "> Time complexity : **O(max(M,N))** <br>\n",
    "> Space complexity : **O(max(M,N)**"
   ]
  }
 ],
 "metadata": {
  "kernelspec": {
   "display_name": "Python 3 (ipykernel)",
   "language": "python",
   "name": "python3"
  },
  "language_info": {
   "codemirror_mode": {
    "name": "ipython",
    "version": 3
   },
   "file_extension": ".py",
   "mimetype": "text/x-python",
   "name": "python",
   "nbconvert_exporter": "python",
   "pygments_lexer": "ipython3",
   "version": "3.10.8"
  }
 },
 "nbformat": 4,
 "nbformat_minor": 5
}
