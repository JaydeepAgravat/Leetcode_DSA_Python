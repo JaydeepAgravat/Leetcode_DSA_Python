{
 "cells": [
  {
   "cell_type": "markdown",
   "id": "e5d4903a",
   "metadata": {},
   "source": [
    "#  Sort the People"
   ]
  },
  {
   "cell_type": "markdown",
   "id": "e00f4d89",
   "metadata": {},
   "source": [
    "## Problem Statement\n",
    "\n",
    "\n",
    "> You are given an array of strings names, and an array heights that consists of distinct positive integers. Both arrays are of length n.\n",
    "\n",
    "> For each index i, names[i] and heights[i] denote the name and height of the ith person.\n",
    "\n",
    "> Return names sorted in descending order by the people's heights.\n",
    "\n",
    "Source: https://leetcode.com/problems/sort-the-people/description/"
   ]
  },
  {
   "cell_type": "markdown",
   "id": "d7e8d774",
   "metadata": {},
   "source": [
    "## Solution\n",
    "\n",
    "\n",
    "### 1. State the problem clearly. Identify the input & output formats.\n",
    "\n",
    "\n",
    "**Problem**\n",
    "\n",
    "> You are given an array of strings names, and an array heights that consists of distinct positive integers. Both arrays are of length n.\n",
    "\n",
    "> For each index i, names[i] and heights[i] denote the name and height of the ith person.\n",
    "\n",
    "> Return names sorted in descending order by the people's heights.\n",
    "\n",
    "\n",
    "<br/>\n",
    "\n",
    "\n",
    "**Input**\n",
    "\n",
    "1. names = [\"Mary\",\"John\",\"Emma\"]\n",
    "2. heights = [180,165,170]\n",
    "\n",
    "**Output**\n",
    "\n",
    "1. [\"Mary\",\"Emma\",\"John\"]\n",
    "\n",
    "\n",
    "<br/>\n",
    "\n",
    "Based on the above, we can now create a signature of our function:"
   ]
  },
  {
   "cell_type": "code",
   "execution_count": 1,
   "id": "2066c59e",
   "metadata": {},
   "outputs": [],
   "source": [
    "def sort_people(name, heights):\n",
    "    pass"
   ]
  },
  {
   "cell_type": "markdown",
   "id": "d6a980f9",
   "metadata": {},
   "source": [
    "### 2. Come up with some example inputs & outputs. Try to cover all edge cases.\n",
    "\n",
    "\n",
    "```\n",
    "n == names.length == heights.length\n",
    "1 <= n <= 10^3\n",
    "1 <= names[i].length <= 20\n",
    "1 <= heights[i] <= 10^5\n",
    "names[i] consists of lower and upper case English letters.\n",
    "All the values of heights are distinct.\n",
    "```"
   ]
  },
  {
   "cell_type": "markdown",
   "id": "e881b6ff",
   "metadata": {},
   "source": [
    "### 3. Come up with a correct solution for the problem. State it in plain English.\n",
    "\n",
    "\n",
    "> **Using dict**"
   ]
  },
  {
   "cell_type": "markdown",
   "id": "e82eb080",
   "metadata": {},
   "source": [
    "###  4. Implement the solution and test it using example inputs. Fix bugs, if any."
   ]
  },
  {
   "cell_type": "code",
   "execution_count": 2,
   "id": "977f6188",
   "metadata": {},
   "outputs": [],
   "source": [
    "def sort_people(names, heights):\n",
    "    \n",
    "    # Number of peoples\n",
    "    length = len(heights)\n",
    "    \n",
    "    # Empty dict to store 'height':'name'\n",
    "    mymap = {}\n",
    "\n",
    "    # Store heights & names\n",
    "    for i in range(length):\n",
    "        mymap[heights[i]] = names[i]\n",
    "\n",
    "    # Sort heights in decreasing order\n",
    "    heights.sort(reverse=True)\n",
    "    \n",
    "    # Empty result to store output(sortPeople)\n",
    "    res = []\n",
    "\n",
    "    # Append name of ppl in res list (sorted order)\n",
    "    for height in heights:\n",
    "        res.append(mymap[height])\n",
    "\n",
    "    # Return sort ppl list\n",
    "    return res"
   ]
  },
  {
   "cell_type": "code",
   "execution_count": 3,
   "id": "7a5c23a2",
   "metadata": {},
   "outputs": [
    {
     "data": {
      "text/plain": [
       "['Mary', 'Emma', 'John']"
      ]
     },
     "execution_count": 3,
     "metadata": {},
     "output_type": "execute_result"
    }
   ],
   "source": [
    "sort_people([\"Mary\",\"John\",\"Emma\"],[180,165,170])"
   ]
  },
  {
   "cell_type": "markdown",
   "id": "43746b77",
   "metadata": {},
   "source": [
    "### 5. Analyze the algorithm's complexity and identify inefficiencies, if any."
   ]
  },
  {
   "cell_type": "markdown",
   "id": "1d4e9927",
   "metadata": {},
   "source": [
    "> Time complexity : **O(N)** <br>\n",
    "> Space complexity : **O(N)**"
   ]
  },
  {
   "cell_type": "markdown",
   "id": "14c03d94",
   "metadata": {},
   "source": [
    "### 6. Apply the right technique to overcome the inefficiency. Repeat steps 3 to 6."
   ]
  },
  {
   "cell_type": "markdown",
   "id": "d8e9c9d6",
   "metadata": {},
   "source": [
    "> **Simple Swap** <br>\n",
    "> `heights` distinct"
   ]
  },
  {
   "cell_type": "markdown",
   "id": "6c81c692",
   "metadata": {},
   "source": [
    "### 7. Come up with a correct solution for the problem. State it in plain English.\n",
    "\n",
    "1. Every time calculate max height (first,second.....) <- max\n",
    "2. Index of max height.\n",
    "3. swap name & height using max height."
   ]
  },
  {
   "cell_type": "markdown",
   "id": "6986aefd",
   "metadata": {},
   "source": [
    "### 8. Implement the solution and test it using example inputs. Fix bugs, if any."
   ]
  },
  {
   "cell_type": "code",
   "execution_count": 4,
   "id": "4da38c43",
   "metadata": {},
   "outputs": [],
   "source": [
    "def sort_people(names, heights):\n",
    "    \n",
    "    # Number of ppl\n",
    "    n = len(heights)\n",
    "    \n",
    "    # Set a loop for repetation\n",
    "    for i in range(n):\n",
    "        \n",
    "        # Max height every time -> first max, second max ....\n",
    "        mx_height = max(heights[i:])\n",
    "        \n",
    "        # Index of mx height\n",
    "        tall_index = heights.index(mx_height)\n",
    "        \n",
    "        # Swap names & height\n",
    "        # With tall index\n",
    "        swap(heights,i,tall_index)\n",
    "        swap(names,i,tall_index)\n",
    "    \n",
    "    # Return sorted names\n",
    "    return names\n",
    "\n",
    "\n",
    "def swap(lst,i,tall_index):\n",
    "    lst[i], lst[tall_index] = lst[tall_index], lst[i]\n"
   ]
  },
  {
   "cell_type": "code",
   "execution_count": 5,
   "id": "2f8759d5",
   "metadata": {},
   "outputs": [
    {
     "data": {
      "text/plain": [
       "['Mary', 'Emma', 'John', 'df']"
      ]
     },
     "execution_count": 5,
     "metadata": {},
     "output_type": "execute_result"
    }
   ],
   "source": [
    "sort_people([\"Mary\",\"John\",\"Emma\",\"df\"],[180,165,170,23])"
   ]
  },
  {
   "cell_type": "markdown",
   "id": "35da7de7",
   "metadata": {},
   "source": [
    "### 9. Analyze the algorithm's complexity and identify inefficiencies, if any."
   ]
  },
  {
   "cell_type": "markdown",
   "id": "6baff747",
   "metadata": {},
   "source": [
    "> Time complexity : **O(N^2)** <br>\n",
    "> Space complexity : **O(1)**"
   ]
  }
 ],
 "metadata": {
  "kernelspec": {
   "display_name": "Python 3 (ipykernel)",
   "language": "python",
   "name": "python3"
  },
  "language_info": {
   "codemirror_mode": {
    "name": "ipython",
    "version": 3
   },
   "file_extension": ".py",
   "mimetype": "text/x-python",
   "name": "python",
   "nbconvert_exporter": "python",
   "pygments_lexer": "ipython3",
   "version": "3.10.8"
  }
 },
 "nbformat": 4,
 "nbformat_minor": 5
}
