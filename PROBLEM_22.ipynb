{
 "cells": [
  {
   "cell_type": "markdown",
   "id": "e5d4903a",
   "metadata": {},
   "source": [
    "# Transpose Matrix"
   ]
  },
  {
   "cell_type": "markdown",
   "id": "e00f4d89",
   "metadata": {},
   "source": [
    "## Problem Statement\n",
    "\n",
    "\n",
    "> Given a 2D integer array matrix, return the transpose of matrix.\n",
    "\n",
    "\n",
    "Source: https://leetcode.com/problems/transpose-matrix/description/"
   ]
  },
  {
   "cell_type": "markdown",
   "id": "d7e8d774",
   "metadata": {},
   "source": [
    "## Solution\n",
    "\n",
    "\n",
    "### 1. State the problem clearly. Identify the input & output formats.\n",
    "\n",
    "\n",
    "**Problem**\n",
    "\n",
    "> Given a 2D integer array matrix, return the transpose of matrix.\n",
    "\n",
    "<br/>\n",
    "\n",
    "\n",
    "**Input**\n",
    "\n",
    "1. matrix = [[1,2,3],[4,5,6]]\n",
    "\n",
    "\n",
    "**Output**\n",
    "\n",
    "1. [[1,4],[2,5],[3,6]]\n",
    "\n",
    "\n",
    "<br/>\n",
    "\n",
    "Based on the above, we can now create a signature of our function:"
   ]
  },
  {
   "cell_type": "code",
   "execution_count": 1,
   "id": "2066c59e",
   "metadata": {},
   "outputs": [],
   "source": [
    "def transpose(matrix):\n",
    "    pass"
   ]
  },
  {
   "cell_type": "markdown",
   "id": "d6a980f9",
   "metadata": {},
   "source": [
    "### 2. Come up with some example inputs & outputs. Try to cover all edge cases.\n",
    "\n",
    "\n",
    "1. matrix (1 * 1)\n",
    "2. mateic (3 * 3)\n",
    "3. matrix (5 * 3)\n",
    "4. matrix (3 * 5)"
   ]
  },
  {
   "cell_type": "code",
   "execution_count": 2,
   "id": "31370543",
   "metadata": {},
   "outputs": [],
   "source": [
    "tests = []"
   ]
  },
  {
   "cell_type": "code",
   "execution_count": 3,
   "id": "f76e7f08",
   "metadata": {},
   "outputs": [],
   "source": [
    "tests.append({\n",
    "    'input': {\n",
    "        'matrix' : [[3]]\n",
    "    },\n",
    "    'output': [[3]]\n",
    "})"
   ]
  },
  {
   "cell_type": "code",
   "execution_count": 4,
   "id": "fb327405",
   "metadata": {},
   "outputs": [],
   "source": [
    "tests.append({\n",
    "    'input': {\n",
    "        'matrix' : [[1,2,3],[4,5,6],[7,8,9]]\n",
    "    },\n",
    "    'output': [[1, 4, 7], [2, 5, 8], [3, 6, 9]]\n",
    "})"
   ]
  },
  {
   "cell_type": "code",
   "execution_count": 5,
   "id": "08134a2b",
   "metadata": {},
   "outputs": [],
   "source": [
    "tests.append({\n",
    "    'input': {\n",
    "        'matrix' : [[1,2,3],[4,5,6],[7,8,9],[10,11,12],[13,14,15]]\n",
    "    },\n",
    "    'output': [[1, 4, 7, 10, 13], [2, 5, 8, 11, 14], [3, 6, 9, 12, 15]]\n",
    "})"
   ]
  },
  {
   "cell_type": "code",
   "execution_count": 6,
   "id": "90b3d355",
   "metadata": {},
   "outputs": [],
   "source": [
    "tests.append({\n",
    "    'input': {\n",
    "        'matrix' : [[1,2,3,4,5],[6,7,8,9,10],[11,12,13,14,15]]\n",
    "    },\n",
    "    'output': [[1, 6, 11], [2, 7, 12], [3, 8, 13], [4, 9, 14], [5, 10, 15]]\n",
    "})"
   ]
  },
  {
   "cell_type": "markdown",
   "id": "e881b6ff",
   "metadata": {},
   "source": [
    "### 3. Come up with a correct solution for the problem. State it in plain English.\n",
    "\n",
    "\n",
    "> **T[j][i] = M[i][j]**"
   ]
  },
  {
   "cell_type": "markdown",
   "id": "e82eb080",
   "metadata": {},
   "source": [
    "###  4. Implement the solution and test it using example inputs. Fix bugs, if any."
   ]
  },
  {
   "cell_type": "code",
   "execution_count": 7,
   "id": "977f6188",
   "metadata": {},
   "outputs": [],
   "source": [
    "def transpose(matrix):\n",
    "    \n",
    "    # m -> row\n",
    "    # n -> column\n",
    "    m = len(matrix)\n",
    "    n = len(matrix[0])\n",
    "    \n",
    "    # Empty transpose matrix\n",
    "    transpose_matrix = [[None]*m for _ in range(n)]\n",
    "    \n",
    "    # Fill transpose matrix \n",
    "    for i in range(m):\n",
    "        for j in range(n):\n",
    "            transpose_matrix[j][i] = matrix[i][j]\n",
    "    \n",
    "    # Return transpose matrix\n",
    "    return transpose_matrix"
   ]
  },
  {
   "cell_type": "code",
   "execution_count": 8,
   "id": "7a5c23a2",
   "metadata": {},
   "outputs": [
    {
     "name": "stdout",
     "output_type": "stream",
     "text": [
      "True\n",
      "True\n",
      "True\n",
      "True\n"
     ]
    }
   ],
   "source": [
    "for i in range(len(tests)):\n",
    "    print(transpose(tests[i]['input']['matrix']) == tests[i]['output'])"
   ]
  },
  {
   "cell_type": "code",
   "execution_count": 9,
   "id": "b3797661",
   "metadata": {},
   "outputs": [],
   "source": [
    "def transpose(matrix):\n",
    "        transposeMat=[]\n",
    "        transposeRow=[]\n",
    "        for colidx in range(len(matrix[0])):\n",
    "            for rowidx in range(len(matrix)):\n",
    "                transposeRow.append(matrix[rowidx][colidx])\n",
    "            transposeMat.append(transposeRow)\n",
    "            transposeRow=[]\n",
    "        return transposeMat"
   ]
  },
  {
   "cell_type": "code",
   "execution_count": 10,
   "id": "ddc1ef9a",
   "metadata": {},
   "outputs": [
    {
     "name": "stdout",
     "output_type": "stream",
     "text": [
      "True\n",
      "True\n",
      "True\n",
      "True\n"
     ]
    }
   ],
   "source": [
    "for i in range(len(tests)):\n",
    "    print(transpose(tests[i]['input']['matrix']) == tests[i]['output'])"
   ]
  },
  {
   "cell_type": "markdown",
   "id": "43746b77",
   "metadata": {},
   "source": [
    "### 5. Analyze the algorithm's complexity and identify inefficiencies, if any."
   ]
  },
  {
   "cell_type": "markdown",
   "id": "74faa587",
   "metadata": {},
   "source": [
    "> Time complexity : **O(ROW * COLUMN)** <br>\n",
    "> Space complexity : **O(ROW * COLUMN)**"
   ]
  }
 ],
 "metadata": {
  "kernelspec": {
   "display_name": "Python 3 (ipykernel)",
   "language": "python",
   "name": "python3"
  },
  "language_info": {
   "codemirror_mode": {
    "name": "ipython",
    "version": 3
   },
   "file_extension": ".py",
   "mimetype": "text/x-python",
   "name": "python",
   "nbconvert_exporter": "python",
   "pygments_lexer": "ipython3",
   "version": "3.10.8"
  }
 },
 "nbformat": 4,
 "nbformat_minor": 5
}
