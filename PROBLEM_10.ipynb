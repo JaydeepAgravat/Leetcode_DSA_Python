{
 "cells": [
  {
   "cell_type": "markdown",
   "id": "e5d4903a",
   "metadata": {},
   "source": [
    "# Middle of the Linked List"
   ]
  },
  {
   "cell_type": "markdown",
   "id": "e00f4d89",
   "metadata": {},
   "source": [
    "## Problem Statement\n",
    "\n",
    "\n",
    "> Given the head of a singly linked list, return the middle node of the linked list.\n",
    "\n",
    "> If there are two middle nodes, return the second middle node.\n",
    "\n",
    "\n",
    "Source: https://leetcode.com/problems/middle-of-the-linked-list/description/"
   ]
  },
  {
   "cell_type": "markdown",
   "id": "d7e8d774",
   "metadata": {},
   "source": [
    "## Solution\n",
    "\n",
    "\n",
    "### 1. State the problem clearly. Identify the input & output formats.\n",
    "\n",
    "\n",
    "**Problem**\n",
    "\n",
    "> We have to return the middle node of linked list.\n",
    "> `head` is given & If there are two middle nodes, return the second middle node.\n",
    "\n",
    "<br/>\n",
    "\n",
    "\n",
    "**Input**\n",
    "\n",
    "1.  head = [1,2,3,4,5]\n",
    "\n",
    "\n",
    "**Output**\n",
    "\n",
    "1.[3,4,5]\n",
    "\n",
    "\n",
    "<br/>\n",
    "\n",
    "Based on the above, we can now create a signature of our function:"
   ]
  },
  {
   "cell_type": "code",
   "execution_count": 1,
   "id": "2066c59e",
   "metadata": {},
   "outputs": [],
   "source": [
    "def middle_node(head):\n",
    "    pass"
   ]
  },
  {
   "cell_type": "markdown",
   "id": "d6a980f9",
   "metadata": {},
   "source": [
    "### 2. Come up with some example inputs & outputs. Try to cover all edge cases.\n",
    "\n",
    "\n",
    "1. Number of node is one.\n",
    "2. Number of node is even.\n",
    "3. Number of node is odd."
   ]
  },
  {
   "cell_type": "markdown",
   "id": "e881b6ff",
   "metadata": {},
   "source": [
    "### 3. Come up with a correct solution for the problem. State it in plain English.\n",
    "\n",
    "\n",
    "1. Count the length of linked list.\n",
    "2. Travere the linked list half with the help of half length.\n",
    "3. Return the middle node."
   ]
  },
  {
   "cell_type": "markdown",
   "id": "e82eb080",
   "metadata": {},
   "source": [
    "###  4. Implement the solution and test it using example inputs. Fix bugs, if any."
   ]
  },
  {
   "cell_type": "code",
   "execution_count": 2,
   "id": "977f6188",
   "metadata": {},
   "outputs": [],
   "source": [
    "def middle_node(head):\n",
    "    \n",
    "    # Temporary head\n",
    "    tmp = head\n",
    "    \n",
    "    # Intiliaze lenght of singley linked list\n",
    "    length = 0\n",
    "    \n",
    "    # Set a loop for counting lenght of linked list\n",
    "    while tmp:\n",
    "        \n",
    "        # Increment length\n",
    "        length += 1\n",
    "        \n",
    "        # Move the pointer to the next node\n",
    "        tmp = tmp.next\n",
    "        \n",
    "    # Half the length\n",
    "    mid = length // 2\n",
    "    \n",
    "    # Temporary head\n",
    "    tmp = head\n",
    "    \n",
    "    # Set a loop for finding middle node\n",
    "    while (mid != 0):\n",
    "        \n",
    "        # Decrement mid\n",
    "        mid -= 1\n",
    "        \n",
    "        # Move the pointer to the next node\n",
    "        tmp = tmp.next\n",
    "        \n",
    "    # Return middle node\n",
    "    return tmp"
   ]
  },
  {
   "cell_type": "markdown",
   "id": "43746b77",
   "metadata": {},
   "source": [
    "### 5. Analyze the algorithm's complexity and identify inefficiencies, if any."
   ]
  },
  {
   "cell_type": "markdown",
   "id": "edef59de",
   "metadata": {},
   "source": [
    "> Time complexity : **O(N)** <br>\n",
    "> Space complexity : **O(1)**"
   ]
  },
  {
   "cell_type": "markdown",
   "id": "14c03d94",
   "metadata": {},
   "source": [
    "### 6. Apply the right technique to overcome the inefficiency. Repeat steps 3 to 6."
   ]
  },
  {
   "cell_type": "markdown",
   "id": "f188345e",
   "metadata": {},
   "source": [
    "> **Slow & Fast pointer**"
   ]
  },
  {
   "cell_type": "markdown",
   "id": "6c81c692",
   "metadata": {},
   "source": [
    "### 7. Come up with a correct solution for the problem. State it in plain English.\n",
    "\n",
    "\n",
    "1. Set a two pointer `slow` and `fast`.\n",
    "2. Traverse the linked list until `fast` doesn't reach the end of the linked list..\n",
    "3. `slow` take one step next.\n",
    "4. `fast` take two step next.\n",
    "5. Return middle node of linked list."
   ]
  },
  {
   "cell_type": "markdown",
   "id": "6986aefd",
   "metadata": {},
   "source": [
    "### 8. Implement the solution and test it using example inputs. Fix bugs, if any."
   ]
  },
  {
   "cell_type": "code",
   "execution_count": 3,
   "id": "4da38c43",
   "metadata": {},
   "outputs": [],
   "source": [
    "def middle_node(head):\n",
    "    \n",
    "    # Set two pointer\n",
    "    slow = fast = head\n",
    "    \n",
    "    # Set a lop for finding middle node\n",
    "    while fast and fast.next:\n",
    "        \n",
    "        # slow take one step\n",
    "        slow = slow.next\n",
    "        \n",
    "        # fast take two step\n",
    "        fast = fast.next.next\n",
    "    \n",
    "    # Return middle node\n",
    "    return slow"
   ]
  },
  {
   "cell_type": "markdown",
   "id": "35da7de7",
   "metadata": {},
   "source": [
    "### 9. Analyze the algorithm's complexity and identify inefficiencies, if any."
   ]
  },
  {
   "cell_type": "markdown",
   "id": "78de8af5",
   "metadata": {},
   "source": [
    "> Time complexity : **O(N)** <br>\n",
    "> Space complexity : **O(1)**"
   ]
  }
 ],
 "metadata": {
  "kernelspec": {
   "display_name": "Python 3 (ipykernel)",
   "language": "python",
   "name": "python3"
  },
  "language_info": {
   "codemirror_mode": {
    "name": "ipython",
    "version": 3
   },
   "file_extension": ".py",
   "mimetype": "text/x-python",
   "name": "python",
   "nbconvert_exporter": "python",
   "pygments_lexer": "ipython3",
   "version": "3.10.8"
  }
 },
 "nbformat": 4,
 "nbformat_minor": 5
}
