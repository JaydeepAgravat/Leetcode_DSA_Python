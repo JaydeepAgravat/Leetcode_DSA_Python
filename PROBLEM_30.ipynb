{
 "cells": [
  {
   "cell_type": "markdown",
   "id": "e5d4903a",
   "metadata": {},
   "source": [
    "#  Convert Binary Number in a Linked List to Integer"
   ]
  },
  {
   "cell_type": "markdown",
   "id": "e00f4d89",
   "metadata": {},
   "source": [
    "## Problem Statement\n",
    "\n",
    "\n",
    "> Given head which is a reference node to a singly-linked list. The value of each node in the linked list is either 0 or 1. The linked list holds the binary representation of a number.\n",
    "\n",
    "> Return the decimal value of the number in the linked list.\n",
    "\n",
    "> The most significant bit is at the head of the linked list.\n",
    "\n",
    "Source: https://leetcode.com/problems/convert-binary-number-in-a-linked-list-to-integer/description/"
   ]
  },
  {
   "cell_type": "markdown",
   "id": "d7e8d774",
   "metadata": {},
   "source": [
    "## Solution\n",
    "\n",
    "\n",
    "### 1. State the problem clearly. Identify the input & output formats.\n",
    "\n",
    "\n",
    "**Problem**\n",
    "\n",
    "> Given head which is a reference node to a singly-linked list. The value of each node in the linked list is either 0 or 1. The linked list holds the binary representation of a number.\n",
    "> Return the decimal value of the number in the linked list.\n",
    "> The most significant bit is at the head of the linked list.\n",
    "<br/>\n",
    "\n",
    "\n",
    "**Input**\n",
    "\n",
    "1. head = [1,0,1]\n",
    "\n",
    "\n",
    "**Output**\n",
    "\n",
    "1. 5\n",
    "\n",
    "\n",
    "<br/>\n",
    "\n",
    "Based on the above, we can now create a signature of our function:"
   ]
  },
  {
   "cell_type": "code",
   "execution_count": 1,
   "id": "2066c59e",
   "metadata": {},
   "outputs": [],
   "source": [
    "def get_decimal_value(head):\n",
    "    pass"
   ]
  },
  {
   "cell_type": "markdown",
   "id": "d6a980f9",
   "metadata": {},
   "source": [
    "### 2. Come up with some example inputs & outputs. Try to cover all edge cases.\n",
    "\n",
    "\n",
    "1. Only one node & val is 0 or 1.\n",
    "2. All node contain val 0.\n",
    "3. Multiple node contain 0 or 1.\n",
    "3. First node contain val 0 & rest of them contain val 1."
   ]
  },
  {
   "cell_type": "markdown",
   "id": "e881b6ff",
   "metadata": {},
   "source": [
    "### 3. Come up with a correct solution for the problem. State it in plain English.\n",
    "\n",
    "\n",
    "```\n",
    "input = 1010 \n",
    "\n",
    "1010(8421)(2^3,2^2,2^1,2^0)\n",
    "\n",
    "1     <= (1)  => 0*2 + 1\n",
    "10    <= (2)  => 1*2 + 0\n",
    "101   <= (5)  => 2*2 + 1\n",
    "1010  <= (10) => 5*2 + 0\n",
    "\n",
    "output = 10\n",
    "```"
   ]
  },
  {
   "cell_type": "markdown",
   "id": "e82eb080",
   "metadata": {},
   "source": [
    "###  4. Implement the solution and test it using example inputs. Fix bugs, if any."
   ]
  },
  {
   "cell_type": "code",
   "execution_count": 2,
   "id": "977f6188",
   "metadata": {},
   "outputs": [],
   "source": [
    "def get_decimal_value(head):\n",
    "    \n",
    "    temp = head\n",
    "    decimal = 0\n",
    "    \n",
    "    while temp:\n",
    "        decimal = decimal*2 + temp.val\n",
    "        temp = temp.next\n",
    "        \n",
    "    return decimal"
   ]
  },
  {
   "cell_type": "markdown",
   "id": "43746b77",
   "metadata": {},
   "source": [
    "### 5. Analyze the algorithm's complexity and identify inefficiencies, if any."
   ]
  },
  {
   "cell_type": "markdown",
   "id": "d1a1658b",
   "metadata": {},
   "source": [
    "> Time complexity : **O(N)** <br>\n",
    "> Space complexity : **O(1)**"
   ]
  },
  {
   "cell_type": "markdown",
   "id": "14c03d94",
   "metadata": {},
   "source": [
    "### 6. Apply the right technique to overcome the inefficiency. Repeat steps 3 to 6."
   ]
  },
  {
   "cell_type": "markdown",
   "id": "9199567a",
   "metadata": {},
   "source": [
    "> **Bit Manipulation**"
   ]
  },
  {
   "cell_type": "markdown",
   "id": "6c81c692",
   "metadata": {},
   "source": [
    "### 7. Come up with a correct solution for the problem. State it in plain English.\n",
    "\n",
    "\n",
    "```\n",
    "1001 (9)\n",
    "\n",
    "1      => 0<<1 | 1\n",
    "10     => 1<<1 | 0\n",
    "100    => 10<<1 | 0\n",
    "1001   => 100<<1 | 1\n",
    "```"
   ]
  },
  {
   "cell_type": "markdown",
   "id": "6986aefd",
   "metadata": {},
   "source": [
    "### 8. Implement the solution and test it using example inputs. Fix bugs, if any."
   ]
  },
  {
   "cell_type": "code",
   "execution_count": 4,
   "id": "4da38c43",
   "metadata": {},
   "outputs": [],
   "source": [
    "def get_decimal_value(head):\n",
    "    \n",
    "    tmp = head\n",
    "    decimal = 0\n",
    "    \n",
    "    while tmp:\n",
    "        decimal = (decimal << 1) | tmp.val\n",
    "        tmp = tmp.next\n",
    "    \n",
    "    return decimal"
   ]
  },
  {
   "cell_type": "markdown",
   "id": "35da7de7",
   "metadata": {},
   "source": [
    "### 9. Analyze the algorithm's complexity and identify inefficiencies, if any."
   ]
  },
  {
   "cell_type": "markdown",
   "id": "cece7861",
   "metadata": {},
   "source": [
    "> Time complexity : **O(N)** <br>\n",
    "> Space complexity : **O(1)**"
   ]
  }
 ],
 "metadata": {
  "kernelspec": {
   "display_name": "Python 3 (ipykernel)",
   "language": "python",
   "name": "python3"
  },
  "language_info": {
   "codemirror_mode": {
    "name": "ipython",
    "version": 3
   },
   "file_extension": ".py",
   "mimetype": "text/x-python",
   "name": "python",
   "nbconvert_exporter": "python",
   "pygments_lexer": "ipython3",
   "version": "3.10.8"
  }
 },
 "nbformat": 4,
 "nbformat_minor": 5
}
