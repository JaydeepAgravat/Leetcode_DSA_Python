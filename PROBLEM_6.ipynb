{
 "cells": [
  {
   "cell_type": "markdown",
   "id": "e5d4903a",
   "metadata": {},
   "source": [
    "# Find Smallest Letter Greater Than Target"
   ]
  },
  {
   "cell_type": "markdown",
   "id": "e00f4d89",
   "metadata": {},
   "source": [
    "## Problem Statement\n",
    "\n",
    "\n",
    "> You are given an array of characters `letters` that is sorted in non-decreasing order, and a character `target`. There are at least two different characters in `letters`.\n",
    "\n",
    "> Return the smallest character in `letters` that is lexicographically greater than `target`. If such a character does not exist, return the first character in `letters`.\n",
    "\n",
    "Source: https://leetcode.com/problems/find-smallest-letter-greater-than-target/description/"
   ]
  },
  {
   "cell_type": "markdown",
   "id": "d7e8d774",
   "metadata": {},
   "source": [
    "## Solution\n",
    "\n",
    "\n",
    "### 1. State the problem clearly. Identify the input & output formats.\n",
    "\n",
    "\n",
    "**Problem**\n",
    "\n",
    "> Array of characters `letters` that is sorted in increasing order.There are at least two different characters in `letters`.\n",
    "\n",
    "> Return the smallest character in `letters` that is lexicographically greater than `target`. If such a character does not exist, return the first character in `letters`.\n",
    "\n",
    "<br/>\n",
    "\n",
    "\n",
    "**Input**\n",
    "\n",
    "1. letters = [\"c\",\"f\",\"j\"]\n",
    "2. target = \"a\"\n",
    "\n",
    "\n",
    "**Output**\n",
    "\n",
    "1. \"c\"\n",
    "\n",
    "\n",
    "<br/>\n",
    "\n",
    "Based on the above, we can now create a signature of our function:"
   ]
  },
  {
   "cell_type": "code",
   "execution_count": 1,
   "id": "2066c59e",
   "metadata": {},
   "outputs": [],
   "source": [
    "def next_greatest_letter(letters, target):\n",
    "    pass"
   ]
  },
  {
   "cell_type": "markdown",
   "id": "d6a980f9",
   "metadata": {},
   "source": [
    "### 2. Come up with some example inputs & outputs. Try to cover all edge cases.\n",
    "\n",
    "\n",
    "1. `letters` contains two different characters.\n",
    "2. `letters` contains two same characters.\n",
    "3. `letters` does not contain next greatest letter.\n",
    "4. `letters` first element is next greatest letter. "
   ]
  },
  {
   "cell_type": "code",
   "execution_count": 2,
   "id": "31370543",
   "metadata": {},
   "outputs": [],
   "source": [
    "tests = []"
   ]
  },
  {
   "cell_type": "code",
   "execution_count": 3,
   "id": "f76e7f08",
   "metadata": {},
   "outputs": [],
   "source": [
    "tests.append({\n",
    "    'input': {\n",
    "        'letters': ['x', 'z'] ,\n",
    "        'target': 'y'\n",
    "    },\n",
    "    'output': 'z'\n",
    "})"
   ]
  },
  {
   "cell_type": "code",
   "execution_count": 4,
   "id": "fb327405",
   "metadata": {},
   "outputs": [],
   "source": [
    "tests.append({\n",
    "    'input': {\n",
    "        'letters': ['x', 'x'],\n",
    "        'target': 'd'\n",
    "    },\n",
    "    'output': 'x'\n",
    "})"
   ]
  },
  {
   "cell_type": "code",
   "execution_count": 5,
   "id": "08134a2b",
   "metadata": {},
   "outputs": [],
   "source": [
    "tests.append({\n",
    "    'input': {\n",
    "        'letters': [\"x\",\"x\",\"y\",\"y\"],\n",
    "        'target': \"z\"\n",
    "    },\n",
    "    'output': \"x\"\n",
    "})"
   ]
  },
  {
   "cell_type": "code",
   "execution_count": 6,
   "id": "a778fe71",
   "metadata": {},
   "outputs": [],
   "source": [
    "tests.append({\n",
    "    'input': {\n",
    "        'letters': [\"c\",\"f\",\"j\"],\n",
    "        'target': \"a\"\n",
    "    },\n",
    "    'output': \"c\"\n",
    "})"
   ]
  },
  {
   "cell_type": "markdown",
   "id": "e881b6ff",
   "metadata": {},
   "source": [
    "### 3. Come up with a correct solution for the problem. State it in plain English.\n",
    "\n",
    "\n",
    "1. We loop over the list `letters` to find next greatest letters with respect to `target`.\n",
    "2. Compare each character in the list `letters` with target.\n",
    "3. Return next greatest letters.\n",
    "4. If we can not find any character in the list `letters` than we return first letters in the list `letters`."
   ]
  },
  {
   "cell_type": "markdown",
   "id": "e82eb080",
   "metadata": {},
   "source": [
    "###  4. Implement the solution and test it using example inputs. Fix bugs, if any."
   ]
  },
  {
   "cell_type": "code",
   "execution_count": 7,
   "id": "977f6188",
   "metadata": {},
   "outputs": [],
   "source": [
    "def next_greatest_letter(letters, target):\n",
    "    \n",
    "    # Set a loop for find next greatest letter\n",
    "    for char in letters:\n",
    "        \n",
    "        # Compare with target\n",
    "        if char > target:\n",
    "            \n",
    "            # Found!\n",
    "            return char\n",
    "    \n",
    "    # Not found\n",
    "    return letters[0]"
   ]
  },
  {
   "cell_type": "code",
   "execution_count": 8,
   "id": "7a5c23a2",
   "metadata": {},
   "outputs": [
    {
     "name": "stdout",
     "output_type": "stream",
     "text": [
      "True\n",
      "True\n",
      "True\n",
      "True\n"
     ]
    }
   ],
   "source": [
    "for i in range(len(tests)):\n",
    "    print(next_greatest_letter(**tests[i]['input']) == tests[i]['output'])"
   ]
  },
  {
   "cell_type": "markdown",
   "id": "43746b77",
   "metadata": {},
   "source": [
    "### 5. Analyze the algorithm's complexity and identify inefficiencies, if any."
   ]
  },
  {
   "cell_type": "markdown",
   "id": "96da66f8",
   "metadata": {},
   "source": [
    "> Time complexity : **O(N)** <br>\n",
    "> Space Complexity : **O(1)**"
   ]
  },
  {
   "cell_type": "markdown",
   "id": "14c03d94",
   "metadata": {},
   "source": [
    "### 6. Apply the right technique to overcome the inefficiency. Repeat steps 3 to 6."
   ]
  },
  {
   "cell_type": "markdown",
   "id": "d5665967",
   "metadata": {},
   "source": [
    "> **Using Binary Search** <br>\n",
    "> Sorted list"
   ]
  },
  {
   "cell_type": "markdown",
   "id": "6c81c692",
   "metadata": {},
   "source": [
    "### 7. Come up with a correct solution for the problem. State it in plain English.\n",
    "\n",
    "\n",
    "1. Cover edge cases. ( first element is answer and element is not found )\n",
    "2. Binary search. \n",
    "3. Return next greatest letter."
   ]
  },
  {
   "cell_type": "markdown",
   "id": "546caea3",
   "metadata": {},
   "source": [
    "### 8. Implement the solution and test it using example inputs. Fix bugs, if any."
   ]
  },
  {
   "cell_type": "code",
   "execution_count": 9,
   "id": "85a12203",
   "metadata": {},
   "outputs": [],
   "source": [
    "def next_greatest_letter(letters, target):\n",
    "    \n",
    "    # First element is answer.\n",
    "    # List does not conatin require element. \n",
    "    if (target >= letters[-1]) or (target < letters[0]):\n",
    "        return letters[0]\n",
    "    \n",
    "    # Binary Search\n",
    "    low, high = 0, len(letters) - 1\n",
    "    \n",
    "    while low <= high:\n",
    "        mid = (low + high) // 2\n",
    "        if letters[mid] <= target:\n",
    "            low = mid + 1\n",
    "        else:\n",
    "            high = mid - 1\n",
    "    \n",
    "    # Return next greatest letter.\n",
    "    return letters[low]"
   ]
  },
  {
   "cell_type": "code",
   "execution_count": 10,
   "id": "94b7c3b8",
   "metadata": {},
   "outputs": [
    {
     "name": "stdout",
     "output_type": "stream",
     "text": [
      "True\n",
      "True\n",
      "True\n",
      "True\n"
     ]
    }
   ],
   "source": [
    "for i in range(len(tests)):\n",
    "    print(next_greatest_letter(**tests[i]['input']) == tests[i]['output'])"
   ]
  },
  {
   "cell_type": "markdown",
   "id": "35da7de7",
   "metadata": {},
   "source": [
    "### 9. Analyze the algorithm's complexity and identify inefficiencies, if any."
   ]
  },
  {
   "cell_type": "markdown",
   "id": "9da38181",
   "metadata": {},
   "source": [
    "> Time complexity : **O(log(N))** <br>\n",
    "> Space Complexity : **O(1)**"
   ]
  }
 ],
 "metadata": {
  "kernelspec": {
   "display_name": "Python 3 (ipykernel)",
   "language": "python",
   "name": "python3"
  },
  "language_info": {
   "codemirror_mode": {
    "name": "ipython",
    "version": 3
   },
   "file_extension": ".py",
   "mimetype": "text/x-python",
   "name": "python",
   "nbconvert_exporter": "python",
   "pygments_lexer": "ipython3",
   "version": "3.10.8"
  }
 },
 "nbformat": 4,
 "nbformat_minor": 5
}
