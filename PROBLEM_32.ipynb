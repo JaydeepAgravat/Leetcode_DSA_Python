{
 "cells": [
  {
   "cell_type": "markdown",
   "id": "e5d4903a",
   "metadata": {},
   "source": [
    "# Height Checker"
   ]
  },
  {
   "cell_type": "markdown",
   "id": "e00f4d89",
   "metadata": {},
   "source": [
    "## Problem Statement\n",
    "\n",
    "\n",
    "```\n",
    "A school is trying to take an annual photo of all the students. The students are asked to stand in a single file line in non-decreasing order by height. Let this ordering be represented by the integer array expected where expected[i] is the expected height of the ith student in line.\n",
    "\n",
    "You are given an integer array heights representing the current order that the students are standing in. Each heights[i] is the height of the ith student in line (0-indexed).\n",
    "\n",
    "Return the number of indices where heights[i] != expected[i].\n",
    "```\n",
    "\n",
    "\n",
    "Source: https://leetcode.com/problems/height-checker/description/"
   ]
  },
  {
   "cell_type": "markdown",
   "id": "d7e8d774",
   "metadata": {},
   "source": [
    "## Solution\n",
    "\n",
    "\n",
    "### 1. State the problem clearly. Identify the input & output formats.\n",
    "\n",
    "\n",
    "**Problem**\n",
    "\n",
    "> Return the number of indices where heights[i] != expected[i].\n",
    "\n",
    "<br/>\n",
    "\n",
    "\n",
    "**Input**\n",
    "\n",
    "1.  heights = [1,1,4,2,1,3]\n",
    "\n",
    "\n",
    "**Output**\n",
    "\n",
    "1. 3\n",
    "\n",
    "\n",
    "<br/>\n",
    "\n",
    "Based on the above, we can now create a signature of our function:"
   ]
  },
  {
   "cell_type": "code",
   "execution_count": 1,
   "id": "2066c59e",
   "metadata": {},
   "outputs": [],
   "source": [
    "def height_checker(heights):\n",
    "    pass"
   ]
  },
  {
   "cell_type": "markdown",
   "id": "d6a980f9",
   "metadata": {},
   "source": [
    "### 2. Come up with some example inputs & outputs. Try to cover all edge cases.\n",
    "\n",
    "\n",
    "1. Some of Indices does not match\n",
    "2. All Indices do not match.\n",
    "3. All Indices match."
   ]
  },
  {
   "cell_type": "code",
   "execution_count": 2,
   "id": "31370543",
   "metadata": {},
   "outputs": [],
   "source": [
    "tests = []"
   ]
  },
  {
   "cell_type": "code",
   "execution_count": 3,
   "id": "f76e7f08",
   "metadata": {},
   "outputs": [],
   "source": [
    "tests.append({\n",
    "    'input': {\n",
    "        'heights' : [1,1,4,2,1,3]\n",
    "    },\n",
    "    'output': 3\n",
    "})"
   ]
  },
  {
   "cell_type": "code",
   "execution_count": 4,
   "id": "fb327405",
   "metadata": {},
   "outputs": [],
   "source": [
    "tests.append({\n",
    "    'input': {\n",
    "        'heights' : [5,1,2,3,4]\n",
    "    },\n",
    "    'output': 5\n",
    "})"
   ]
  },
  {
   "cell_type": "code",
   "execution_count": 5,
   "id": "08134a2b",
   "metadata": {},
   "outputs": [],
   "source": [
    "tests.append({\n",
    "    'input': {\n",
    "        'heights' : [1,2,3,4,5]\n",
    "    },\n",
    "    'output': 0\n",
    "})"
   ]
  },
  {
   "cell_type": "markdown",
   "id": "e881b6ff",
   "metadata": {},
   "source": [
    "### 3. Come up with a correct solution for the problem. State it in plain English.\n",
    "\n",
    "\n",
    "> **Sorting**"
   ]
  },
  {
   "cell_type": "markdown",
   "id": "e82eb080",
   "metadata": {},
   "source": [
    "###  4. Implement the solution and test it using example inputs. Fix bugs, if any."
   ]
  },
  {
   "cell_type": "code",
   "execution_count": 6,
   "id": "977f6188",
   "metadata": {},
   "outputs": [],
   "source": [
    "def height_checker(heights):\n",
    "    \n",
    "    # Expected heights\n",
    "    exp = sorted(heights)\n",
    "    \n",
    "    # Counter for no match\n",
    "    count = 0\n",
    "    \n",
    "    # Set a loop for repetations\n",
    "    for i in range(len(heights)):\n",
    "        \n",
    "        # Increment count if not match\n",
    "        if exp[i] != heights[i]:\n",
    "            count += 1\n",
    "    \n",
    "    # Return counter\n",
    "    return count"
   ]
  },
  {
   "cell_type": "code",
   "execution_count": 7,
   "id": "ee8d3bb1",
   "metadata": {},
   "outputs": [
    {
     "name": "stdout",
     "output_type": "stream",
     "text": [
      "True\n",
      "True\n",
      "True\n"
     ]
    }
   ],
   "source": [
    "for i in range(len(tests)):\n",
    "    print(height_checker(tests[i]['input']['heights']) == tests[i]['output'])"
   ]
  },
  {
   "cell_type": "markdown",
   "id": "43746b77",
   "metadata": {},
   "source": [
    "### 5. Analyze the algorithm's complexity and identify inefficiencies, if any."
   ]
  },
  {
   "cell_type": "markdown",
   "id": "96ee7bc6",
   "metadata": {},
   "source": [
    "> Time complexity : **O(N^log(N))** <br>\n",
    "> Space complexity : **O(N)**"
   ]
  },
  {
   "cell_type": "markdown",
   "id": "14c03d94",
   "metadata": {},
   "source": [
    "### 6. Apply the right technique to overcome the inefficiency. Repeat steps 3 to 6."
   ]
  },
  {
   "cell_type": "markdown",
   "id": "8a38645b",
   "metadata": {},
   "source": [
    "> **Counting Sort**"
   ]
  },
  {
   "cell_type": "markdown",
   "id": "6c81c692",
   "metadata": {},
   "source": [
    "### 7. Come up with a correct solution for the problem. State it in plain English.\n",
    "\n",
    "\n",
    "1. Count the frequency of each height.\n",
    "2. Use two pointer to make comparison."
   ]
  },
  {
   "cell_type": "markdown",
   "id": "6986aefd",
   "metadata": {},
   "source": [
    "### 8. Implement the solution and test it using example inputs. Fix bugs, if any."
   ]
  },
  {
   "cell_type": "code",
   "execution_count": 8,
   "id": "4da38c43",
   "metadata": {},
   "outputs": [],
   "source": [
    "def height_checker(heights):\n",
    "    \n",
    "    # 1 <= heights[i] <= 100\n",
    "    bkt = [0] * 101\n",
    "    \n",
    "    # Fill bkt \n",
    "    for height in heights:\n",
    "        bkt[height] += 1\n",
    "    \n",
    "    # Counter for no match\n",
    "    count = 0\n",
    "    \n",
    "    # Set exp_height is 1\n",
    "    exp_height = 1\n",
    "    \n",
    "    # Set a loop for repetations\n",
    "    for height in heights:\n",
    "        \n",
    "        # Set exp_height\n",
    "        # skip non-exit height\n",
    "        while bkt[exp_height]==0:\n",
    "            exp_height += 1\n",
    "        \n",
    "        # If expected height is not match\n",
    "        if exp_height != height:\n",
    "            \n",
    "            # Increase counter\n",
    "            count += 1\n",
    "        \n",
    "        # Decrease bkt with 1\n",
    "        bkt[exp_height] -= 1\n",
    "    \n",
    "    # Return counter\n",
    "    return count"
   ]
  },
  {
   "cell_type": "code",
   "execution_count": 9,
   "id": "2f8759d5",
   "metadata": {},
   "outputs": [
    {
     "name": "stdout",
     "output_type": "stream",
     "text": [
      "True\n",
      "True\n",
      "True\n"
     ]
    }
   ],
   "source": [
    "for i in range(len(tests)):\n",
    "    print(height_checker(tests[i]['input']['heights']) == tests[i]['output'])"
   ]
  },
  {
   "cell_type": "markdown",
   "id": "35da7de7",
   "metadata": {},
   "source": [
    "### 9. Analyze the algorithm's complexity and identify inefficiencies, if any."
   ]
  },
  {
   "cell_type": "markdown",
   "id": "46cf4764",
   "metadata": {},
   "source": [
    "> Time complexity : **O(N)==O(100*N)** <br>\n",
    "> Space complexity : **O(N)**"
   ]
  }
 ],
 "metadata": {
  "kernelspec": {
   "display_name": "Python 3 (ipykernel)",
   "language": "python",
   "name": "python3"
  },
  "language_info": {
   "codemirror_mode": {
    "name": "ipython",
    "version": 3
   },
   "file_extension": ".py",
   "mimetype": "text/x-python",
   "name": "python",
   "nbconvert_exporter": "python",
   "pygments_lexer": "ipython3",
   "version": "3.10.8"
  }
 },
 "nbformat": 4,
 "nbformat_minor": 5
}
