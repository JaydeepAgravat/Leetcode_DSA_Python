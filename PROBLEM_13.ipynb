{
 "cells": [
  {
   "cell_type": "markdown",
   "id": "e5d4903a",
   "metadata": {},
   "source": [
    "# Linked List Cycle"
   ]
  },
  {
   "cell_type": "markdown",
   "id": "e00f4d89",
   "metadata": {},
   "source": [
    "## Problem Statement\n",
    "\n",
    "\n",
    "> Given head, the head of a linked list, determine if the linked list has a cycle in it.\n",
    "> Return true if there is a cycle in the linked list. Otherwise, return false.\n",
    "\n",
    "\n",
    "Source: https://leetcode.com/problems/linked-list-cycle/description/"
   ]
  },
  {
   "cell_type": "markdown",
   "id": "d7e8d774",
   "metadata": {},
   "source": [
    "## Solution\n",
    "\n",
    "\n",
    "### 1. State the problem clearly. Identify the input & output formats.\n",
    "\n",
    "\n",
    "**Problem**\n",
    "\n",
    "> Given head, the head of a linked list. <br>\n",
    "> Return true if there is a cycle in the linked list. Otherwise, return false.\n",
    "<br/>\n",
    "\n",
    "\n",
    "> Input: head = [3,2,0,-4], pos = 1 <br>\n",
    "> Output: true <br>\n",
    "> Explanation: There is a cycle in the linked list, where the tail connects to the 1st node (0-indexed). <br>\n",
    " \n",
    "> Input: head = [1], pos = -1 <br>\n",
    "> Output: false <br>\n",
    "> Explanation: There is no cycle in the linked list.<br>\n",
    "\n",
    "**There is a cycle in a linked list if there is some node in the list that can be reached again by continuously following the next pointer. Internally, pos is used to denote the index of the node that tail's next pointer is connected to. Note that pos is not passed as a parameter.**\n",
    "\n",
    "<br/>\n",
    "\n",
    "Based on the above, we can now create a signature of our function:"
   ]
  },
  {
   "cell_type": "code",
   "execution_count": 1,
   "id": "2066c59e",
   "metadata": {},
   "outputs": [],
   "source": [
    "def has_cycle(head):\n",
    "    pass"
   ]
  },
  {
   "cell_type": "markdown",
   "id": "d6a980f9",
   "metadata": {},
   "source": [
    "### 2. Come up with some example inputs & outputs. Try to cover all edge cases.\n",
    "\n",
    "\n",
    "1. Linked list contain one node and no cycle.\n",
    "2. Linked list contain one node and cycle.\n",
    "3. Linked list has no cycle\n",
    "4. Linked list has no cycle\n",
    "5. Linked list is empty."
   ]
  },
  {
   "cell_type": "markdown",
   "id": "e881b6ff",
   "metadata": {},
   "source": [
    "### 3. Come up with a correct solution for the problem. State it in plain English.\n",
    "\n",
    "\n",
    "1. Add address of node in set data-structre `nodes_seen` on linked list traversal.\n",
    "2. If address is repeated in `nodes_seen` than return True, otherwise False."
   ]
  },
  {
   "cell_type": "markdown",
   "id": "e82eb080",
   "metadata": {},
   "source": [
    "###  4. Implement the solution and test it using example inputs. Fix bugs, if any."
   ]
  },
  {
   "cell_type": "code",
   "execution_count": 2,
   "id": "977f6188",
   "metadata": {},
   "outputs": [],
   "source": [
    "def has_cycle(head):\n",
    "    \n",
    "    # Create temporary head\n",
    "    tmp = head\n",
    "    \n",
    "    # Create a empty set\n",
    "    nodes_seen = set()\n",
    "    \n",
    "    # Set a loop for finding cycle\n",
    "    while tmp:\n",
    "        \n",
    "        # Check node is in nodes_seen\n",
    "        if tmp not in nodes_seen:\n",
    "            \n",
    "            # If not than add in nodes_seen\n",
    "            nodes_seen.add(tmp)\n",
    "        else:\n",
    "            # Else return True \n",
    "            # Find Cycle\n",
    "            return True\n",
    "        \n",
    "        # Increment pointer\n",
    "        tmp = tmp.next\n",
    "    \n",
    "    # Linked list has no cycle\n",
    "    return False"
   ]
  },
  {
   "cell_type": "markdown",
   "id": "43746b77",
   "metadata": {},
   "source": [
    "### 5. Analyze the algorithm's complexity and identify inefficiencies, if any."
   ]
  },
  {
   "cell_type": "markdown",
   "id": "6f95f0f6",
   "metadata": {},
   "source": [
    "> Time complexity : **O(N)** <br>\n",
    "> Space complexity : **O(N)**"
   ]
  },
  {
   "cell_type": "markdown",
   "id": "14c03d94",
   "metadata": {},
   "source": [
    "### 6. Apply the right technique to overcome the inefficiency. Repeat steps 3 to 6."
   ]
  },
  {
   "cell_type": "markdown",
   "id": "57851eb7",
   "metadata": {},
   "source": [
    "> **Floyd’s Cycle-Finding Algorithm** <br>\n",
    ">  It uses two pointers one moving twice as fast as the other one."
   ]
  },
  {
   "cell_type": "markdown",
   "id": "6c81c692",
   "metadata": {},
   "source": [
    "### 7. Come up with a correct solution for the problem. State it in plain English.\n",
    "\n",
    "\n",
    "1. Traverse linked list using two pointers.\n",
    "2. Move `slow` by one and `fast` by two.\n",
    "3. If these pointers meet at the same node then there is a loop.\n",
    "4. If pointers do not meet then the linked list doesn’t have a loop."
   ]
  },
  {
   "cell_type": "markdown",
   "id": "6986aefd",
   "metadata": {},
   "source": [
    "### 8. Implement the solution and test it using example inputs. Fix bugs, if any."
   ]
  },
  {
   "cell_type": "code",
   "execution_count": 3,
   "id": "4da38c43",
   "metadata": {},
   "outputs": [],
   "source": [
    "def has_cycle(head):\n",
    "    \n",
    "    # Set two pointer \n",
    "    slow = fast = head\n",
    "    \n",
    "    # Set a loop for detect cycle\n",
    "    while fast and fast.next:\n",
    "        \n",
    "        # Increment slow & fast\n",
    "        slow = slow.next\n",
    "        fast = fast.next.next\n",
    "        \n",
    "        # Two pointer meet\n",
    "        if slow == fast:\n",
    "            # Cycle\n",
    "            return True\n",
    "    \n",
    "    # No cycle\n",
    "    return False"
   ]
  },
  {
   "cell_type": "markdown",
   "id": "35da7de7",
   "metadata": {},
   "source": [
    "### 9. Analyze the algorithm's complexity and identify inefficiencies, if any."
   ]
  },
  {
   "cell_type": "markdown",
   "id": "77888b07",
   "metadata": {},
   "source": [
    "> Time complexity : **O(N)** <br>\n",
    "> Space complexity : **O(1)**"
   ]
  }
 ],
 "metadata": {
  "kernelspec": {
   "display_name": "Python 3 (ipykernel)",
   "language": "python",
   "name": "python3"
  },
  "language_info": {
   "codemirror_mode": {
    "name": "ipython",
    "version": 3
   },
   "file_extension": ".py",
   "mimetype": "text/x-python",
   "name": "python",
   "nbconvert_exporter": "python",
   "pygments_lexer": "ipython3",
   "version": "3.10.8"
  }
 },
 "nbformat": 4,
 "nbformat_minor": 5
}
