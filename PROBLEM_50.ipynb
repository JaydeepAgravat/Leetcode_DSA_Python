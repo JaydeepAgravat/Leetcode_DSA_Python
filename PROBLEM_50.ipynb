{
 "cells": [
  {
   "cell_type": "markdown",
   "id": "e5d4903a",
   "metadata": {},
   "source": [
    "#  Maximum Units on a Truck"
   ]
  },
  {
   "cell_type": "markdown",
   "id": "e00f4d89",
   "metadata": {},
   "source": [
    "## Problem Statement\n",
    "\n",
    "\n",
    "> You are assigned to put some amount of boxes onto one truck. You are given a 2D array boxTypes, where boxTypes[i] = [numberOfBoxesi, numberOfUnitsPerBoxi]:\n",
    "numberOfBoxesi is the number of boxes of type i.\n",
    "numberOfUnitsPerBoxi is the number of units in each box of the type i.\n",
    "You are also given an integer truckSize, which is the maximum number of boxes that can be put on the truck. You can choose any boxes to put on the truck as long as the number of boxes does not exceed truckSize.\n",
    "Return the maximum total number of units that can be put on the truck.\n",
    "\n",
    "\n",
    "Source: https://leetcode.com/problems/maximum-units-on-a-truck/description/"
   ]
  },
  {
   "cell_type": "markdown",
   "id": "d7e8d774",
   "metadata": {},
   "source": [
    "## Solution\n",
    "\n",
    "\n",
    "### 1. State the problem clearly. Identify the input & output formats.\n",
    "\n",
    "\n",
    "**Problem**\n",
    "\n",
    "\n",
    "> You are assigned to put some amount of boxes onto one truck. You are given a 2D array boxTypes, where boxTypes[i] = [numberOfBoxesi, numberOfUnitsPerBoxi]:\n",
    "numberOfBoxesi is the number of boxes of type i.\n",
    "numberOfUnitsPerBoxi is the number of units in each box of the type i.\n",
    "You are also given an integer truckSize, which is the maximum number of boxes that can be put on the truck. You can choose any boxes to put on the truck as long as the number of boxes does not exceed truckSize.\n",
    "Return the maximum total number of units that can be put on the truck.\n",
    "\n",
    "<br/>\n",
    "\n",
    "\n",
    "**Input**\n",
    "\n",
    "1. boxTypes = [[1,3],[2,2],[3,1]]\n",
    "2. truckSize = 4\n",
    "\n",
    "\n",
    "**Output**\n",
    "\n",
    "1. 8\n",
    "\n",
    "\n",
    "<br/>\n",
    "\n",
    "Based on the above, we can now create a signature of our function:"
   ]
  },
  {
   "cell_type": "code",
   "execution_count": 1,
   "id": "2066c59e",
   "metadata": {},
   "outputs": [],
   "source": [
    "def maximum_units(boxType, truckSize):\n",
    "    pass"
   ]
  },
  {
   "cell_type": "markdown",
   "id": "d6a980f9",
   "metadata": {},
   "source": [
    "### 2. Come up with some example inputs & outputs. Try to cover all edge cases.\n",
    "\n",
    "\n",
    "\n",
    "```python\n",
    "1 <= boxTypes.length <= 1000\n",
    "1 <= numberOfBoxesi, numberOfUnitsPerBoxi <= 1000\n",
    "1 <= truckSize <= 10**6\n",
    "```"
   ]
  },
  {
   "cell_type": "code",
   "execution_count": 2,
   "id": "31370543",
   "metadata": {},
   "outputs": [],
   "source": [
    "tests = []"
   ]
  },
  {
   "cell_type": "code",
   "execution_count": 3,
   "id": "f76e7f08",
   "metadata": {},
   "outputs": [],
   "source": [
    "tests.append({\n",
    "    'input': {\n",
    "        'boxTypes' : [[1,3],[2,2],[3,1]],\n",
    "        'truckSize' : 4\n",
    "    },\n",
    "    'output': 8\n",
    "})"
   ]
  },
  {
   "cell_type": "code",
   "execution_count": 4,
   "id": "fb327405",
   "metadata": {},
   "outputs": [],
   "source": [
    "tests.append({\n",
    "    'input': {\n",
    "        'boxTypes' : [[5,10],[2,5],[4,7],[3,9]],\n",
    "        'truckSize' : 10\n",
    "    },\n",
    "    'output': 91\n",
    "})"
   ]
  },
  {
   "cell_type": "markdown",
   "id": "e881b6ff",
   "metadata": {},
   "source": [
    "### 3. Come up with a correct solution for the problem. State it in plain English.\n",
    "\n",
    "> **Greedy**"
   ]
  },
  {
   "cell_type": "markdown",
   "id": "e82eb080",
   "metadata": {},
   "source": [
    "###  4. Implement the solution and test it using example inputs. Fix bugs, if any."
   ]
  },
  {
   "cell_type": "code",
   "execution_count": 5,
   "id": "977f6188",
   "metadata": {},
   "outputs": [],
   "source": [
    "def maximum_units(boxTypes, truckSize):\n",
    "    \n",
    "    # Sort the list by numberOfUnitsPerBox in reverse order\n",
    "    boxTypes.sort(key=lambda x : x[1], reverse=True)\n",
    "    \n",
    "    # Set maximum units to zero\n",
    "    max_units = 0 \n",
    "    \n",
    "    # Set a loop for counting maximum units\n",
    "    for numberOfBoxes, numberOfUnitsPerBox in boxTypes:\n",
    "        \n",
    "        select_boxes = min(numberOfBoxes, truckSize)\n",
    "        max_units +=  select_boxes * numberOfUnitsPerBox\n",
    "        truckSize -= select_boxes\n",
    "        \n",
    "        if truckSize == 0: \n",
    "            \n",
    "            # Return maximum counts\n",
    "            return max_units\n",
    "        \n",
    "    # Return maximum counts  \n",
    "    return max_units"
   ]
  },
  {
   "cell_type": "code",
   "execution_count": 6,
   "id": "76edb34e",
   "metadata": {},
   "outputs": [
    {
     "name": "stdout",
     "output_type": "stream",
     "text": [
      "True\n",
      "True\n"
     ]
    }
   ],
   "source": [
    "for i in range(len(tests)):\n",
    "    print(maximum_units(**tests[i]['input'])==tests[i]['output'])"
   ]
  },
  {
   "cell_type": "markdown",
   "id": "43746b77",
   "metadata": {},
   "source": [
    "### 5. Analyze the algorithm's complexity and identify inefficiencies, if any."
   ]
  },
  {
   "cell_type": "markdown",
   "id": "79ccf3a3",
   "metadata": {},
   "source": [
    "> Time complexity : **O(NlogN)** <br>\n",
    "> Space complexity : **O(1)**"
   ]
  },
  {
   "cell_type": "markdown",
   "id": "14c03d94",
   "metadata": {},
   "source": [
    "### 6. Apply the right technique to overcome the inefficiency. Repeat steps 3 to 6."
   ]
  },
  {
   "cell_type": "markdown",
   "id": "9a3f5c1e",
   "metadata": {},
   "source": [
    "> **Counting Sort**"
   ]
  },
  {
   "cell_type": "markdown",
   "id": "6c81c692",
   "metadata": {},
   "source": [
    "### 7. Come up with a correct solution for the problem. State it in plain English.\n",
    "\n",
    "\n",
    ">  we can create an array where the indices represent 0 boxes per unit, 1 boxes per unit, 2 boxes per unit, 3 boxes per unit, ... 1000 boxes per unit. And the buckets[i] will represent the number of boxes at each index."
   ]
  },
  {
   "cell_type": "markdown",
   "id": "6986aefd",
   "metadata": {},
   "source": [
    "### 8. Implement the solution and test it using example inputs. Fix bugs, if any."
   ]
  },
  {
   "cell_type": "code",
   "execution_count": 7,
   "id": "122466c3",
   "metadata": {},
   "outputs": [],
   "source": [
    "def maximum_units(boxTypes, truckSize):\n",
    "    \n",
    "    # Set bucket\n",
    "    largest_unit = max(box[1] for box in boxTypes)\n",
    "    bucket = [0]*(largest_unit+1)\n",
    "    \n",
    "    # Fill bucket [numberOfUnitsPerBox -> numberOfBoxes]\n",
    "    for boxes, units in boxTypes:\n",
    "        bucket[units] += boxes\n",
    "        \n",
    "    # Set maximum units to zero\n",
    "    max_units = 0\n",
    "    \n",
    "    # Since maximum units are at end we traverse in reverse\n",
    "    for numberOfUnitsPerBox in range(largest_unit, 0, -1):\n",
    "        \n",
    "        numberOfBoxes = bucket[numberOfUnitsPerBox]\n",
    "        select_boxes = min(numberOfBoxes, truckSize)\n",
    "        max_units +=  select_boxes * numberOfUnitsPerBox\n",
    "        truckSize -= select_boxes\n",
    "        \n",
    "        if truckSize == 0: \n",
    "            \n",
    "            # Return maximum counts\n",
    "            return max_units\n",
    "        \n",
    "    # Return maximum counts\n",
    "    return max_units"
   ]
  },
  {
   "cell_type": "code",
   "execution_count": 8,
   "id": "2428571a",
   "metadata": {},
   "outputs": [
    {
     "name": "stdout",
     "output_type": "stream",
     "text": [
      "True\n",
      "True\n"
     ]
    }
   ],
   "source": [
    "for i in range(len(tests)):\n",
    "    print(maximum_units(**tests[i]['input'])==tests[i]['output'])"
   ]
  },
  {
   "cell_type": "markdown",
   "id": "35da7de7",
   "metadata": {},
   "source": [
    "### 9. Analyze the algorithm's complexity and identify inefficiencies, if any."
   ]
  },
  {
   "cell_type": "markdown",
   "id": "431b66e6",
   "metadata": {},
   "source": [
    "> Time complexity : **O(N)** <br>\n",
    "> Space complexity : **O(N)**"
   ]
  }
 ],
 "metadata": {
  "kernelspec": {
   "display_name": "Python 3 (ipykernel)",
   "language": "python",
   "name": "python3"
  },
  "language_info": {
   "codemirror_mode": {
    "name": "ipython",
    "version": 3
   },
   "file_extension": ".py",
   "mimetype": "text/x-python",
   "name": "python",
   "nbconvert_exporter": "python",
   "pygments_lexer": "ipython3",
   "version": "3.10.8"
  }
 },
 "nbformat": 4,
 "nbformat_minor": 5
}
