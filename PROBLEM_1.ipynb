{
 "cells": [
  {
   "cell_type": "markdown",
   "id": "e5d4903a",
   "metadata": {},
   "source": [
    "# Two Sum "
   ]
  },
  {
   "cell_type": "markdown",
   "id": "e00f4d89",
   "metadata": {},
   "source": [
    "## Problem Statement\n",
    "\n",
    "\n",
    "> Given an array of integers nums and an integer target, return indices of the two numbers such that they add up to target.\n",
    "> You may assume that each input would have exactly one solution, and you may not use the same element twice.\n",
    "> You can return the answer in any order.\n",
    "\n",
    "\n",
    "Source: https://leetcode.com/problems/two-sum/"
   ]
  },
  {
   "cell_type": "markdown",
   "id": "d7e8d774",
   "metadata": {},
   "source": [
    "## Solution\n",
    "\n",
    "\n",
    "### 1. State the problem clearly. Identify the input & output formats.\n",
    "\n",
    "\n",
    "**Problem**\n",
    "> We have array of integers `nums` and an integer `target`.\n",
    "> We should return indices of the two numbers such that they add up to target.\n",
    "> We may not use the same element twice and each input exactly one solution.\n",
    "> Return index in any order.\n",
    "<br/>\n",
    "\n",
    "\n",
    "**Input**\n",
    "\n",
    "1. nums = [2,7,11,15]\n",
    "2. target = 9\n",
    "\n",
    "\n",
    "**Output**\n",
    "\n",
    "1. [0,1]\n",
    "\n",
    "\n",
    "<br/>\n",
    "\n",
    "Based on the above, we can now create a signature of our function:"
   ]
  },
  {
   "cell_type": "code",
   "execution_count": 1,
   "id": "2066c59e",
   "metadata": {},
   "outputs": [],
   "source": [
    "def two_sum(nums, target):\n",
    "    pass"
   ]
  },
  {
   "cell_type": "markdown",
   "id": "d6a980f9",
   "metadata": {},
   "source": [
    "### 2. Come up with some example inputs & outputs. Try to cover all edge cases.\n",
    "\n",
    "\n",
    "1. `nums` contain two element.\n",
    "2. `nums` contain two element that add up to `target` number.\n",
    "3. `nums` contain more than two element.\n",
    "4. `nums` contain duplicate number that add up to `target` number.\n",
    "5. `nums` contain more repeated number."
   ]
  },
  {
   "cell_type": "code",
   "execution_count": 2,
   "id": "31370543",
   "metadata": {},
   "outputs": [],
   "source": [
    "tests = []"
   ]
  },
  {
   "cell_type": "code",
   "execution_count": 3,
   "id": "f76e7f08",
   "metadata": {},
   "outputs": [],
   "source": [
    "tests.append({\n",
    "    'input': {\n",
    "        'nums' : [1, 2],\n",
    "        'target': 3        \n",
    "    },\n",
    "    'output1': [0, 1],\n",
    "    'output2': [1, 0]\n",
    "})"
   ]
  },
  {
   "cell_type": "code",
   "execution_count": 4,
   "id": "fb327405",
   "metadata": {},
   "outputs": [],
   "source": [
    "tests.append({\n",
    "    'input': {\n",
    "        'nums' : [1, 1],\n",
    "        'target': 2        \n",
    "    },\n",
    "    'output1': [0, 1],\n",
    "    'output2': [1, 0]\n",
    "})"
   ]
  },
  {
   "cell_type": "code",
   "execution_count": 5,
   "id": "08134a2b",
   "metadata": {},
   "outputs": [],
   "source": [
    "tests.append({\n",
    "    'input': {\n",
    "        'nums' : [1, 5, 6, 2, 3, 4],\n",
    "        'target': 4        \n",
    "    },\n",
    "    'output1': [0, 4],\n",
    "    'output2': [4, 0]\n",
    "})"
   ]
  },
  {
   "cell_type": "code",
   "execution_count": 6,
   "id": "ab4997ab",
   "metadata": {},
   "outputs": [],
   "source": [
    "tests.append({\n",
    "    'input': {\n",
    "        'nums' : [9, 2, 6, 2, 3, 4],\n",
    "        'target': 4        \n",
    "    },\n",
    "    'output1': [1, 3],\n",
    "    'output2': [3, 1]\n",
    "})"
   ]
  },
  {
   "cell_type": "code",
   "execution_count": 7,
   "id": "fb25f247",
   "metadata": {},
   "outputs": [],
   "source": [
    "tests.append({\n",
    "    'input': {\n",
    "        'nums' : [1, 1, 2, 9, 4, 4, 2, 9],\n",
    "        'target': 4        \n",
    "    },\n",
    "    'output1': [6, 2],\n",
    "    'output2': [2, 6]\n",
    "})"
   ]
  },
  {
   "cell_type": "markdown",
   "id": "e881b6ff",
   "metadata": {},
   "source": [
    "### 3. Come up with a correct solution for the problem. State it in plain English.\n",
    "\n",
    "\n",
    "1. We iterating through loop and compare each element of nums to each element of nums expect that same index element. \n",
    "2. If we found two numbers such that they add up to target then we return index."
   ]
  },
  {
   "cell_type": "markdown",
   "id": "e82eb080",
   "metadata": {},
   "source": [
    "###  4. Implement the solution and test it using example inputs. Fix bugs, if any."
   ]
  },
  {
   "cell_type": "code",
   "execution_count": 8,
   "id": "977f6188",
   "metadata": {},
   "outputs": [],
   "source": [
    "def two_sum(nums, target):\n",
    "    for i in range(len(nums)):\n",
    "        for j in range(len(nums)):\n",
    "            if i != j and nums[i] + nums[j] == target:\n",
    "                return [i, j]"
   ]
  },
  {
   "cell_type": "code",
   "execution_count": 9,
   "id": "7a5c23a2",
   "metadata": {},
   "outputs": [
    {
     "name": "stdout",
     "output_type": "stream",
     "text": [
      "True\n",
      "True\n",
      "True\n",
      "True\n",
      "True\n"
     ]
    }
   ],
   "source": [
    "for i in range(5):\n",
    "    print(two_sum(**tests[i]['input']) == tests[i]['output1'] or \n",
    "          two_sum(**tests[i]['input']) == tests[i]['output2'])"
   ]
  },
  {
   "cell_type": "markdown",
   "id": "43746b77",
   "metadata": {},
   "source": [
    "### 5. Analyze the algorithm's complexity and identify inefficiencies, if any."
   ]
  },
  {
   "cell_type": "markdown",
   "id": "27261603",
   "metadata": {},
   "source": [
    "> Time complexity : **O(N^2)** <br>\n",
    "> Space complexity : **O(1)**"
   ]
  },
  {
   "cell_type": "markdown",
   "id": "14c03d94",
   "metadata": {},
   "source": [
    "### 6. Apply the right technique to overcome the inefficiency. Repeat steps 3 to 6."
   ]
  },
  {
   "cell_type": "markdown",
   "id": "ee808f93",
   "metadata": {},
   "source": [
    "> **Using dict**<br>\n",
    "> To store the index and value we need dict data structure."
   ]
  },
  {
   "cell_type": "markdown",
   "id": "6c81c692",
   "metadata": {},
   "source": [
    "### 7. Come up with a correct solution for the problem. State it in plain English.\n",
    "\n",
    "\n",
    "1. Create a empty dictionary `seen`.\n",
    "2. Set a loop for finding index.\n",
    "3. Set first and second value which can be equal to target.\n",
    "4. Check second value is in `seen`.\n",
    "5. If present than return list of index of two sum.\n",
    "6. If not present than add first index and value in `seen`."
   ]
  },
  {
   "cell_type": "markdown",
   "id": "6986aefd",
   "metadata": {},
   "source": [
    "### 8. Implement the solution and test it using example inputs. Fix bugs, if any."
   ]
  },
  {
   "cell_type": "code",
   "execution_count": 10,
   "id": "4da38c43",
   "metadata": {},
   "outputs": [],
   "source": [
    "def two_sum(nums, target):\n",
    "    \n",
    "    # Create a seen dictionary\n",
    "    seen = {}\n",
    "    \n",
    "    # Set a loop for repetation\n",
    "    for f_index in range(len(nums)):\n",
    "        \n",
    "        # Set first and second value which can be equal to target\n",
    "        f_value = nums[f_index]\n",
    "        s_value = target - f_value\n",
    "        \n",
    "        # Check second value is in seen dict\n",
    "        if s_value in seen: \n",
    "            \n",
    "            # Get second index in seen dict\n",
    "            s_index = seen.get(s_value)\n",
    "            \n",
    "            # Return index\n",
    "            return [f_index , s_index]\n",
    "        \n",
    "        # Update seen dict \n",
    "        else:\n",
    "            seen[f_value] = f_index\n",
    "         "
   ]
  },
  {
   "cell_type": "code",
   "execution_count": 11,
   "id": "2f8759d5",
   "metadata": {},
   "outputs": [
    {
     "name": "stdout",
     "output_type": "stream",
     "text": [
      "True\n",
      "True\n",
      "True\n",
      "True\n",
      "True\n"
     ]
    }
   ],
   "source": [
    "for i in range(5):\n",
    "    print(two_sum(**tests[i]['input']) == tests[i]['output1'] or \n",
    "          two_sum(**tests[i]['input']) == tests[i]['output2'])"
   ]
  },
  {
   "cell_type": "markdown",
   "id": "35da7de7",
   "metadata": {},
   "source": [
    "### 9. Analyze the algorithm's complexity and identify inefficiencies, if any."
   ]
  },
  {
   "cell_type": "markdown",
   "id": "d51c04a5",
   "metadata": {},
   "source": [
    "> Time complexity : **O(N)** <br>\n",
    "> Space complexity : **O(N)**"
   ]
  }
 ],
 "metadata": {
  "kernelspec": {
   "display_name": "Python 3 (ipykernel)",
   "language": "python",
   "name": "python3"
  },
  "language_info": {
   "codemirror_mode": {
    "name": "ipython",
    "version": 3
   },
   "file_extension": ".py",
   "mimetype": "text/x-python",
   "name": "python",
   "nbconvert_exporter": "python",
   "pygments_lexer": "ipython3",
   "version": "3.10.8"
  }
 },
 "nbformat": 4,
 "nbformat_minor": 5
}
