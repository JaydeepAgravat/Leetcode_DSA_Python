{
 "cells": [
  {
   "cell_type": "markdown",
   "id": "e5d4903a",
   "metadata": {},
   "source": [
    "# Problem Missing Number"
   ]
  },
  {
   "cell_type": "markdown",
   "id": "e00f4d89",
   "metadata": {},
   "source": [
    "## Problem Statement\n",
    "\n",
    "\n",
    "> Given an array nums containing n distinct numbers in the range [0, n], return the only number in the range that is missing from the array.\n",
    "\n",
    "Source: https://leetcode.com/problems/missing-number/"
   ]
  },
  {
   "cell_type": "markdown",
   "id": "d7e8d774",
   "metadata": {},
   "source": [
    "## Solution\n",
    "\n",
    "\n",
    "### 1. State the problem clearly. Identify the input & output formats.\n",
    "\n",
    "\n",
    "**Problem**\n",
    "\n",
    "> We need to write a program to find missing number in the list.List have n unique number in the range : [0,n].\n",
    " \n",
    "\n",
    "<br/>\n",
    "\n",
    "\n",
    "**Input**\n",
    "\n",
    "1. `nums`: A list of  3 unique number in the range : [0,3].\n",
    "E.g.`[3,0,1]`\n",
    "\n",
    "**Output**\n",
    "\n",
    "1. `missing_element`: missing number in the list.\n",
    "E.g.`2`\n",
    "\n",
    "\n",
    "<br/>\n",
    "\n",
    "Based on the above, we can now create a signature of our function:"
   ]
  },
  {
   "cell_type": "code",
   "execution_count": 1,
   "id": "2066c59e",
   "metadata": {},
   "outputs": [],
   "source": [
    "def missing_number(nums):\n",
    "    pass"
   ]
  },
  {
   "cell_type": "markdown",
   "id": "d6a980f9",
   "metadata": {},
   "source": [
    "### 2. Come up with some example inputs & outputs. Try to cover all edge cases.\n",
    "\n",
    "\n",
    "1. The list `nums` is empty.\n",
    "2. The list `nums` contain just one element.\n",
    "3. The list `nums` contain more than one element."
   ]
  },
  {
   "cell_type": "code",
   "execution_count": 2,
   "id": "31370543",
   "metadata": {},
   "outputs": [],
   "source": [
    "tests = []"
   ]
  },
  {
   "cell_type": "code",
   "execution_count": 3,
   "id": "ce4934c2",
   "metadata": {},
   "outputs": [],
   "source": [
    "tests.append({\n",
    "    'input': {\n",
    "        'nums' : []\n",
    "    },\n",
    "    'output': 0\n",
    "})"
   ]
  },
  {
   "cell_type": "code",
   "execution_count": 4,
   "id": "4c81ce51",
   "metadata": {},
   "outputs": [],
   "source": [
    "tests.append({\n",
    "    'input': {\n",
    "        'nums' : [1]\n",
    "    },\n",
    "    'output': 0\n",
    "})"
   ]
  },
  {
   "cell_type": "code",
   "execution_count": 5,
   "id": "f76e7f08",
   "metadata": {},
   "outputs": [],
   "source": [
    "tests.append({\n",
    "    'input': {\n",
    "        'nums' : [1,2,3,0]\n",
    "    },\n",
    "    'output': 4\n",
    "})"
   ]
  },
  {
   "cell_type": "markdown",
   "id": "e881b6ff",
   "metadata": {},
   "source": [
    "### 3. Come up with a correct solution for the problem. State it in plain English.\n",
    "\n",
    "1. Creat a list of `Range(0,n+1)`.\n",
    "1. We loop through the list `Range(0,n+1)`. \n",
    "2. Compare each element of the list `Range(0, n+1)` to each element of the list `nums`.\n",
    "3. If any elemenet in the list `Range(0, n+1)` not found in the list `nums` we return `missing_element`."
   ]
  },
  {
   "cell_type": "markdown",
   "id": "e82eb080",
   "metadata": {},
   "source": [
    "###  4. Implement the solution and test it using example inputs. Fix bugs, if any."
   ]
  },
  {
   "cell_type": "code",
   "execution_count": 6,
   "id": "39fc3b0e",
   "metadata": {},
   "outputs": [],
   "source": [
    "def missing_number(nums):\n",
    "    \n",
    "    # Nuber of element in list\n",
    "    n = len(nums)\n",
    "    \n",
    "    # Create a list [0...n]  \n",
    "    range_list = [i for i in range(0,n+1)]\n",
    "\n",
    "    # Set a loop for repetition\n",
    "    for missing_element in range_list:\n",
    "        \n",
    "        # Check if element is found in the list nums\n",
    "        if missing_element not in nums:\n",
    "            \n",
    "            # Found missing number\n",
    "            return missing_element\n",
    "                "
   ]
  },
  {
   "cell_type": "code",
   "execution_count": 7,
   "id": "4d5d7ec4",
   "metadata": {},
   "outputs": [
    {
     "name": "stdout",
     "output_type": "stream",
     "text": [
      "True\n",
      "True\n",
      "True\n"
     ]
    }
   ],
   "source": [
    "for i in range(3):\n",
    "    print(missing_number(tests[i]['input']['nums']) == tests[i]['output'])"
   ]
  },
  {
   "cell_type": "markdown",
   "id": "43746b77",
   "metadata": {},
   "source": [
    "### 5. Analyze the algorithm's complexity and identify inefficiencies, if any."
   ]
  },
  {
   "cell_type": "markdown",
   "id": "a169cab6",
   "metadata": {},
   "source": [
    "> Time complexity : **O(N^2)**\n",
    "<br>\n",
    "> Space complexity : **O(1)**"
   ]
  },
  {
   "cell_type": "markdown",
   "id": "14c03d94",
   "metadata": {},
   "source": [
    "### 6. Apply the right technique to overcome the inefficiency. Repeat steps 3 to 6."
   ]
  },
  {
   "cell_type": "markdown",
   "id": "17a40d5f",
   "metadata": {},
   "source": [
    "> **Using Xor**\n",
    "<br>\n",
    "> To find unique element and avoid duplicate element."
   ]
  },
  {
   "cell_type": "markdown",
   "id": "6c81c692",
   "metadata": {},
   "source": [
    "### 7. Come up with a correct solution for the problem. State it in plain English.\n",
    "\n",
    "\n",
    "1. Create a `xor` variable.\n",
    "2. We loop through the list `nums` and perform `XOR` operation between [0, N] and nums.\n",
    "3. `XOR` operation eliminate the duplicate number and reveal missing number. "
   ]
  },
  {
   "cell_type": "markdown",
   "id": "6986aefd",
   "metadata": {},
   "source": [
    "### 8. Implement the solution and test it using example inputs. Fix bugs, if any."
   ]
  },
  {
   "cell_type": "code",
   "execution_count": 8,
   "id": "4da38c43",
   "metadata": {},
   "outputs": [],
   "source": [
    "def missing_number(nums):\n",
    "    \n",
    "    # Create a xor\n",
    "    xor = len(nums) \n",
    "    \n",
    "    # Set a loop for repetition\n",
    "    index = 0\n",
    "    while index != len(nums):\n",
    "        \n",
    "        # Perform xor operation\n",
    "        # To element the duplicate and reveal missing number\n",
    "        xor ^= index ^ nums[index]\n",
    "        \n",
    "        # Increment the index\n",
    "        index += 1\n",
    "    \n",
    "    # xor contain missing number\n",
    "    return xor"
   ]
  },
  {
   "cell_type": "code",
   "execution_count": 9,
   "id": "2f8759d5",
   "metadata": {},
   "outputs": [
    {
     "name": "stdout",
     "output_type": "stream",
     "text": [
      "True\n",
      "True\n",
      "True\n"
     ]
    }
   ],
   "source": [
    "for i in range(3):\n",
    "    print(missing_number(tests[i]['input']['nums']) == tests[i]['output'])"
   ]
  },
  {
   "cell_type": "markdown",
   "id": "35da7de7",
   "metadata": {},
   "source": [
    "### 9. Analyze the algorithm's complexity and identify inefficiencies, if any."
   ]
  },
  {
   "cell_type": "markdown",
   "id": "e9535919",
   "metadata": {},
   "source": [
    "> Time complexity : **O(N)**\n",
    "<br>\n",
    "> Space complexity : **O(1)**"
   ]
  },
  {
   "cell_type": "markdown",
   "id": "49e3609c",
   "metadata": {},
   "source": [
    "### 10. Apply the right technique to overcome the inefficiency. Repeat steps 3 to 6."
   ]
  },
  {
   "cell_type": "markdown",
   "id": "8df68d5f",
   "metadata": {},
   "source": [
    "> **Using Math**\n",
    "<br>\n",
    "> sum of [0....N]"
   ]
  },
  {
   "cell_type": "markdown",
   "id": "5d3567f4",
   "metadata": {},
   "source": [
    "### 11. Come up with a correct solution for the problem. State it in plain English.\n",
    "\n",
    "\n",
    "1. Find the sum of [0,N].\n",
    "2. Find the sum of list `nums`.\n",
    "3. Subtract the both sums.\n",
    "4. Return the missing number."
   ]
  },
  {
   "cell_type": "markdown",
   "id": "9b7e1a38",
   "metadata": {},
   "source": [
    "### 12. Implement the solution and test it using example inputs. Fix bugs, if any."
   ]
  },
  {
   "cell_type": "code",
   "execution_count": 10,
   "id": "30402560",
   "metadata": {},
   "outputs": [],
   "source": [
    "def missing_number(nums):\n",
    "    \n",
    "    # Number of element in nums\n",
    "    n = len(nums)\n",
    "    \n",
    "    # expected sum : [0...N]\n",
    "    expected_sum = (n * (n+1)) // 2\n",
    "    \n",
    "    # actual sum : nums\n",
    "    actual_sum= sum(nums)\n",
    "    \n",
    "    # Find missing element\n",
    "    missing_element = expected_sum - actual_sum\n",
    "    \n",
    "    # Return missing element\n",
    "    return missing_element"
   ]
  },
  {
   "cell_type": "code",
   "execution_count": 11,
   "id": "c536d90e",
   "metadata": {},
   "outputs": [
    {
     "name": "stdout",
     "output_type": "stream",
     "text": [
      "True\n",
      "True\n",
      "True\n"
     ]
    }
   ],
   "source": [
    "for i in range(3):\n",
    "    print(missing_number(tests[i]['input']['nums']) == tests[i]['output'])"
   ]
  },
  {
   "cell_type": "markdown",
   "id": "282b3de0",
   "metadata": {},
   "source": [
    "### 13. Analyze the algorithm's complexity and identify inefficiencies, if any."
   ]
  },
  {
   "cell_type": "markdown",
   "id": "35b92910",
   "metadata": {},
   "source": [
    "> Time complexity : **O(N)**\n",
    "<br>\n",
    "> Space complexity : **O(1)**"
   ]
  }
 ],
 "metadata": {
  "kernelspec": {
   "display_name": "Python 3 (ipykernel)",
   "language": "python",
   "name": "python3"
  },
  "language_info": {
   "codemirror_mode": {
    "name": "ipython",
    "version": 3
   },
   "file_extension": ".py",
   "mimetype": "text/x-python",
   "name": "python",
   "nbconvert_exporter": "python",
   "pygments_lexer": "ipython3",
   "version": "3.10.8"
  }
 },
 "nbformat": 4,
 "nbformat_minor": 5
}
