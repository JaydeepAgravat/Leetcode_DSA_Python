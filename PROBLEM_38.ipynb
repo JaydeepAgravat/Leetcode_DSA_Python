{
 "cells": [
  {
   "cell_type": "markdown",
   "id": "e5d4903a",
   "metadata": {},
   "source": [
    "# Kth Missing Positive Number"
   ]
  },
  {
   "cell_type": "markdown",
   "id": "e00f4d89",
   "metadata": {},
   "source": [
    "## Problem Statement\n",
    "\n",
    "\n",
    "> Given an array arr of positive integers sorted in a strictly increasing order, and an integer k.\n",
    "\n",
    "> Return the kth positive integer that is missing from this array.\n",
    "\n",
    "\n",
    "Source: https://leetcode.com/problems/kth-missing-positive-number/submissions/856036970/"
   ]
  },
  {
   "cell_type": "markdown",
   "id": "d7e8d774",
   "metadata": {},
   "source": [
    "## Solution\n",
    "\n",
    "\n",
    "### 1. State the problem clearly. Identify the input & output formats.\n",
    "\n",
    "\n",
    "**Problem**\n",
    "\n",
    "> Given an array arr of positive integers sorted in a strictly increasing order, and an integer k.\n",
    "Return the kth positive integer that is missing from this array.\n",
    "\n",
    "<br/>\n",
    "\n",
    "\n",
    "```python\n",
    "Input: arr = [2,3,4,7,11], k = 5\n",
    "Output: 9\n",
    "Explanation: \n",
    "# The missing positive integers are [1,5,6,8,9,10,12,13,...]. \n",
    "# The 5th missing positive integer is 9.\n",
    "```\n",
    "\n",
    "\n",
    "<br/>\n",
    "\n",
    "Based on the above, we can now create a signature of our function:"
   ]
  },
  {
   "cell_type": "code",
   "execution_count": 1,
   "id": "2066c59e",
   "metadata": {},
   "outputs": [],
   "source": [
    "def find_kth_positive(nums):\n",
    "    pass"
   ]
  },
  {
   "cell_type": "markdown",
   "id": "d6a980f9",
   "metadata": {},
   "source": [
    "### 2. Come up with some example inputs & outputs. Try to cover all edge cases.\n",
    "\n",
    "\n",
    "1. List does not contain any missing value.\n",
    "2. List contain all missing value.\n",
    "3. List range is contain answer.\n",
    "4. List range is does not contain answer."
   ]
  },
  {
   "cell_type": "code",
   "execution_count": 2,
   "id": "31370543",
   "metadata": {},
   "outputs": [],
   "source": [
    "tests = []"
   ]
  },
  {
   "cell_type": "code",
   "execution_count": 3,
   "id": "f76e7f08",
   "metadata": {},
   "outputs": [],
   "source": [
    "tests.append({\n",
    "    'input': {\n",
    "        'nums' : [1,2,3],\n",
    "        'k' : 5\n",
    "    },\n",
    "    'output': 8\n",
    "})"
   ]
  },
  {
   "cell_type": "code",
   "execution_count": 4,
   "id": "fb327405",
   "metadata": {},
   "outputs": [],
   "source": [
    "tests.append({\n",
    "    'input': {\n",
    "        'nums' : [4,5,6],\n",
    "        'k' : 5\n",
    "    },\n",
    "    'output': 8\n",
    "})"
   ]
  },
  {
   "cell_type": "code",
   "execution_count": 5,
   "id": "08134a2b",
   "metadata": {},
   "outputs": [],
   "source": [
    "tests.append({\n",
    "    'input': {\n",
    "        'nums' : [2,3,4,7,11],\n",
    "        'k' : 5\n",
    "    },\n",
    "    'output': 9\n",
    "})"
   ]
  },
  {
   "cell_type": "code",
   "execution_count": 6,
   "id": "6a7baae0",
   "metadata": {},
   "outputs": [],
   "source": [
    "tests.append({\n",
    "    'input': {\n",
    "        'nums' : [1],\n",
    "        'k' : 999\n",
    "    },\n",
    "    'output': 1000\n",
    "})"
   ]
  },
  {
   "cell_type": "markdown",
   "id": "e881b6ff",
   "metadata": {},
   "source": [
    "### 3. Come up with a correct solution for the problem. State it in plain English.\n",
    "\n",
    "\n",
    "> **Linear Search**"
   ]
  },
  {
   "cell_type": "markdown",
   "id": "e82eb080",
   "metadata": {},
   "source": [
    "###  4. Implement the solution and test it using example inputs. Fix bugs, if any."
   ]
  },
  {
   "cell_type": "code",
   "execution_count": 7,
   "id": "977f6188",
   "metadata": {},
   "outputs": [],
   "source": [
    "def find_kth_positive(nums, k):\n",
    "    \n",
    "    # Set a loop for repetations\n",
    "    for i in range(len(nums)):\n",
    "        \n",
    "        # Find No. missing integer at mid\n",
    "        no_mis_int = nums[i]-i-1\n",
    "        \n",
    "        # If NO. missing integer is greater than k\n",
    "        if no_mis_int >= k:\n",
    "                \n",
    "                # Then return kth missing integer\n",
    "                return i+k\n",
    "    \n",
    "    # Return kth missing integer\n",
    "    return len(nums)+k"
   ]
  },
  {
   "cell_type": "code",
   "execution_count": 8,
   "id": "7a5c23a2",
   "metadata": {},
   "outputs": [
    {
     "name": "stdout",
     "output_type": "stream",
     "text": [
      "True\n",
      "True\n",
      "True\n",
      "True\n"
     ]
    }
   ],
   "source": [
    "for i in range(len(tests)):\n",
    "    print(find_kth_positive(**tests[i]['input'])==tests[i]['output'])"
   ]
  },
  {
   "cell_type": "markdown",
   "id": "43746b77",
   "metadata": {},
   "source": [
    "### 5. Analyze the algorithm's complexity and identify inefficiencies, if any."
   ]
  },
  {
   "cell_type": "markdown",
   "id": "b282b451",
   "metadata": {},
   "source": [
    "> Time complexity : **O(N)** <br>\n",
    "> Space complexity : **O(1)**"
   ]
  },
  {
   "cell_type": "markdown",
   "id": "14c03d94",
   "metadata": {},
   "source": [
    "### 6. Apply the right technique to overcome the inefficiency. Repeat steps 3 to 6."
   ]
  },
  {
   "cell_type": "markdown",
   "id": "28d344c5",
   "metadata": {},
   "source": [
    "> **Binary Search**"
   ]
  },
  {
   "cell_type": "markdown",
   "id": "6c81c692",
   "metadata": {},
   "source": [
    "### 7. Come up with a correct solution for the problem. State it in plain English.\n",
    "\n",
    "\n",
    "> We need to find index of ⌈k⌉ missing interger &\n",
    "> Add to k."
   ]
  },
  {
   "cell_type": "markdown",
   "id": "6986aefd",
   "metadata": {},
   "source": [
    "### 8. Implement the solution and test it using example inputs. Fix bugs, if any."
   ]
  },
  {
   "cell_type": "code",
   "execution_count": 9,
   "id": "4da38c43",
   "metadata": {},
   "outputs": [],
   "source": [
    "def find_kth_positive(nums, k):\n",
    "    \n",
    "    # Set two pointer    \n",
    "    low, high = 0, len(nums)-1\n",
    "    \n",
    "    # Set a loop for repetation\n",
    "    while low<=high:\n",
    "        \n",
    "        # For mid\n",
    "        mid = (low+high)//2\n",
    "        \n",
    "        # Find No. missing integer at mid\n",
    "        no_mis_int = nums[mid]-mid-1\n",
    "        \n",
    "        # If No. missing integer is less than k\n",
    "        if no_mis_int < k:\n",
    "            \n",
    "            # Then increment low\n",
    "            low = mid + 1\n",
    "        else:\n",
    "            \n",
    "            # Not than decrement high\n",
    "            high = mid - 1\n",
    "    \n",
    "    # Return Kth value\n",
    "    return low + k"
   ]
  },
  {
   "cell_type": "code",
   "execution_count": 10,
   "id": "2f8759d5",
   "metadata": {},
   "outputs": [
    {
     "name": "stdout",
     "output_type": "stream",
     "text": [
      "True\n",
      "True\n",
      "True\n",
      "True\n"
     ]
    }
   ],
   "source": [
    "for i in range(len(tests)):\n",
    "    print(find_kth_positive(**tests[i]['input'])==tests[i]['output'])"
   ]
  },
  {
   "cell_type": "markdown",
   "id": "35da7de7",
   "metadata": {},
   "source": [
    "### 9. Analyze the algorithm's complexity and identify inefficiencies, if any."
   ]
  },
  {
   "cell_type": "markdown",
   "id": "590365fc",
   "metadata": {},
   "source": [
    "> Time complexity : **O(log(N))** <br>\n",
    "> Space complexity : **O(1)**"
   ]
  }
 ],
 "metadata": {
  "kernelspec": {
   "display_name": "Python 3 (ipykernel)",
   "language": "python",
   "name": "python3"
  },
  "language_info": {
   "codemirror_mode": {
    "name": "ipython",
    "version": 3
   },
   "file_extension": ".py",
   "mimetype": "text/x-python",
   "name": "python",
   "nbconvert_exporter": "python",
   "pygments_lexer": "ipython3",
   "version": "3.10.8"
  }
 },
 "nbformat": 4,
 "nbformat_minor": 5
}
