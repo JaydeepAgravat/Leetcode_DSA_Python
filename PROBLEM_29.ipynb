{
 "cells": [
  {
   "cell_type": "markdown",
   "id": "e5d4903a",
   "metadata": {},
   "source": [
    "# Intersection of Two Linked Lists"
   ]
  },
  {
   "cell_type": "markdown",
   "id": "e00f4d89",
   "metadata": {},
   "source": [
    "## Problem Statement\n",
    "\n",
    " \n",
    "> Given the heads of two singly linked-lists headA and headB, return the node at which the two lists intersect. If the two linked lists have no intersection at all, return null.\n",
    "\n",
    "\n",
    "Source: https://leetcode.com/problems/intersection-of-two-linked-lists/description/"
   ]
  },
  {
   "cell_type": "markdown",
   "id": "d7e8d774",
   "metadata": {},
   "source": [
    "## Solution\n",
    "\n",
    "\n",
    "### 1. State the problem clearly. Identify the input & output formats.\n",
    "\n",
    "\n",
    "**Problem**\n",
    "\n",
    "> Given the heads of two singly linked-lists headA and headB, return the node at which the two lists intersect. If the two linked lists have no intersection at all, return null.\n",
    "\n",
    "<br/>\n",
    "\n",
    "<img src=\"https://assets.leetcode.com/uploads/2021/03/05/160_example_1_1.png\">\n",
    "\n",
    "- Input: intersectVal = 8, listA = [4,1,8,4,5], listB = [5,6,1,8,4,5], skipA = 2, skipB = 3\n",
    "\n",
    "- Output: Intersected at '8'\n",
    "\n",
    "\n",
    "<br/>\n",
    "\n",
    "Based on the above, we can now create a signature of our function:"
   ]
  },
  {
   "cell_type": "code",
   "execution_count": 1,
   "id": "2066c59e",
   "metadata": {},
   "outputs": [],
   "source": [
    "def get_intersection_node(headA, headB):\n",
    "    pass"
   ]
  },
  {
   "cell_type": "markdown",
   "id": "d6a980f9",
   "metadata": {},
   "source": [
    "### 2. Come up with some example inputs & outputs. Try to cover all edge cases.\n",
    "\n",
    "\n",
    "- The number of nodes of listA is in the m.\n",
    "- The number of nodes of listB is in the n.\n",
    "1. **1 <= m, n <= 3 * 10^4**\n",
    "2. **1 <= Node.val <= 105**"
   ]
  },
  {
   "cell_type": "markdown",
   "id": "e881b6ff",
   "metadata": {},
   "source": [
    "### 3. Come up with a correct solution for the problem. State it in plain English.\n",
    "\n",
    "\n",
    "> **Brute Force**"
   ]
  },
  {
   "cell_type": "markdown",
   "id": "e82eb080",
   "metadata": {},
   "source": [
    "###  4. Implement the solution and test it using example inputs. Fix bugs, if any."
   ]
  },
  {
   "cell_type": "code",
   "execution_count": 2,
   "id": "977f6188",
   "metadata": {},
   "outputs": [],
   "source": [
    "def get_intersection_node(headA, headB):\n",
    "    \n",
    "    # Two pointer\n",
    "    tmpA = headA\n",
    "    tmpB = headB\n",
    "    \n",
    "    # Check for all Node\n",
    "    while tmpA:\n",
    "        tmpB = headB\n",
    "        while tmpB:\n",
    "            if tmpA == tmpB:\n",
    "                # Found intersection\n",
    "                return tmpA\n",
    "            tmpB = tmpB.next\n",
    "        tmpA = tmpA.next\n",
    "        \n",
    "    # Not Found intersection\n",
    "    return None"
   ]
  },
  {
   "cell_type": "markdown",
   "id": "43746b77",
   "metadata": {},
   "source": [
    "### 5. Analyze the algorithm's complexity and identify inefficiencies, if any."
   ]
  },
  {
   "cell_type": "markdown",
   "id": "743cb78b",
   "metadata": {},
   "source": [
    "> Time complexity : **O(M*N)** <br>\n",
    "> Space complexity : **O(1)**"
   ]
  },
  {
   "cell_type": "markdown",
   "id": "14c03d94",
   "metadata": {},
   "source": [
    "### 6. Apply the right technique to overcome the inefficiency. Repeat steps 3 to 6."
   ]
  },
  {
   "cell_type": "markdown",
   "id": "950bad5d",
   "metadata": {},
   "source": [
    "> **Two pointer**"
   ]
  },
  {
   "cell_type": "markdown",
   "id": "6c81c692",
   "metadata": {},
   "source": [
    "### 7. Come up with a correct solution for the problem. State it in plain English.\n",
    "\n",
    "\n",
    "> **Logic:**\n",
    "\n",
    "- If both m & n is same we easily calculate intersaction node or null.\n",
    "- If we set two pointer at equal length we easily calculate intersaction node or null.\n",
    "- Both lists may be of different lenghts but list B + list A same length.\n",
    "- To set pointer at same length we have to know the diff.\n",
    "- Actually we don't care about the \"value\" of difference, we just want to make sure two pointers reach the intersection node at the same time.\n",
    "- We can use two iterations to do that. \n",
    "- In the first iteration, we will reset the pointer of one linkedlist to the head of another linkedlist after it reaches the tail node.\n",
    "- In the second iteration, we will move two pointers until they points to the same node\n",
    "\n",
    "<img src=\"https://assets.leetcode.com/users/images/681dec00-018d-4631-b699-389fe1301a66_1654510021.4787977.png\">"
   ]
  },
  {
   "cell_type": "markdown",
   "id": "6986aefd",
   "metadata": {},
   "source": [
    "### 8. Implement the solution and test it using example inputs. Fix bugs, if any."
   ]
  },
  {
   "cell_type": "code",
   "execution_count": 3,
   "id": "4da38c43",
   "metadata": {},
   "outputs": [],
   "source": [
    "def get_intersection_node(headA, headB):\n",
    "    \n",
    "    # Two pointer\n",
    "    pa = headA\n",
    "    pb = headB\n",
    "\n",
    "    # Traverse both linked list\n",
    "    # with pa & pb\n",
    "    while pa is not pb:\n",
    "        pa = headB if pa is None else pa.next\n",
    "        pb = headA if pb is None else pb.next\n",
    "    \n",
    "    # Intersaction Node\n",
    "    return pa"
   ]
  },
  {
   "cell_type": "markdown",
   "id": "35da7de7",
   "metadata": {},
   "source": [
    "### 9. Analyze the algorithm's complexity and identify inefficiencies, if any."
   ]
  },
  {
   "cell_type": "markdown",
   "id": "c4cd823f",
   "metadata": {},
   "source": [
    "> Time complexity : **O(M+N)** <br>\n",
    "> Space complexity : **O(1)**"
   ]
  }
 ],
 "metadata": {
  "kernelspec": {
   "display_name": "Python 3 (ipykernel)",
   "language": "python",
   "name": "python3"
  },
  "language_info": {
   "codemirror_mode": {
    "name": "ipython",
    "version": 3
   },
   "file_extension": ".py",
   "mimetype": "text/x-python",
   "name": "python",
   "nbconvert_exporter": "python",
   "pygments_lexer": "ipython3",
   "version": "3.10.8"
  }
 },
 "nbformat": 4,
 "nbformat_minor": 5
}
