{
 "cells": [
  {
   "cell_type": "markdown",
   "id": "e5d4903a",
   "metadata": {},
   "source": [
    "# Remove Linked List Elements"
   ]
  },
  {
   "cell_type": "markdown",
   "id": "e00f4d89",
   "metadata": {},
   "source": [
    "## Problem Statement\n",
    "\n",
    "\n",
    "> Given the head of a linked list and an integer val, remove all the nodes of the linked list that has Node.val == val, and return the new head.\n",
    "\n",
    "\n",
    "Source: https://leetcode.com/problems/remove-linked-list-elements/description/"
   ]
  },
  {
   "cell_type": "markdown",
   "id": "d7e8d774",
   "metadata": {},
   "source": [
    "## Solution\n",
    "\n",
    "\n",
    "### 1. State the problem clearly. Identify the input & output formats.\n",
    "\n",
    "\n",
    "**Problem**\n",
    "\n",
    "> Given the head of a linked list and an integer val. <br>\n",
    "> Remove all the nodes of the linked list that has Node.val == val, and return the new head.\n",
    "\n",
    "<br/>\n",
    "\n",
    "\n",
    "**Input**\n",
    "\n",
    "1. head = [1,2,6,3,4,5,6]\n",
    "2. val = 6\n",
    "\n",
    "\n",
    "**Output**\n",
    "\n",
    "1.[1,2,3,4,5]\n",
    "\n",
    "\n",
    "<br/>\n",
    "\n",
    "Based on the above, we can now create a signature of our function:"
   ]
  },
  {
   "cell_type": "code",
   "execution_count": 1,
   "id": "2066c59e",
   "metadata": {},
   "outputs": [],
   "source": [
    "def remove_elements(head, val):\n",
    "    pass"
   ]
  },
  {
   "cell_type": "markdown",
   "id": "d6a980f9",
   "metadata": {},
   "source": [
    "### 2. Come up with some example inputs & outputs. Try to cover all edge cases.\n",
    "\n",
    "\n",
    "1. Linked list is empty.\n",
    "2. First element is `val`.\n",
    "3. Last element is `val`."
   ]
  },
  {
   "cell_type": "markdown",
   "id": "e881b6ff",
   "metadata": {},
   "source": [
    "### 3. Come up with a correct solution for the problem. State it in plain English.\n",
    "\n",
    "\n"
   ]
  },
  {
   "cell_type": "markdown",
   "id": "8ce3f49a",
   "metadata": {},
   "source": [
    "1. Set Two pointer `curr` and  `prev`.\n",
    "2. Traverse the loop over linked list using `curr` pointer.\n",
    "3. Check if element is match than:\n",
    "    1. Check is it first element than move `head`.\n",
    "    2. If note than remove element.\n",
    "4. If note match than set `prev` pointer.\n",
    "5. return `head`"
   ]
  },
  {
   "cell_type": "markdown",
   "id": "e82eb080",
   "metadata": {},
   "source": [
    "###  4. Implement the solution and test it using example inputs. Fix bugs, if any."
   ]
  },
  {
   "cell_type": "code",
   "execution_count": 2,
   "id": "7a5c23a2",
   "metadata": {},
   "outputs": [],
   "source": [
    "def remove_elements(head, val):\n",
    "    \n",
    "    # For traversal the loop\n",
    "    curr = head\n",
    "    \n",
    "    # Previous pointer\n",
    "    prev = None\n",
    "    \n",
    "    # Travers the loop over linked list\n",
    "    while curr:\n",
    "        \n",
    "        # If element is match than remove\n",
    "        if curr.val == val:\n",
    "            \n",
    "            # If first element is match\n",
    "            if prev == None:\n",
    "                \n",
    "                # Move head\n",
    "                head = head.next\n",
    "                \n",
    "            # If any element is match except that first\n",
    "            else:\n",
    "                \n",
    "                # Remove element\n",
    "                prev.next = curr.next\n",
    "                \n",
    "        # Else move previous element\n",
    "        else:\n",
    "            prev = curr\n",
    "            \n",
    "        # Move tmp each time\n",
    "        curr = curr.next\n",
    "    \n",
    "    # Return head\n",
    "    return head"
   ]
  },
  {
   "cell_type": "markdown",
   "id": "43746b77",
   "metadata": {},
   "source": [
    "### 5. Analyze the algorithm's complexity and identify inefficiencies, if any."
   ]
  },
  {
   "cell_type": "markdown",
   "id": "dcdd229c",
   "metadata": {},
   "source": [
    "> Time complexity : **O(N)** <br>\n",
    "> Space complexity : **O(1)**"
   ]
  },
  {
   "cell_type": "markdown",
   "id": "14c03d94",
   "metadata": {},
   "source": [
    "### 6. Apply the right technique to overcome the inefficiency. Repeat steps 3 to 6."
   ]
  },
  {
   "cell_type": "markdown",
   "id": "a5cc4e91",
   "metadata": {},
   "source": [
    "> **Dummy node**<br>\n",
    "> For reducing so much condition."
   ]
  },
  {
   "cell_type": "markdown",
   "id": "6c81c692",
   "metadata": {},
   "source": [
    "### 7. Come up with a correct solution for the problem. State it in plain English.\n",
    "\n",
    "\n",
    "1. Create dummy node which contain head but first element is differnet.\n",
    "2. Set `prev` and `curr` pointer.\n",
    "3. Traverse the linked list using `curr`.\n",
    "4. If element is match than remove element.\n",
    "5. If element is not match than Set `prev` pointer.\n",
    "6. return new head `dummy.next`."
   ]
  },
  {
   "cell_type": "markdown",
   "id": "6986aefd",
   "metadata": {},
   "source": [
    "### 8. Implement the solution and test it using example inputs. Fix bugs, if any."
   ]
  },
  {
   "cell_type": "code",
   "execution_count": 3,
   "id": "4da38c43",
   "metadata": {},
   "outputs": [],
   "source": [
    "def remove_elements(head, val):\n",
    "    dummy = ListNode(next=head)\n",
    "    prev = dummy\n",
    "    curr = head\n",
    "    \n",
    "    while curr:\n",
    "        \n",
    "        if curr.val == val:\n",
    "            prev.next = curr.next\n",
    "        else:\n",
    "            prev = curr\n",
    "        \n",
    "        curr = curr.next\n",
    "    \n",
    "    return dummy.next"
   ]
  },
  {
   "cell_type": "markdown",
   "id": "35da7de7",
   "metadata": {},
   "source": [
    "### 9. Analyze the algorithm's complexity and identify inefficiencies, if any."
   ]
  },
  {
   "cell_type": "markdown",
   "id": "1b69b6e2",
   "metadata": {},
   "source": [
    "> Time complexity : **O(N)** <br>\n",
    "> Space complexity : **O(1)**"
   ]
  }
 ],
 "metadata": {
  "kernelspec": {
   "display_name": "Python 3 (ipykernel)",
   "language": "python",
   "name": "python3"
  },
  "language_info": {
   "codemirror_mode": {
    "name": "ipython",
    "version": 3
   },
   "file_extension": ".py",
   "mimetype": "text/x-python",
   "name": "python",
   "nbconvert_exporter": "python",
   "pygments_lexer": "ipython3",
   "version": "3.10.8"
  }
 },
 "nbformat": 4,
 "nbformat_minor": 5
}
