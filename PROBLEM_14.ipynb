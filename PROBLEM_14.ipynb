{
 "cells": [
  {
   "cell_type": "markdown",
   "id": "e5d4903a",
   "metadata": {},
   "source": [
    "#  Palindrome Linked List"
   ]
  },
  {
   "cell_type": "markdown",
   "id": "e00f4d89",
   "metadata": {},
   "source": [
    "## Problem Statement\n",
    "\n",
    "\n",
    "> Given the head of a singly linked list, return true if it is a palindrome or false otherwise.\n",
    "\n",
    "\n",
    "Source: https://leetcode.com/problems/palindrome-linked-list/description/"
   ]
  },
  {
   "cell_type": "markdown",
   "id": "d7e8d774",
   "metadata": {},
   "source": [
    "## Solution\n",
    "\n",
    "\n",
    "### 1. State the problem clearly. Identify the input & output formats.\n",
    "\n",
    "\n",
    "**Problem**\n",
    "\n",
    "> Given the head of a singly linked list, return true if it is a palindrome or false otherwise.\n",
    "\n",
    "\n",
    "<br/>\n",
    "\n",
    "\n",
    "**Input**\n",
    "\n",
    "1. head = [1,2,2,1]\n",
    "\n",
    "\n",
    "**Output**\n",
    "\n",
    "1. True\n",
    "\n",
    "\n",
    "<br/>\n",
    "\n",
    "Based on the above, we can now create a signature of our function:"
   ]
  },
  {
   "cell_type": "code",
   "execution_count": 1,
   "id": "2066c59e",
   "metadata": {},
   "outputs": [],
   "source": [
    "def is_palindrome(head):\n",
    "    pass"
   ]
  },
  {
   "cell_type": "markdown",
   "id": "d6a980f9",
   "metadata": {},
   "source": [
    "### 2. Come up with some example inputs & outputs. Try to cover all edge cases.\n",
    "\n",
    "\n",
    "1. Linked list is contain one node.\n",
    "2. Linked list is contain more than one node."
   ]
  },
  {
   "cell_type": "markdown",
   "id": "e881b6ff",
   "metadata": {},
   "source": [
    "### 3. Come up with a correct solution for the problem. State it in plain English.\n",
    "\n",
    "\n",
    "1. Check base condition.\n",
    "2. Create list of linked list node's value.\n",
    "3. Check list is palindrome (using two pointer)."
   ]
  },
  {
   "cell_type": "markdown",
   "id": "e82eb080",
   "metadata": {},
   "source": [
    "###  4. Implement the solution and test it using example inputs. Fix bugs, if any."
   ]
  },
  {
   "cell_type": "code",
   "execution_count": 2,
   "id": "977f6188",
   "metadata": {},
   "outputs": [],
   "source": [
    "def is_palindrome(head):\n",
    "    \n",
    "    # If only one node\n",
    "    if head.next == None:\n",
    "        return True\n",
    "    \n",
    "    # Set a list\n",
    "    tmp = head    \n",
    "    lst = []\n",
    "    while tmp:\n",
    "        lst.append(tmp.val)\n",
    "        tmp = tmp.next\n",
    "    \n",
    "    # Check list is palindrome\n",
    "    lo, hi = 0, len(lst)-1\n",
    "    while lo <= hi:\n",
    "        if (lst[lo] != lst[hi]):\n",
    "            return False\n",
    "        lo +=1\n",
    "        hi -= 1\n",
    "    return True"
   ]
  },
  {
   "cell_type": "markdown",
   "id": "43746b77",
   "metadata": {},
   "source": [
    "### 5. Analyze the algorithm's complexity and identify inefficiencies, if any."
   ]
  },
  {
   "cell_type": "markdown",
   "id": "3c25212f",
   "metadata": {},
   "source": [
    "> Time complexity : **O(N)** <br>\n",
    "> Space complexity : **O(N)**"
   ]
  },
  {
   "cell_type": "markdown",
   "id": "14c03d94",
   "metadata": {},
   "source": [
    "### 6. Apply the right technique to overcome the inefficiency. Repeat steps 3 to 6."
   ]
  },
  {
   "cell_type": "markdown",
   "id": "61b43e47",
   "metadata": {},
   "source": [
    "> **By Reversing the Second Half**"
   ]
  },
  {
   "cell_type": "markdown",
   "id": "6c81c692",
   "metadata": {},
   "source": [
    "### 7. Come up with a correct solution for the problem. State it in plain English.\n",
    "\n",
    "\n",
    "1. Find middle of the linked list.\n",
    "2. Reverse half of the linked list.\n",
    "3. Check palindrome (using head & last pointer)."
   ]
  },
  {
   "cell_type": "markdown",
   "id": "6986aefd",
   "metadata": {},
   "source": [
    "### 8. Implement the solution and test it using example inputs. Fix bugs, if any."
   ]
  },
  {
   "cell_type": "code",
   "execution_count": 3,
   "id": "4da38c43",
   "metadata": {},
   "outputs": [],
   "source": [
    "def is_palindrome(head):\n",
    "    \n",
    "    # middle of the linked list\n",
    "    mid = middle(head)\n",
    "    \n",
    "    # reverse second half of linked list\n",
    "    last = reverse(mid)\n",
    "    \n",
    "    # check palindrome\n",
    "    return palindrome(head, last)\n",
    "\n",
    "def middle(head):    \n",
    "    slow = fast = head\n",
    "    while fast and fast.next:\n",
    "        slow = slow.next\n",
    "        fast = fast.next.next\n",
    "    return slow\n",
    "\n",
    "def reverse(middle):\n",
    "    prev = None\n",
    "    curr = nxt = middle\n",
    "    while curr:\n",
    "        nxt = nxt.next\n",
    "        curr.next = prev\n",
    "        prev = curr\n",
    "        curr = nxt\n",
    "    return prev\n",
    "\n",
    "def palindrome(head, last):\n",
    "    while last:\n",
    "        if head.val != last.val:\n",
    "            return False\n",
    "        head = head.next\n",
    "        last = last.next\n",
    "    return True"
   ]
  },
  {
   "cell_type": "markdown",
   "id": "35da7de7",
   "metadata": {},
   "source": [
    "### 9. Analyze the algorithm's complexity and identify inefficiencies, if any."
   ]
  },
  {
   "cell_type": "markdown",
   "id": "1f35c1fe",
   "metadata": {},
   "source": [
    "> Time complexity : **O(N)** <br>\n",
    "> Space complexity : **O(1)**"
   ]
  }
 ],
 "metadata": {
  "kernelspec": {
   "display_name": "Python 3 (ipykernel)",
   "language": "python",
   "name": "python3"
  },
  "language_info": {
   "codemirror_mode": {
    "name": "ipython",
    "version": 3
   },
   "file_extension": ".py",
   "mimetype": "text/x-python",
   "name": "python",
   "nbconvert_exporter": "python",
   "pygments_lexer": "ipython3",
   "version": "3.10.8"
  }
 },
 "nbformat": 4,
 "nbformat_minor": 5
}
