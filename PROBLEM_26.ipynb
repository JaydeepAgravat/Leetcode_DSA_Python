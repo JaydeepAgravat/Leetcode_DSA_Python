{
 "cells": [
  {
   "cell_type": "markdown",
   "id": "e5d4903a",
   "metadata": {},
   "source": [
    "# Search Insert Position"
   ]
  },
  {
   "cell_type": "markdown",
   "id": "e00f4d89",
   "metadata": {},
   "source": [
    "## Problem Statement\n",
    "\n",
    "\n",
    "> Given a sorted array of distinct integers and a target value, return the index if the target is found. If not, return the index where it would be if it were inserted in order.\n",
    "\n",
    "> You must write an algorithm with O(log n) runtime complexity.\n",
    "\n",
    "Source: https://leetcode.com/problems/search-insert-position/description/"
   ]
  },
  {
   "cell_type": "markdown",
   "id": "d7e8d774",
   "metadata": {},
   "source": [
    "## Solution\n",
    "\n",
    "\n",
    "### 1. State the problem clearly. Identify the input & output formats.\n",
    "\n",
    "\n",
    "**Problem**\n",
    "\n",
    "> We need to return insert position of `target` in given list.\n",
    "> list contains distinct values sorted in ascending order.\n",
    "\n",
    "<br/>\n",
    "\n",
    "\n",
    "**Input**\n",
    "\n",
    "1. nums = [1,3,5,6]\n",
    "2. target = 2\n",
    "\n",
    "\n",
    "**Output**\n",
    "\n",
    "1. 1\n",
    "\n",
    "\n",
    "<br/>\n",
    "\n",
    "Based on the above, we can now create a signature of our function:"
   ]
  },
  {
   "cell_type": "code",
   "execution_count": 1,
   "id": "2066c59e",
   "metadata": {},
   "outputs": [],
   "source": [
    "def search_insert(nums, target):\n",
    "    pass"
   ]
  },
  {
   "cell_type": "markdown",
   "id": "d6a980f9",
   "metadata": {},
   "source": [
    "### 2. Come up with some example inputs & outputs. Try to cover all edge cases.\n",
    "\n",
    "\n",
    "1. list contain one element:\n",
    "    1. element == target -> index \n",
    "    2. element > target -> insert first\n",
    "    3. element < target -> insert last\n",
    "2. list contain multiple element:\n",
    "    1. insert first\n",
    "    2. insert last\n",
    "    3. insert any position at b/w first & last position\n",
    "    3. index"
   ]
  },
  {
   "cell_type": "code",
   "execution_count": 2,
   "id": "31370543",
   "metadata": {},
   "outputs": [],
   "source": [
    "tests = []"
   ]
  },
  {
   "cell_type": "code",
   "execution_count": 3,
   "id": "f76e7f08",
   "metadata": {},
   "outputs": [],
   "source": [
    "tests.append({\n",
    "    'input': {\n",
    "        'nums': [1],\n",
    "        'target': 1\n",
    "    },\n",
    "    'output': 0\n",
    "})"
   ]
  },
  {
   "cell_type": "code",
   "execution_count": 4,
   "id": "fb327405",
   "metadata": {},
   "outputs": [],
   "source": [
    "tests.append({\n",
    "    'input': {\n",
    "        'nums': [2],\n",
    "        'target': 1\n",
    "    },\n",
    "    'output': 0\n",
    "})"
   ]
  },
  {
   "cell_type": "code",
   "execution_count": 5,
   "id": "08134a2b",
   "metadata": {},
   "outputs": [],
   "source": [
    "tests.append({\n",
    "    'input': {\n",
    "        'nums': [2],\n",
    "        'target': 3\n",
    "    },\n",
    "    'output': 1\n",
    "})"
   ]
  },
  {
   "cell_type": "code",
   "execution_count": 6,
   "id": "2f4bcebf",
   "metadata": {},
   "outputs": [],
   "source": [
    "tests.append({\n",
    "    'input': {\n",
    "        'nums': [1,2,3],\n",
    "        'target': 2\n",
    "    },\n",
    "    'output': 1\n",
    "})"
   ]
  },
  {
   "cell_type": "code",
   "execution_count": 7,
   "id": "d4d0715c",
   "metadata": {},
   "outputs": [],
   "source": [
    "tests.append({\n",
    "    'input': {\n",
    "        'nums': [1,2,3],\n",
    "        'target': 0\n",
    "    },\n",
    "    'output': 0\n",
    "})"
   ]
  },
  {
   "cell_type": "code",
   "execution_count": 8,
   "id": "c261afc4",
   "metadata": {},
   "outputs": [],
   "source": [
    "tests.append({\n",
    "    'input': {\n",
    "        'nums': [1,2,3],\n",
    "        'target': 4\n",
    "    },\n",
    "    'output': 3\n",
    "})"
   ]
  },
  {
   "cell_type": "code",
   "execution_count": 9,
   "id": "ff07b48b",
   "metadata": {},
   "outputs": [],
   "source": [
    "tests.append({\n",
    "    'input': {\n",
    "        'nums': [1,2,4,5,6],\n",
    "        'target': 3\n",
    "    },\n",
    "    'output': 2\n",
    "})"
   ]
  },
  {
   "cell_type": "markdown",
   "id": "e881b6ff",
   "metadata": {},
   "source": [
    "### 3. Come up with a correct solution for the problem. State it in plain English.\n",
    "\n",
    "\n",
    "> **Binary Search**"
   ]
  },
  {
   "cell_type": "markdown",
   "id": "e82eb080",
   "metadata": {},
   "source": [
    "###  4. Implement the solution and test it using example inputs. Fix bugs, if any."
   ]
  },
  {
   "cell_type": "code",
   "execution_count": 10,
   "id": "977f6188",
   "metadata": {},
   "outputs": [],
   "source": [
    "def search_insert(nums, target):\n",
    "    \n",
    "    # Set two pointer\n",
    "    low, high = 0, len(nums)-1\n",
    "    \n",
    "    # Set a loop for finding position\n",
    "    while low <= high:\n",
    "        \n",
    "        # mid number\n",
    "        mid = (low + high) // 2\n",
    "        \n",
    "        # If target found!\n",
    "        if nums[mid] == target:\n",
    "            return mid\n",
    "        \n",
    "        # Else set pointer\n",
    "        elif nums[mid] < target:\n",
    "            low = mid + 1\n",
    "        else:\n",
    "            high = mid - 1\n",
    "    \n",
    "    # Return insert position\n",
    "    return low"
   ]
  },
  {
   "cell_type": "code",
   "execution_count": 11,
   "id": "7a5c23a2",
   "metadata": {},
   "outputs": [
    {
     "name": "stdout",
     "output_type": "stream",
     "text": [
      "True\n",
      "True\n",
      "True\n",
      "True\n",
      "True\n",
      "True\n",
      "True\n"
     ]
    }
   ],
   "source": [
    "for i in range(len(tests)):\n",
    "    print(search_insert(**tests[i]['input'])==tests[i]['output'])"
   ]
  },
  {
   "cell_type": "markdown",
   "id": "43746b77",
   "metadata": {},
   "source": [
    "### 5. Analyze the algorithm's complexity and identify inefficiencies, if any."
   ]
  },
  {
   "cell_type": "markdown",
   "id": "a4a4eabb",
   "metadata": {},
   "source": [
    "> Time complexity : **O(log(N))** <br>\n",
    "> Space complexity : **O(1)**"
   ]
  }
 ],
 "metadata": {
  "kernelspec": {
   "display_name": "Python 3 (ipykernel)",
   "language": "python",
   "name": "python3"
  },
  "language_info": {
   "codemirror_mode": {
    "name": "ipython",
    "version": 3
   },
   "file_extension": ".py",
   "mimetype": "text/x-python",
   "name": "python",
   "nbconvert_exporter": "python",
   "pygments_lexer": "ipython3",
   "version": "3.10.8"
  }
 },
 "nbformat": 4,
 "nbformat_minor": 5
}
