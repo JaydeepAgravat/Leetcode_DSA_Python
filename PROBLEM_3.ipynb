{
 "cells": [
  {
   "cell_type": "markdown",
   "id": "e5d4903a",
   "metadata": {},
   "source": [
    "# Majority Element"
   ]
  },
  {
   "cell_type": "markdown",
   "id": "e00f4d89",
   "metadata": {},
   "source": [
    "## Problem Statement\n",
    "\n",
    "\n",
    "> Given an array nums of size n, return the majority element.<br>\n",
    "> The majority element is the element that appears more than ⌊n / 2⌋ times.<br> \n",
    "> You may assume that the majority element always exists in the array.\n",
    "\n",
    " \n",
    "\n",
    "\n",
    "Source: https://leetcode.com/problems/majority-element"
   ]
  },
  {
   "cell_type": "markdown",
   "id": "d7e8d774",
   "metadata": {},
   "source": [
    "## Solution\n",
    "\n",
    "\n",
    "### 1. State the problem clearly. Identify the input & output formats.\n",
    "\n",
    "\n",
    "**Problem**\n",
    "\n",
    "> Return the majority element, that appears more than ⌊n / 2⌋ times.<br>\n",
    "> The majority element always exists in the array.\n",
    "\n",
    "<br/>\n",
    "\n",
    "\n",
    "**Input**\n",
    "\n",
    "1. nums = [2,2,1,1,1,2,2]\n",
    "\n",
    "**Output**\n",
    "\n",
    "1. `2`\n",
    "\n",
    "<br/>\n",
    "\n",
    "Based on the above, we can now create a signature of our function:"
   ]
  },
  {
   "cell_type": "code",
   "execution_count": 1,
   "id": "2066c59e",
   "metadata": {},
   "outputs": [],
   "source": [
    "def majority_element(nums):\n",
    "    pass"
   ]
  },
  {
   "cell_type": "markdown",
   "id": "d6a980f9",
   "metadata": {},
   "source": [
    "### 2. Come up with some example inputs & outputs. Try to cover all edge cases.\n",
    "\n",
    "\n",
    "1. The list `nums` contain one element.\n",
    "2. The list `nums` contain two element.\n",
    "3. The list `nums` contain more than two element."
   ]
  },
  {
   "cell_type": "code",
   "execution_count": 2,
   "id": "31370543",
   "metadata": {},
   "outputs": [],
   "source": [
    "tests = []"
   ]
  },
  {
   "cell_type": "code",
   "execution_count": 3,
   "id": "f59fc01d",
   "metadata": {},
   "outputs": [],
   "source": [
    "tests.append({\n",
    "    'input': {\n",
    "        'nums' : [3]\n",
    "    },\n",
    "    'output': 3\n",
    "})"
   ]
  },
  {
   "cell_type": "code",
   "execution_count": 4,
   "id": "e5b03284",
   "metadata": {},
   "outputs": [],
   "source": [
    "tests.append({\n",
    "    'input': {\n",
    "        'nums' : [3, 3]\n",
    "    },\n",
    "    'output': 3\n",
    "})"
   ]
  },
  {
   "cell_type": "code",
   "execution_count": 5,
   "id": "f76e7f08",
   "metadata": {},
   "outputs": [],
   "source": [
    "tests.append({\n",
    "    'input': {\n",
    "        'nums' : [2,2,1,1,1,2,2]\n",
    "    },\n",
    "    'output': 2\n",
    "})"
   ]
  },
  {
   "cell_type": "markdown",
   "id": "e881b6ff",
   "metadata": {},
   "source": [
    "### 3. Come up with a correct solution for the problem. State it in plain English.\n",
    "\n",
    "\n",
    "1. Create a empty dictionary `counter`.\n",
    "2. Set a loop for count the frequancy of element in the list `nums`.\n",
    "3. If element appear more than ⌊n / 2⌋ times than return element."
   ]
  },
  {
   "cell_type": "markdown",
   "id": "e82eb080",
   "metadata": {},
   "source": [
    "###  4. Implement the solution and test it using example inputs. Fix bugs, if any."
   ]
  },
  {
   "cell_type": "code",
   "execution_count": 6,
   "id": "977f6188",
   "metadata": {},
   "outputs": [],
   "source": [
    "def majority_element(nums):\n",
    "    \n",
    "    # Create a empty dict\n",
    "    counter = {}\n",
    "    \n",
    "    # Intialize ⌊n / 2⌋\n",
    "    n = len(nums) // 2\n",
    "\n",
    "    # Set a loop for count the frequancy \n",
    "    for i,num in enumerate(nums):\n",
    "        counter[num] = counter.get(num,0) + 1\n",
    "        \n",
    "        # Return element that appear more than ⌊n / 2⌋ times \n",
    "        if counter[num] > n:\n",
    "            return num"
   ]
  },
  {
   "cell_type": "code",
   "execution_count": 7,
   "id": "7a5c23a2",
   "metadata": {},
   "outputs": [
    {
     "name": "stdout",
     "output_type": "stream",
     "text": [
      "True\n",
      "True\n",
      "True\n"
     ]
    }
   ],
   "source": [
    "for i in range(3):\n",
    "    print(majority_element(tests[i]['input']['nums']) == tests[i]['output'])"
   ]
  },
  {
   "cell_type": "markdown",
   "id": "43746b77",
   "metadata": {},
   "source": [
    "### 5. Analyze the algorithm's complexity and identify inefficiencies, if any."
   ]
  },
  {
   "cell_type": "markdown",
   "id": "1467ac13",
   "metadata": {},
   "source": [
    "> Time complexity : **O(N)**\n",
    "<br>\n",
    "> Space complexity : **O(N)**"
   ]
  },
  {
   "cell_type": "markdown",
   "id": "14c03d94",
   "metadata": {},
   "source": [
    "### 6. Apply the right technique to overcome the inefficiency. Repeat steps 3 to 6."
   ]
  },
  {
   "cell_type": "markdown",
   "id": "abccdd0f",
   "metadata": {},
   "source": [
    "> **Boyer-Moore Majority Voting Algorithm**\n",
    "<br>\n",
    "> To find the majority element among the given elements that have more than N/ 2 occurrences."
   ]
  },
  {
   "cell_type": "markdown",
   "id": "6c81c692",
   "metadata": {},
   "source": [
    "### 7. Come up with a correct solution for the problem. State it in plain English.\n",
    "\n",
    "\n",
    "1. Set `candidate` and `vote` variable.\n",
    "2. Set a loop for voting\n",
    "3. If candidate select then increase vote otherwise decrease vote.\n",
    "4. If vote zero than change candidate & set vote to 1.\n",
    "5. After voting return winning candidate."
   ]
  },
  {
   "cell_type": "markdown",
   "id": "6986aefd",
   "metadata": {},
   "source": [
    "### 8. Implement the solution and test it using example inputs. Fix bugs, if any."
   ]
  },
  {
   "cell_type": "code",
   "execution_count": 8,
   "id": "4da38c43",
   "metadata": {},
   "outputs": [],
   "source": [
    "def majority_element(nums):\n",
    "    \n",
    "    # Set candidate and vote\n",
    "    candidate = nums[0]\n",
    "    vote = 0\n",
    "    \n",
    "    # Set a loop for voting\n",
    "    for num in nums:\n",
    "        \n",
    "        #  Check if candidate select\n",
    "        if candidate == num:\n",
    "            # Then Increase vote\n",
    "            vote += 1\n",
    "        else:\n",
    "            # Else Decrese vote\n",
    "            vote -= 1\n",
    "            \n",
    "        # Check vote if zero\n",
    "        if vote == 0:\n",
    "            \n",
    "            # Then change candidate \n",
    "            candidate = num\n",
    "            \n",
    "            # Set vote to 1\n",
    "            vote = 1\n",
    "    \n",
    "    # Return winning candidate\n",
    "    return candidate"
   ]
  },
  {
   "cell_type": "code",
   "execution_count": 9,
   "id": "2f8759d5",
   "metadata": {},
   "outputs": [
    {
     "name": "stdout",
     "output_type": "stream",
     "text": [
      "True\n",
      "True\n",
      "True\n"
     ]
    }
   ],
   "source": [
    "for i in range(3):\n",
    "    print(majority_element(tests[i]['input']['nums']) == tests[i]['output'])"
   ]
  },
  {
   "cell_type": "markdown",
   "id": "35da7de7",
   "metadata": {},
   "source": [
    "### 9. Analyze the algorithm's complexity and identify inefficiencies, if any."
   ]
  },
  {
   "cell_type": "markdown",
   "id": "769e2a95",
   "metadata": {},
   "source": [
    "> Time complexity : **O(N)**\n",
    "<br>\n",
    "> Space complexity : **O(1)**"
   ]
  }
 ],
 "metadata": {
  "kernelspec": {
   "display_name": "Python 3 (ipykernel)",
   "language": "python",
   "name": "python3"
  },
  "language_info": {
   "codemirror_mode": {
    "name": "ipython",
    "version": 3
   },
   "file_extension": ".py",
   "mimetype": "text/x-python",
   "name": "python",
   "nbconvert_exporter": "python",
   "pygments_lexer": "ipython3",
   "version": "3.10.8"
  }
 },
 "nbformat": 4,
 "nbformat_minor": 5
}
