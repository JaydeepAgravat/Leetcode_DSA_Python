{
 "cells": [
  {
   "cell_type": "markdown",
   "id": "e5d4903a",
   "metadata": {},
   "source": [
    "# Average of Levels in Binary Tree"
   ]
  },
  {
   "cell_type": "markdown",
   "id": "e00f4d89",
   "metadata": {},
   "source": [
    "## Problem Statement\n",
    "\n",
    "\n",
    "> Given the root of a binary tree, return the average value of the nodes on each level in the form of an array. Answers within 10-5 of the actual answer will be accepted.\n",
    "\n",
    "\n",
    "Source: https://leetcode.com/problems/average-of-levels-in-binary-tree/description/"
   ]
  },
  {
   "cell_type": "markdown",
   "id": "d7e8d774",
   "metadata": {},
   "source": [
    "## Solution\n",
    "\n",
    "\n",
    "### 1. State the problem clearly. Identify the input & output formats.\n",
    "\n",
    "\n",
    "**Problem**\n",
    "\n",
    "> Given the root of a binary tree.<br>\n",
    "> return the average value of the nodes on each level in the form of an list.\n",
    "\n",
    "<br/>\n",
    "\n",
    "\n",
    "**Input**\n",
    "\n",
    "1. root = [3,9,20,null,null,15,7]\n",
    "\n",
    "**Output**\n",
    "\n",
    "1. [3.00000,14.50000,11.00000]\n",
    "\n",
    "\n",
    "<br/>\n",
    "\n",
    "Based on the above, we can now create a signature of our function:"
   ]
  },
  {
   "cell_type": "code",
   "execution_count": 1,
   "id": "2066c59e",
   "metadata": {},
   "outputs": [],
   "source": [
    "def average_of_levels(root):\n",
    "    pass"
   ]
  },
  {
   "cell_type": "markdown",
   "id": "d6a980f9",
   "metadata": {},
   "source": [
    "### 2. Come up with some example inputs & outputs. Try to cover all edge cases.\n",
    "\n",
    "\n",
    "1. Number of node is one.\n",
    "2. Number of node is more than one.\n",
    "3. Skewed binary trees."
   ]
  },
  {
   "cell_type": "markdown",
   "id": "e881b6ff",
   "metadata": {},
   "source": [
    "### 3. Come up with a correct solution for the problem. State it in plain English.\n",
    "\n",
    "\n",
    "> **BFS** <br>\n",
    "```\n",
    " Traverse level by level :\n",
    "    Every level:\n",
    "        1. calculate sum of nodes at current level\n",
    "        2. calculate count of nodes at current level\n",
    "    calculate average at current level\n",
    "```"
   ]
  },
  {
   "cell_type": "markdown",
   "id": "e82eb080",
   "metadata": {},
   "source": [
    "###  4. Implement the solution and test it using example inputs. Fix bugs, if any."
   ]
  },
  {
   "cell_type": "code",
   "execution_count": 2,
   "id": "977f6188",
   "metadata": {},
   "outputs": [],
   "source": [
    "# Importing Queue\n",
    "from queue import Queue\n",
    "\n",
    "def average_of_levels(root):\n",
    "    \n",
    "    # Initialize queue\n",
    "    q = Queue()\n",
    "    q.put(root)\n",
    "    \n",
    "    # Initialize empty res list\n",
    "    res = []\n",
    "    \n",
    "    # Traversing level by level\n",
    "    while not q.empty():\n",
    "        \n",
    "        # For calculate sum of nodes in current level\n",
    "        sum = 0 \n",
    "        \n",
    "        # For calculate count of nodes in current level\n",
    "        count = 0\n",
    "        \n",
    "        # Traverseing current level\n",
    "        for _ in range(q.qsize()):\n",
    "            \n",
    "            # Get left node from the Queue\n",
    "            node = q.get()\n",
    "            \n",
    "            # Set sum and count\n",
    "            sum += node.val\n",
    "            count += 1\n",
    "            \n",
    "            # Put left and right node in the Queue\n",
    "            if node.left:\n",
    "                q.put(node.left)\n",
    "            if node.right:\n",
    "                q.put(node.right)\n",
    "        \n",
    "        # Append average in res list\n",
    "        res.append(sum/count)\n",
    "    \n",
    "    # Return res list\n",
    "    return res"
   ]
  },
  {
   "cell_type": "markdown",
   "id": "43746b77",
   "metadata": {},
   "source": [
    "### 5. Analyze the algorithm's complexity and identify inefficiencies, if any."
   ]
  },
  {
   "cell_type": "markdown",
   "id": "2e0070cc",
   "metadata": {},
   "source": [
    "> Time complexity : **O(N)** <br>\n",
    "> Space complexity : **O(W)** <br>\n",
    "> Here, n refers to the number of nodes in the given binary tree.W is the maximum number of nodes at any level in the given binary tree."
   ]
  }
 ],
 "metadata": {
  "kernelspec": {
   "display_name": "Python 3 (ipykernel)",
   "language": "python",
   "name": "python3"
  },
  "language_info": {
   "codemirror_mode": {
    "name": "ipython",
    "version": 3
   },
   "file_extension": ".py",
   "mimetype": "text/x-python",
   "name": "python",
   "nbconvert_exporter": "python",
   "pygments_lexer": "ipython3",
   "version": "3.10.8"
  }
 },
 "nbformat": 4,
 "nbformat_minor": 5
}
