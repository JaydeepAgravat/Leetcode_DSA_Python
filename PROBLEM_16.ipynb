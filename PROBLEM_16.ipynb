{
 "cells": [
  {
   "cell_type": "markdown",
   "id": "e5d4903a",
   "metadata": {},
   "source": [
    "# Minimum Depth of Binary Tree"
   ]
  },
  {
   "cell_type": "markdown",
   "id": "e00f4d89",
   "metadata": {},
   "source": [
    "## Problem Statement\n",
    "\n",
    "\n",
    "> Given a binary tree, find its minimum depth.\n",
    "> The minimum depth is the number of nodes along the shortest path from the root node down to the nearest leaf node.\n",
    "> Note: A leaf is a node with no children.\n",
    "\n",
    "\n",
    "Source: https://leetcode.com/problems/minimum-depth-of-binary-tree/"
   ]
  },
  {
   "cell_type": "markdown",
   "id": "d7e8d774",
   "metadata": {},
   "source": [
    "## Solution\n",
    "\n",
    "\n",
    "### 1. State the problem clearly. Identify the input & output formats.\n",
    "\n",
    "\n",
    "**Problem**\n",
    "\n",
    "> We need to find minimum length from root to leaf node.\n",
    "\n",
    "<br/>\n",
    "\n",
    "\n",
    "**Input**\n",
    "\n",
    "1. root = [3,9,20,null,null,15,7]\n",
    "\n",
    "\n",
    "**Output**\n",
    "\n",
    "1. 2\n",
    "\n",
    "<br/>\n",
    "\n",
    "Based on the above, we can now create a signature of our function:"
   ]
  },
  {
   "cell_type": "code",
   "execution_count": 1,
   "id": "2066c59e",
   "metadata": {},
   "outputs": [],
   "source": [
    "def min_depth(root):\n",
    "    pass"
   ]
  },
  {
   "cell_type": "markdown",
   "id": "d6a980f9",
   "metadata": {},
   "source": [
    "### 2. Come up with some example inputs & outputs. Try to cover all edge cases.\n",
    "\n",
    "\n",
    "1. Number of node is zero.\n",
    "2. Number of node is one.\n",
    "3. NUmber of node is more than one."
   ]
  },
  {
   "cell_type": "markdown",
   "id": "e881b6ff",
   "metadata": {},
   "source": [
    "### 3. Come up with a correct solution for the problem. State it in plain English.\n",
    "\n",
    "1. If Tree is empty than return 0.\n",
    "2. For every node, check if it is a leaf node.If yes, then return 1.\n",
    "3. If not leaf node then if the left subtree is NULL, then recur for the right subtree. \n",
    "4. if the right subtree is NULL, then recur for the left subtree.\n",
    "5. If both left and right subtrees are not NULL, then take the minimum of two heights."
   ]
  },
  {
   "cell_type": "markdown",
   "id": "e82eb080",
   "metadata": {},
   "source": [
    "###  4. Implement the solution and test it using example inputs. Fix bugs, if any."
   ]
  },
  {
   "cell_type": "code",
   "execution_count": 2,
   "id": "977f6188",
   "metadata": {},
   "outputs": [],
   "source": [
    "def min_depth(root):\n",
    "    \n",
    "    # If Tree is empty\n",
    "    if root is None:\n",
    "        return 0\n",
    "    \n",
    "    # Base case : if leaf node return 1\n",
    "    if root.left is None and root.right is None:\n",
    "        return 1\n",
    "    \n",
    "    # If left tree is None recur for right subtree\n",
    "    if root.left is None:\n",
    "        return 1 + min_depth(root.right)\n",
    "    \n",
    "    # If right tree is None recur for left subtree\n",
    "    if root.right is None:\n",
    "        return 1 + min_depth(root.left)\n",
    "    \n",
    "    # Take min of two height\n",
    "    return 1 + min(min_depth(root.left), min_depth(root.right))"
   ]
  },
  {
   "cell_type": "markdown",
   "id": "43746b77",
   "metadata": {},
   "source": [
    "### 5. Analyze the algorithm's complexity and identify inefficiencies, if any."
   ]
  },
  {
   "cell_type": "markdown",
   "id": "a71ed40b",
   "metadata": {},
   "source": [
    "> Time complexity : **O(N)** <br>where n is the total number of nodes.<br>\n",
    "> Space complexity : **O(h)** <br>where h is Height of the tree ."
   ]
  },
  {
   "cell_type": "markdown",
   "id": "14c03d94",
   "metadata": {},
   "source": [
    "### 6. Apply the right technique to overcome the inefficiency. Repeat steps 3 to 6."
   ]
  },
  {
   "cell_type": "markdown",
   "id": "78529b04",
   "metadata": {},
   "source": [
    "> **BFS** <br>\n",
    "> Level order Traversal"
   ]
  },
  {
   "cell_type": "markdown",
   "id": "6c81c692",
   "metadata": {},
   "source": [
    "### 7. Come up with a correct solution for the problem. State it in plain English.\n",
    "\n",
    ">  A Better Solution is to do Level Order Traversal. While doing traversal, returns depth of the first encountered leaf node."
   ]
  },
  {
   "cell_type": "markdown",
   "id": "6986aefd",
   "metadata": {},
   "source": [
    "### 8. Implement the solution and test it using example inputs. Fix bugs, if any."
   ]
  },
  {
   "cell_type": "code",
   "execution_count": 3,
   "id": "4da38c43",
   "metadata": {},
   "outputs": [],
   "source": [
    "def min_depth(root):\n",
    "    \n",
    "    # Set min depth is zero\n",
    "    min_dep = 0 \n",
    "\n",
    "    # IF tree is empty return zero\n",
    "    if root is None:\n",
    "        return min_dep\n",
    "\n",
    "    # Create empty dq\n",
    "    deq = deque([])\n",
    "    \n",
    "    # Append root in dq\n",
    "    deq.append(root)\n",
    "\n",
    "    # Set a loop for level order Traversal\n",
    "    while True:\n",
    "        \n",
    "        # Increment min depth by 1\n",
    "        min_dep += 1\n",
    "        \n",
    "        # Set size of level\n",
    "        size = len(deq)\n",
    "\n",
    "        # Traverse level order using `level`\n",
    "        for i in range(size):\n",
    "            \n",
    "            # POP left val in dq\n",
    "            curr = deq.popleft()\n",
    "\n",
    "            # Check it is leaf node \n",
    "            if curr.left is None and curr.right is None:\n",
    "                # Return min depth\n",
    "                return min_dep\n",
    "            \n",
    "            # Check left is not none\n",
    "            if curr.left is not None:\n",
    "                # Append left val in dq\n",
    "                deq.append(curr.left)\n",
    "            \n",
    "            # Check right is not none\n",
    "            if curr.right is not None:\n",
    "                # Append right val in dq\n",
    "                deq.append(curr.right)"
   ]
  },
  {
   "cell_type": "markdown",
   "id": "35da7de7",
   "metadata": {},
   "source": [
    "### 9. Analyze the algorithm's complexity and identify inefficiencies, if any."
   ]
  },
  {
   "cell_type": "markdown",
   "id": "e7c1ecb5",
   "metadata": {},
   "source": [
    "> Time complexity : **O(N)** <br> where n is the total number of nodes.<br>\n",
    "> Space complexity : **O(w)** <br>max width of the tree (w) which is equal ot the maximum number of nodes at a given level. "
   ]
  }
 ],
 "metadata": {
  "kernelspec": {
   "display_name": "Python 3 (ipykernel)",
   "language": "python",
   "name": "python3"
  },
  "language_info": {
   "codemirror_mode": {
    "name": "ipython",
    "version": 3
   },
   "file_extension": ".py",
   "mimetype": "text/x-python",
   "name": "python",
   "nbconvert_exporter": "python",
   "pygments_lexer": "ipython3",
   "version": "3.10.8"
  }
 },
 "nbformat": 4,
 "nbformat_minor": 5
}
