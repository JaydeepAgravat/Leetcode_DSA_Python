{
 "cells": [
  {
   "cell_type": "markdown",
   "id": "e5d4903a",
   "metadata": {},
   "source": [
    "# First Bad Version"
   ]
  },
  {
   "cell_type": "markdown",
   "id": "e00f4d89",
   "metadata": {},
   "source": [
    "## Problem Statement\n",
    "\n",
    "\n",
    "> You are a product manager and currently leading a team to develop a new product. Unfortunately, the latest version of your product fails the quality check. Since each version is developed based on the previous version, all the versions after a bad version are also bad.\n",
    "\n",
    "> Suppose you have n versions [1, 2, ..., n] and you want to find out the first bad one, which causes all the following ones to be bad.\n",
    "\n",
    "> You are given an API bool isBadVersion(version) which returns whether version is bad. Implement a function to find the first bad version. You should minimize the number of calls to the API.\n",
    "\n",
    "Source: https://leetcode.com/problems/first-bad-version/description/"
   ]
  },
  {
   "cell_type": "markdown",
   "id": "d7e8d774",
   "metadata": {},
   "source": [
    "## Solution\n",
    "\n",
    "\n",
    "### 1. State the problem clearly. Identify the input & output formats.\n",
    "\n",
    "\n",
    "**Problem**\n",
    "\n",
    "> We want to find out the first bad one, which causes all the following ones to be bad.\n",
    "\n",
    "<br/>\n",
    "\n",
    "\n",
    "**Input**\n",
    "\n",
    "1. n = 5\n",
    "2. bad = 4\n",
    "\n",
    "\n",
    "**Output**\n",
    "\n",
    "1. 4\n",
    "\n",
    "<br/>\n",
    "\n",
    "Based on the above, we can now create a signature of our function:"
   ]
  },
  {
   "cell_type": "code",
   "execution_count": 1,
   "id": "2066c59e",
   "metadata": {},
   "outputs": [],
   "source": [
    "def first_bad_version(n):\n",
    "    pass"
   ]
  },
  {
   "cell_type": "markdown",
   "id": "e881b6ff",
   "metadata": {},
   "source": [
    "### 2. Come up with a correct solution for the problem. State it in plain English.\n",
    "\n",
    "\n",
    "> **Binary Search**"
   ]
  },
  {
   "cell_type": "markdown",
   "id": "e82eb080",
   "metadata": {},
   "source": [
    "###  3. Implement the solution and test it using example inputs. Fix bugs, if any."
   ]
  },
  {
   "cell_type": "code",
   "execution_count": 2,
   "id": "977f6188",
   "metadata": {},
   "outputs": [],
   "source": [
    "def first_bad_version(n):\n",
    "    \n",
    "    # Set pointer\n",
    "    low, high = 1, n\n",
    "\n",
    "    # Find first bad\n",
    "    while low<=high:\n",
    "        \n",
    "        # Set mid\n",
    "        mid = (low+high)//2\n",
    "        \n",
    "        # Check BadVersion \n",
    "        if isBadVersion(mid):\n",
    "            # Yes than decrement high\n",
    "            high = mid -1\n",
    "        else:\n",
    "            # No then increment low\n",
    "            low = mid + 1\n",
    "\n",
    "    # Return first bad version\n",
    "    return low\n",
    "\n",
    "# The isBadVersion API is already defined for you."
   ]
  },
  {
   "cell_type": "markdown",
   "id": "43746b77",
   "metadata": {},
   "source": [
    "### 4. Analyze the algorithm's complexity and identify inefficiencies, if any."
   ]
  },
  {
   "cell_type": "markdown",
   "id": "3767673e",
   "metadata": {},
   "source": [
    "> Time complexity : **O(log(N))** <br>\n",
    "> Space complexity : **O(1)**"
   ]
  }
 ],
 "metadata": {
  "kernelspec": {
   "display_name": "Python 3 (ipykernel)",
   "language": "python",
   "name": "python3"
  },
  "language_info": {
   "codemirror_mode": {
    "name": "ipython",
    "version": 3
   },
   "file_extension": ".py",
   "mimetype": "text/x-python",
   "name": "python",
   "nbconvert_exporter": "python",
   "pygments_lexer": "ipython3",
   "version": "3.10.8"
  }
 },
 "nbformat": 4,
 "nbformat_minor": 5
}
