{
 "cells": [
  {
   "cell_type": "markdown",
   "id": "e5d4903a",
   "metadata": {},
   "source": [
    "# Squares of a Sorted Array "
   ]
  },
  {
   "cell_type": "markdown",
   "id": "e00f4d89",
   "metadata": {},
   "source": [
    "## Problem Statement\n",
    "\n",
    "\n",
    "> Given an integer array nums sorted in non-decreasing order, return an array of the squares of each number sorted in non-decreasing order.\n",
    "\n",
    "\n",
    "Source: https://leetcode.com/problems/squares-of-a-sorted-array/"
   ]
  },
  {
   "cell_type": "markdown",
   "id": "d7e8d774",
   "metadata": {},
   "source": [
    "## Solution\n",
    "\n",
    "\n",
    "### 1. State the problem clearly. Identify the input & output formats.\n",
    "\n",
    "\n",
    "**Problem**\n",
    "\n",
    "> Return an list of the squares of each number sorted in increasing order.\n",
    "\n",
    "<br/>\n",
    "\n",
    "\n",
    "**Input**\n",
    "\n",
    "1. nums = [-4,-1,0,3,10]\n",
    "\n",
    "\n",
    "**Output**\n",
    "\n",
    "1. [0,1,9,16,100]\n",
    "\n",
    "\n",
    "<br/>\n",
    "\n",
    "Based on the above, we can now create a signature of our function:"
   ]
  },
  {
   "cell_type": "code",
   "execution_count": 1,
   "id": "2066c59e",
   "metadata": {},
   "outputs": [],
   "source": [
    "def sorted_square(nums):\n",
    "    pass"
   ]
  },
  {
   "cell_type": "markdown",
   "id": "d6a980f9",
   "metadata": {},
   "source": [
    "### 2. Come up with some example inputs & outputs. Try to cover all edge cases.\n",
    "\n",
    "\n",
    "1. The list `nums` contain one element.\n",
    "2. The list `nums` contain all positive number.\n",
    "3. The list `nums` contain all negative number.\n",
    "4. The list `nums` contain mixed of positive and negative number.\n",
    "5. The list `nums` contain repetitive number."
   ]
  },
  {
   "cell_type": "code",
   "execution_count": 2,
   "id": "31370543",
   "metadata": {},
   "outputs": [],
   "source": [
    "tests = []"
   ]
  },
  {
   "cell_type": "code",
   "execution_count": 3,
   "id": "f76e7f08",
   "metadata": {},
   "outputs": [],
   "source": [
    "tests.append({\n",
    "    'input': {\n",
    "        'nums' : [-4]\n",
    "    },\n",
    "    'output': [16]\n",
    "})"
   ]
  },
  {
   "cell_type": "code",
   "execution_count": 4,
   "id": "fb327405",
   "metadata": {},
   "outputs": [],
   "source": [
    "tests.append({\n",
    "    'input': {\n",
    "        'nums' : [1, 2, 3, 4]\n",
    "    },\n",
    "    'output': [1, 4, 9, 16]\n",
    "})"
   ]
  },
  {
   "cell_type": "code",
   "execution_count": 5,
   "id": "08134a2b",
   "metadata": {},
   "outputs": [],
   "source": [
    "tests.append({\n",
    "    'input': {\n",
    "        'nums' : [-4, -3, -2, -1]\n",
    "    },\n",
    "    'output': [1, 4, 9, 16]\n",
    "})"
   ]
  },
  {
   "cell_type": "code",
   "execution_count": 6,
   "id": "420c28cd",
   "metadata": {},
   "outputs": [],
   "source": [
    "tests.append({\n",
    "    'input': {\n",
    "        'nums' : [-4, -1, 0, 3, 10]\n",
    "    },\n",
    "    'output': [0, 1, 9, 16, 100]\n",
    "})"
   ]
  },
  {
   "cell_type": "code",
   "execution_count": 7,
   "id": "48684abd",
   "metadata": {},
   "outputs": [],
   "source": [
    "tests.append({\n",
    "    'input': {\n",
    "        'nums' : [-7, -3, 2, 3, 7, 11]\n",
    "    },\n",
    "    'output': [4, 9, 9, 49, 49, 121]\n",
    "})"
   ]
  },
  {
   "cell_type": "markdown",
   "id": "e881b6ff",
   "metadata": {},
   "source": [
    "### 3. Come up with a correct solution for the problem. State it in plain English.\n",
    "\n",
    "\n",
    "1. Square all the number in the list `nums`.\n",
    "2. Sort the list `nums`.\n",
    "3. Return the list `nums`."
   ]
  },
  {
   "cell_type": "markdown",
   "id": "e82eb080",
   "metadata": {},
   "source": [
    "###  4. Implement the solution and test it using example inputs. Fix bugs, if any."
   ]
  },
  {
   "cell_type": "code",
   "execution_count": 8,
   "id": "977f6188",
   "metadata": {},
   "outputs": [],
   "source": [
    "def sorted_square(nums):\n",
    "    # List comprehension for square\n",
    "    # Sort the list\n",
    "    return sorted([num ** 2 for num in nums])    "
   ]
  },
  {
   "cell_type": "markdown",
   "id": "cd20ed53",
   "metadata": {},
   "source": [
    "-4, -1, 0, 3, 10"
   ]
  },
  {
   "cell_type": "code",
   "execution_count": 9,
   "id": "7a5c23a2",
   "metadata": {
    "scrolled": true
   },
   "outputs": [
    {
     "name": "stdout",
     "output_type": "stream",
     "text": [
      "True\n",
      "True\n",
      "True\n",
      "True\n",
      "True\n"
     ]
    }
   ],
   "source": [
    "for i in range(len(tests)):\n",
    "    print(sorted_square(tests[i]['input']['nums']) == tests[i]['output'])"
   ]
  },
  {
   "cell_type": "markdown",
   "id": "43746b77",
   "metadata": {},
   "source": [
    "### 5. Analyze the algorithm's complexity and identify inefficiencies, if any."
   ]
  },
  {
   "cell_type": "markdown",
   "id": "f3d42fbb",
   "metadata": {},
   "source": [
    "> Time complexity : **O(Nlog(N)** <br>\n",
    "> Space complexity : **O(N)**"
   ]
  },
  {
   "cell_type": "markdown",
   "id": "14c03d94",
   "metadata": {},
   "source": [
    "### 6. Apply the right technique to overcome the inefficiency. Repeat steps 3 to 6."
   ]
  },
  {
   "cell_type": "markdown",
   "id": "e7c9a325",
   "metadata": {},
   "source": [
    "> **Using Two Pointer** <br>\n",
    "> To find element in sorted list"
   ]
  },
  {
   "cell_type": "markdown",
   "id": "6c81c692",
   "metadata": {},
   "source": [
    "### 7. Come up with a correct solution for the problem. State it in plain English.\n",
    "\n",
    "\n",
    "1. Create a two pointer `left` and `right`.\n",
    "2. Create a list `result` of n size.\n",
    "3. Set a loop for finding maximum element and add in `result`. (using `left` and `right`)\n",
    "4. Return a list `result`."
   ]
  },
  {
   "cell_type": "markdown",
   "id": "6986aefd",
   "metadata": {},
   "source": [
    "### 8. Implement the solution and test it using example inputs. Fix bugs, if any."
   ]
  },
  {
   "cell_type": "code",
   "execution_count": 10,
   "id": "4da38c43",
   "metadata": {},
   "outputs": [],
   "source": [
    "def sorted_square(nums):\n",
    "    \n",
    "    # Size of the list\n",
    "    n = len(nums)\n",
    "    \n",
    "    # Create two pointer\n",
    "    left, right = 0, n - 1\n",
    "    \n",
    "    # Create list of n size\n",
    "    result = [0] * n\n",
    "    \n",
    "    \n",
    "    # Set a loop for repetation\n",
    "    for i in reversed(range(n)):\n",
    "        \n",
    "        # Check maximum value & add in result\n",
    "        \n",
    "        if abs(nums[left]) <= abs(nums[right]):\n",
    "            result[i] = nums[right] ** 2\n",
    "            right = right - 1\n",
    "        else:\n",
    "            result[i] = nums[left] ** 2\n",
    "            left = left + 1\n",
    "            \n",
    "    # Return a list      \n",
    "    return result"
   ]
  },
  {
   "cell_type": "code",
   "execution_count": 11,
   "id": "2f8759d5",
   "metadata": {},
   "outputs": [
    {
     "name": "stdout",
     "output_type": "stream",
     "text": [
      "True\n",
      "True\n",
      "True\n",
      "True\n",
      "True\n"
     ]
    }
   ],
   "source": [
    "for i in range(len(tests)):\n",
    "    print(sorted_square(tests[i]['input']['nums']) == tests[i]['output'])"
   ]
  },
  {
   "cell_type": "markdown",
   "id": "35da7de7",
   "metadata": {},
   "source": [
    "### 9. Analyze the algorithm's complexity and identify inefficiencies, if any."
   ]
  },
  {
   "cell_type": "markdown",
   "id": "ee540e67",
   "metadata": {},
   "source": [
    "> Time complexity : **O(N)** <br>\n",
    "> Space complexity : **O(N)**"
   ]
  }
 ],
 "metadata": {
  "kernelspec": {
   "display_name": "Python 3 (ipykernel)",
   "language": "python",
   "name": "python3"
  },
  "language_info": {
   "codemirror_mode": {
    "name": "ipython",
    "version": 3
   },
   "file_extension": ".py",
   "mimetype": "text/x-python",
   "name": "python",
   "nbconvert_exporter": "python",
   "pygments_lexer": "ipython3",
   "version": "3.10.8"
  }
 },
 "nbformat": 4,
 "nbformat_minor": 5
}
