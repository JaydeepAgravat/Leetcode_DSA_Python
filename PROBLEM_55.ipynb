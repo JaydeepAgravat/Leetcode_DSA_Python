{
 "cells": [
  {
   "cell_type": "markdown",
   "id": "e5d4903a",
   "metadata": {},
   "source": [
    "# Problem  Find All Numbers Disappeared in an Array"
   ]
  },
  {
   "cell_type": "markdown",
   "id": "e00f4d89",
   "metadata": {},
   "source": [
    "## Problem Statement\n",
    "\n",
    "\n",
    "> Find All Numbers Disappeared in an Array\n",
    "\n",
    "\n",
    "Source: https://leetcode.com/problems/find-all-numbers-disappeared-in-an-array/"
   ]
  },
  {
   "cell_type": "markdown",
   "id": "d7e8d774",
   "metadata": {},
   "source": [
    "## Solution\n",
    "\n",
    "\n",
    "### 1. State the problem clearly. Identify the input & output formats.\n",
    "\n",
    "\n",
    "**Problem**\n",
    "\n",
    ">The list `nums` contain `n` integer and every element is in the range [1, n].\n",
    "<br>\n",
    "We need to find the list of missing element that do not appear in the list `nums`.\n",
    "<br>\n",
    "Missing element should be in the range [1, n].\n",
    "\n",
    "\n",
    "<br/>\n",
    "\n",
    "\n",
    "**Input**\n",
    "\n",
    "1. `nums`: A list of  n integer where every element is in the range : [0,n].\n",
    "E.g.`[4,3,2,7,8,2,3,1]`\n",
    "\n",
    "\n",
    "**Output**\n",
    "\n",
    "1. `dissappear_list` : A list of missing element that do not appear in the list `nums`.\n",
    "E.g. [5,6]\n",
    "\n",
    "\n",
    "<br/>\n",
    "\n",
    "Based on the above, we can now create a signature of our function:"
   ]
  },
  {
   "cell_type": "code",
   "execution_count": 1,
   "id": "2066c59e",
   "metadata": {},
   "outputs": [],
   "source": [
    "def find_disappear_list(nums):\n",
    "    pass"
   ]
  },
  {
   "cell_type": "markdown",
   "id": "d6a980f9",
   "metadata": {},
   "source": [
    "### 2. Come up with some example inputs & outputs. Try to cover all edge cases.\n",
    "\n",
    "\n",
    "1. The list `nums` contain just one element.\n",
    "2. The list `nums` contain more than one element\n",
    "3. The list `nums` contain repeated element.\n",
    "4. The list `nums` not contain missing element."
   ]
  },
  {
   "cell_type": "code",
   "execution_count": 2,
   "id": "31370543",
   "metadata": {},
   "outputs": [],
   "source": [
    "tests = []"
   ]
  },
  {
   "cell_type": "code",
   "execution_count": 3,
   "id": "f76e7f08",
   "metadata": {},
   "outputs": [],
   "source": [
    "tests.append({\n",
    "    'input': {\n",
    "        'nums' : [1]\n",
    "    },\n",
    "    'output': []\n",
    "})"
   ]
  },
  {
   "cell_type": "code",
   "execution_count": 4,
   "id": "c24dc89e",
   "metadata": {},
   "outputs": [],
   "source": [
    "tests.append({\n",
    "    'input': {\n",
    "        'nums' : [1, 2, 3, 3, 3]\n",
    "    },\n",
    "    'output': [4, 5]\n",
    "})"
   ]
  },
  {
   "cell_type": "code",
   "execution_count": 5,
   "id": "fb327405",
   "metadata": {},
   "outputs": [],
   "source": [
    "tests.append({\n",
    "    'input': {\n",
    "        'nums' : [3, 3, 3, 3, 3]\n",
    "    },\n",
    "    'output': [1, 2, 4, 5]\n",
    "})"
   ]
  },
  {
   "cell_type": "code",
   "execution_count": 6,
   "id": "c2469597",
   "metadata": {},
   "outputs": [],
   "source": [
    "tests.append({\n",
    "    'input': {\n",
    "        'nums' : [1, 2, 3]\n",
    "    },\n",
    "    'output': []\n",
    "})"
   ]
  },
  {
   "cell_type": "markdown",
   "id": "e881b6ff",
   "metadata": {},
   "source": [
    "### 3. Come up with a correct solution for the problem. State it in plain English.\n",
    "\n",
    "\n",
    "1. Create a empty list `disappear_list`.\n",
    "2. We iterating a range:[1,n]\n",
    "3. Check every element in the list `nums`.\n",
    "4. Append the element that not found in the list `nums`.\n",
    "5. Return the list `disappear list`"
   ]
  },
  {
   "cell_type": "markdown",
   "id": "e82eb080",
   "metadata": {},
   "source": [
    "###  4. Implement the solution and test it using example inputs. Fix bugs, if any."
   ]
  },
  {
   "cell_type": "code",
   "execution_count": 7,
   "id": "977f6188",
   "metadata": {},
   "outputs": [],
   "source": [
    "def find_disappear_list(nums):\n",
    "    \n",
    "    # Create a empty list\n",
    "    disappear_list = []\n",
    "    \n",
    "    # Set a loop for finding diappear element in the list nums\n",
    "    for disappear_element in range(1,len(nums)+1):\n",
    "        \n",
    "        # Check if element is found \n",
    "        if disappear_element not in nums:\n",
    "            \n",
    "            # Append the disappear element in the disappear_list\n",
    "            disappear_list.append(disappear_element)\n",
    "            \n",
    "    # Return the disappear_list\n",
    "    return disappear_list"
   ]
  },
  {
   "cell_type": "code",
   "execution_count": 8,
   "id": "7a5c23a2",
   "metadata": {},
   "outputs": [
    {
     "name": "stdout",
     "output_type": "stream",
     "text": [
      "True\n",
      "True\n",
      "True\n",
      "True\n"
     ]
    }
   ],
   "source": [
    "for i in range(4):\n",
    "    print(find_disappear_list(tests[i]['input']['nums'])==tests[i]['output'])"
   ]
  },
  {
   "cell_type": "markdown",
   "id": "43746b77",
   "metadata": {},
   "source": [
    "### 5. Analyze the algorithm's complexity and identify inefficiencies, if any."
   ]
  },
  {
   "cell_type": "markdown",
   "id": "20c758a1",
   "metadata": {},
   "source": [
    "> Time complexity : **O(N^2)**\n",
    "<br>\n",
    "> Space complexity : **O(1)**"
   ]
  },
  {
   "cell_type": "markdown",
   "id": "14c03d94",
   "metadata": {},
   "source": [
    "### 6. Apply the right technique to overcome the inefficiency. Repeat steps 3 to 6."
   ]
  },
  {
   "cell_type": "markdown",
   "id": "d3bf6f09",
   "metadata": {},
   "source": [
    "> **Using Binary Search**\n",
    "<br>\n",
    "> To find element in sorted list."
   ]
  },
  {
   "cell_type": "markdown",
   "id": "6c81c692",
   "metadata": {},
   "source": [
    "### 7. Come up with a correct solution for the problem. State it in plain English.\n",
    "\n",
    "1. Create a empty list `disappear_list`.\n",
    "2. Sort the nums list.\n",
    "3. We iterating a range: [1,N]\n",
    "4. For every element in [1,N] we apply binary search in sorted list `nums`.\n",
    "5. If element not found in the list `nums` then append the element in the list `disappear_list`.\n",
    "6. Return the list `disappear_list`."
   ]
  },
  {
   "cell_type": "markdown",
   "id": "6986aefd",
   "metadata": {},
   "source": [
    "### 8. Implement the solution and test it using example inputs. Fix bugs, if any."
   ]
  },
  {
   "cell_type": "code",
   "execution_count": 9,
   "id": "4da38c43",
   "metadata": {},
   "outputs": [],
   "source": [
    "def find_disappear_list(nums):\n",
    "    \n",
    "    # Creat a empty list\n",
    "    disappear_list = []\n",
    "    \n",
    "    # Sort the list\n",
    "    nums.sort()\n",
    "    \n",
    "    # Set a loop for find disappear element\n",
    "    for disappear_element in range(1,len(nums)+1):\n",
    "        \n",
    "        # Check if element is found\n",
    "        if binary_search(nums,disappear_element):\n",
    "            \n",
    "            # Append the disappear element in the disappear_list\n",
    "            disappear_list.append(disappear_element)\n",
    "    \n",
    "    # Return the disappear list\n",
    "    return disappear_list\n",
    "            \n",
    "def binary_search(nums,key):\n",
    "    \n",
    "    # Set a low and a high index\n",
    "    low, high = 0, len(nums)-1\n",
    "    \n",
    "    # Set a loop for finding key\n",
    "    while low <= high:\n",
    "        \n",
    "        # middle element\n",
    "        mid = (low+high)//2\n",
    "        mid_number = nums[mid]\n",
    "        \n",
    "        # Set a if-else ladder for check key\n",
    "        if mid_number == key:\n",
    "            # Element is found\n",
    "            return False\n",
    "        elif mid_number < key:\n",
    "            low = mid + 1\n",
    "        else:\n",
    "            high = mid - 1\n",
    "    \n",
    "    # Element is not found\n",
    "    return True        "
   ]
  },
  {
   "cell_type": "code",
   "execution_count": 10,
   "id": "ae596296",
   "metadata": {},
   "outputs": [
    {
     "name": "stdout",
     "output_type": "stream",
     "text": [
      "True\n",
      "True\n",
      "True\n",
      "True\n"
     ]
    }
   ],
   "source": [
    "for i in range(4):\n",
    "    print(find_disappear_list(tests[i]['input']['nums'])==tests[i]['output'])"
   ]
  },
  {
   "cell_type": "markdown",
   "id": "35da7de7",
   "metadata": {},
   "source": [
    "### 9. Analyze the algorithm's complexity and identify inefficiencies, if any."
   ]
  },
  {
   "cell_type": "markdown",
   "id": "85317a30",
   "metadata": {},
   "source": [
    "> Time complexity : **O(Nlog(N))**\n",
    "<br>\n",
    "> Space complexity : **O(1)** if sort count then : **O(N)**"
   ]
  },
  {
   "cell_type": "markdown",
   "id": "c34458c2",
   "metadata": {},
   "source": [
    "### 10. Apply the right technique to overcome the inefficiency. Repeat steps 3 to 6."
   ]
  },
  {
   "cell_type": "markdown",
   "id": "e167b749",
   "metadata": {},
   "source": [
    "> **Using Set**\n",
    "<br>\n",
    "> To store unique value we need set data structure."
   ]
  },
  {
   "cell_type": "markdown",
   "id": "3cacecf2",
   "metadata": {},
   "source": [
    "### 11. Come up with a correct solution for the problem. State it in plain English.\n",
    "\n",
    "1. Create a empty list `disappear_list`.\n",
    "2. Create a set `nums_set`which contains the element of the list `nums`.\n",
    "3. Iterating over a range[1, N].\n",
    "4. Compare each element with `nums_set`.\n",
    "5. If element is not present then append the element in `disappear_list`.\n",
    "6. After terminate the loop we return `disappear_list`."
   ]
  },
  {
   "cell_type": "markdown",
   "id": "2a50a45a",
   "metadata": {},
   "source": [
    "### 12. Implement the solution and test it using example inputs. Fix bugs, if any."
   ]
  },
  {
   "cell_type": "code",
   "execution_count": 11,
   "id": "9981a4a9",
   "metadata": {},
   "outputs": [],
   "source": [
    "def find_disappear_list(nums):\n",
    "    \n",
    "    # Create a empty list\n",
    "    disappear_list = []\n",
    "    \n",
    "    # Create list nums to set\n",
    "    nums_set = set(nums)\n",
    "    \n",
    "    # Set a loop for finding disappear element\n",
    "    for disappear_element in range(1,len(nums)+1):\\\n",
    "        \n",
    "        # Check element is present in the set\n",
    "        if disappear_element not in nums_set:\n",
    "            \n",
    "            # Append the disappear element\n",
    "            disappear_list.append(disappear_element)\n",
    "    \n",
    "    # Return disappear list\n",
    "    return disappear_list"
   ]
  },
  {
   "cell_type": "code",
   "execution_count": 12,
   "id": "6d85ef03",
   "metadata": {},
   "outputs": [
    {
     "name": "stdout",
     "output_type": "stream",
     "text": [
      "True\n",
      "True\n",
      "True\n",
      "True\n"
     ]
    }
   ],
   "source": [
    "for i in range(4):\n",
    "    print(find_disappear_list(tests[i]['input']['nums'])==tests[i]['output'])"
   ]
  },
  {
   "cell_type": "markdown",
   "id": "882eb32d",
   "metadata": {},
   "source": [
    "### 13. Analyze the algorithm's complexity and identify inefficiencies, if any."
   ]
  },
  {
   "cell_type": "markdown",
   "id": "ca765770",
   "metadata": {},
   "source": [
    "> Time complexity : **O(N)**\n",
    "<br>\n",
    "> Space complexity : **O(N)**"
   ]
  },
  {
   "cell_type": "markdown",
   "id": "9c44a21d",
   "metadata": {},
   "source": [
    "### 14. Apply the right technique to overcome the inefficiency. Repeat steps 3 to 6."
   ]
  },
  {
   "cell_type": "markdown",
   "id": "33978482",
   "metadata": {},
   "source": [
    "> **Using Mark as seen by Negation**\n",
    "<br>\n",
    "> We know that size of `nums` is n and it contains only elements from [1, n].\n",
    "<br>\n",
    "> [1,n] mapped to index [0,n] using this we mark the element."
   ]
  },
  {
   "cell_type": "markdown",
   "id": "96494cf6",
   "metadata": {},
   "source": [
    "### 15. Come up with a correct solution for the problem. State it in plain English.\n",
    "\n",
    "1. Create a empty list `disappear_list`.\n",
    "2. Iterating over the list to mark the element.\n",
    "3. Iterating over the list to see where mark is abesent.\n",
    "4. If mark is abesent then append the element in `disappear_list`.\n",
    "5. After terminate the loop we return `disappear_list`."
   ]
  },
  {
   "cell_type": "markdown",
   "id": "cdfe8572",
   "metadata": {},
   "source": [
    "### 16. Implement the solution and test it using example inputs. Fix bugs, if any."
   ]
  },
  {
   "cell_type": "code",
   "execution_count": 13,
   "id": "2a719687",
   "metadata": {},
   "outputs": [],
   "source": [
    "def find_disappear_list(nums):\n",
    "    \n",
    "    # Create a empty list\n",
    "    disppear_list = []\n",
    "    \n",
    "    # Set a loop for mark the number\n",
    "    for c in nums:\n",
    "        nums[abs(c)-1] = -abs(nums[abs(c)-1])\n",
    "            \n",
    "    # Set a loop for finding disappear element        \n",
    "    for index in range(len(nums)):\n",
    "        # Check element is marked\n",
    "        if nums[index] > 0:\n",
    "            # append the disappear element\n",
    "            disppear_list.append(index+1)\n",
    "    \n",
    "    # Set a loop for original list nums\n",
    "    for i in range(len(nums)):\n",
    "        if nums[i] < 0:\n",
    "            nums[i] *= -1         \n",
    "            \n",
    "    # Return disappear list\n",
    "    return disppear_list"
   ]
  },
  {
   "cell_type": "code",
   "execution_count": 14,
   "id": "73587ede",
   "metadata": {},
   "outputs": [
    {
     "name": "stdout",
     "output_type": "stream",
     "text": [
      "True\n",
      "True\n",
      "True\n",
      "True\n"
     ]
    }
   ],
   "source": [
    "for i in range(4):\n",
    "    print(find_disappear_list(tests[i]['input']['nums'])==tests[i]['output'])"
   ]
  },
  {
   "cell_type": "markdown",
   "id": "4f4fd447",
   "metadata": {},
   "source": [
    "### 17. Analyze the algorithm's complexity and identify inefficiencies, if any."
   ]
  },
  {
   "cell_type": "markdown",
   "id": "32191069",
   "metadata": {},
   "source": [
    "> Time complexity : **O(N)**\n",
    "<br>\n",
    "> Space complexity : **O(1)**"
   ]
  }
 ],
 "metadata": {
  "kernelspec": {
   "display_name": "Python 3 (ipykernel)",
   "language": "python",
   "name": "python3"
  },
  "language_info": {
   "codemirror_mode": {
    "name": "ipython",
    "version": 3
   },
   "file_extension": ".py",
   "mimetype": "text/x-python",
   "name": "python",
   "nbconvert_exporter": "python",
   "pygments_lexer": "ipython3",
   "version": "3.10.8"
  }
 },
 "nbformat": 4,
 "nbformat_minor": 5
}
