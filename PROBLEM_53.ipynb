{
 "cells": [
  {
   "cell_type": "markdown",
   "id": "e5d4903a",
   "metadata": {},
   "source": [
    "# Problem Contains Duplicate"
   ]
  },
  {
   "cell_type": "markdown",
   "id": "e00f4d89",
   "metadata": {},
   "source": [
    "## Problem Statement\n",
    "\n",
    "\n",
    "> Given an integer array nums, return true if any value appears at least twice in the array, and return false if every element is distinct.\n",
    "\n",
    "\n",
    "Source: https://leetcode.com/problems/contains-duplicate/"
   ]
  },
  {
   "cell_type": "markdown",
   "id": "d7e8d774",
   "metadata": {},
   "source": [
    "## Solution\n",
    "\n",
    "\n",
    "### 1. State the problem clearly. Identify the input & output formats.\n",
    "\n",
    "\n",
    "**Problem**\n",
    "\n",
    "> We need to write a program to find every element is unique or not in an integer list.\n",
    "\n",
    " \n",
    "\n",
    "<br/>\n",
    "\n",
    "\n",
    "**Input**\n",
    "\n",
    "1. `nums`: A list of integer numbers.\n",
    "E.g.`[1,2,3,1]`\n",
    "\n",
    "**Output**\n",
    "\n",
    "1. `is_unique`: A boolean value, it state that every element in a list is unique or not.\n",
    "E.g.`True`\n",
    "\n",
    "\n",
    "<br/>\n",
    "\n",
    "Based on the above, we can now create a signature of our function:"
   ]
  },
  {
   "cell_type": "code",
   "execution_count": 1,
   "id": "2066c59e",
   "metadata": {},
   "outputs": [],
   "source": [
    "def is_contain_duplicate(nums):\n",
    "    pass"
   ]
  },
  {
   "cell_type": "markdown",
   "id": "d6a980f9",
   "metadata": {},
   "source": [
    "### 2. Come up with some example inputs & outputs. Try to cover all edge cases.\n",
    "\n",
    "\n",
    "1. The list `nums` is empty.\n",
    "2. The list `nums` contain just one element.\n",
    "3. The list `nums` contains repeating numbers.\n",
    "4. The list `nums` contain all unique numbers."
   ]
  },
  {
   "cell_type": "code",
   "execution_count": 2,
   "id": "31370543",
   "metadata": {},
   "outputs": [],
   "source": [
    "tests = []"
   ]
  },
  {
   "cell_type": "code",
   "execution_count": 3,
   "id": "ce4934c2",
   "metadata": {},
   "outputs": [],
   "source": [
    "tests.append({\n",
    "    'input': {\n",
    "        'nums' : []\n",
    "    },\n",
    "    'output': False\n",
    "})"
   ]
  },
  {
   "cell_type": "code",
   "execution_count": 4,
   "id": "4c81ce51",
   "metadata": {},
   "outputs": [],
   "source": [
    "tests.append({\n",
    "    'input': {\n",
    "        'nums' : [1]\n",
    "    },\n",
    "    'output': False\n",
    "})"
   ]
  },
  {
   "cell_type": "code",
   "execution_count": 5,
   "id": "f76e7f08",
   "metadata": {},
   "outputs": [],
   "source": [
    "tests.append({\n",
    "    'input': {\n",
    "        'nums' : [1,2,3,1]\n",
    "    },\n",
    "    'output': True\n",
    "})"
   ]
  },
  {
   "cell_type": "code",
   "execution_count": 6,
   "id": "bea568da",
   "metadata": {},
   "outputs": [],
   "source": [
    "tests.append({\n",
    "    'input': {\n",
    "        'nums' : [1,2,3,4]\n",
    "    },\n",
    "    'output': False\n",
    "})"
   ]
  },
  {
   "cell_type": "markdown",
   "id": "e881b6ff",
   "metadata": {},
   "source": [
    "### 3. Come up with a correct solution for the problem. State it in plain English.\n",
    "\n",
    "\n",
    "1. Sort the list `nums`.\n",
    "2. Compare two adjacent element in the list `nums`.\n",
    "3. Repeat step 2 for every element in the list `nums`."
   ]
  },
  {
   "cell_type": "markdown",
   "id": "e82eb080",
   "metadata": {},
   "source": [
    "###  4. Implement the solution and test it using example inputs. Fix bugs, if any."
   ]
  },
  {
   "cell_type": "code",
   "execution_count": 7,
   "id": "39fc3b0e",
   "metadata": {},
   "outputs": [],
   "source": [
    "def is_contain_duplicate(nums):\n",
    "    \n",
    "    # Sort the list\n",
    "    nums.sort()\n",
    "    \n",
    "    # Set up a loop for repetition\n",
    "    for i in range(len(nums)-1):\n",
    "        \n",
    "        # Check if adjacent element is equal\n",
    "        if nums[i] == nums[i+1]:\n",
    "            \n",
    "            # Duplicate found!\n",
    "            return True\n",
    "    \n",
    "    # Duplicate not found\n",
    "    return False"
   ]
  },
  {
   "cell_type": "code",
   "execution_count": 8,
   "id": "4d5d7ec4",
   "metadata": {},
   "outputs": [
    {
     "name": "stdout",
     "output_type": "stream",
     "text": [
      "True\n",
      "True\n",
      "True\n",
      "True\n"
     ]
    }
   ],
   "source": [
    "for i in range(4):\n",
    "    print(is_contain_duplicate(tests[i]['input']['nums']) == tests[i]['output'])"
   ]
  },
  {
   "cell_type": "markdown",
   "id": "43746b77",
   "metadata": {},
   "source": [
    "### 5. Analyze the algorithm's complexity and identify inefficiencies, if any."
   ]
  },
  {
   "cell_type": "markdown",
   "id": "a169cab6",
   "metadata": {},
   "source": [
    "> Time complexity : **O(NlogN)**\n",
    "<br>\n",
    "> Space complexity : **O(1)**"
   ]
  },
  {
   "cell_type": "markdown",
   "id": "14c03d94",
   "metadata": {},
   "source": [
    "### 6. Apply the right technique to overcome the inefficiency. Repeat steps 3 to 6."
   ]
  },
  {
   "cell_type": "markdown",
   "id": "17a40d5f",
   "metadata": {},
   "source": [
    "> **Using Dictionary**\n",
    "<br>\n",
    "> To track of frequency we need dict data structure."
   ]
  },
  {
   "cell_type": "markdown",
   "id": "6c81c692",
   "metadata": {},
   "source": [
    "### 7. Come up with a correct solution for the problem. State it in plain English.\n",
    "\n",
    "\n",
    "1. Create a empty dictionary.\n",
    "2. We loop through the list `nums` and plot the frequency of each integer in dictionary. \n",
    "3. We loop throgh the dictionay to see frequency of each integer.\n",
    "4. If any frequency are greater than 1 we found the duplicate element is present."
   ]
  },
  {
   "cell_type": "markdown",
   "id": "6986aefd",
   "metadata": {},
   "source": [
    "### 8. Implement the solution and test it using example inputs. Fix bugs, if any."
   ]
  },
  {
   "cell_type": "code",
   "execution_count": 9,
   "id": "4da38c43",
   "metadata": {},
   "outputs": [],
   "source": [
    "def is_contain_duplicate(nums):\n",
    "    \n",
    "    # Creat empty dict\n",
    "    counter = {}\n",
    "    \n",
    "    # Set a loop for frequency count\n",
    "    for num in nums:\n",
    "        counter[num] = counter.get(num,0) + 1\n",
    "    \n",
    "    # Set a loop for frequency check \n",
    "    for frequency in counter.values():\n",
    "        \n",
    "        # Check if frequency is greater than 1  \n",
    "        if frequency > 1:\n",
    "            \n",
    "            # We found the duplicate!\n",
    "            return True\n",
    "        \n",
    "    # We not found the duplicate\n",
    "    return False"
   ]
  },
  {
   "cell_type": "code",
   "execution_count": 10,
   "id": "2f8759d5",
   "metadata": {},
   "outputs": [
    {
     "name": "stdout",
     "output_type": "stream",
     "text": [
      "True\n",
      "True\n",
      "True\n",
      "True\n"
     ]
    }
   ],
   "source": [
    "for i in range(4):\n",
    "    print(is_contain_duplicate(tests[i]['input']['nums']) == tests[i]['output'])"
   ]
  },
  {
   "cell_type": "markdown",
   "id": "35da7de7",
   "metadata": {},
   "source": [
    "### 9. Analyze the algorithm's complexity and identify inefficiencies, if any."
   ]
  },
  {
   "cell_type": "markdown",
   "id": "e9535919",
   "metadata": {},
   "source": [
    "> Time complexity : **O(N)**\n",
    "<br>\n",
    "> Space complexity : **O(N)**"
   ]
  },
  {
   "cell_type": "markdown",
   "id": "49e3609c",
   "metadata": {},
   "source": [
    "### 10. Apply the right technique to overcome the inefficiency. Repeat steps 3 to 6."
   ]
  },
  {
   "cell_type": "markdown",
   "id": "8df68d5f",
   "metadata": {},
   "source": [
    "> **Using Set**\n",
    "<br>\n",
    "> To contain unique value we need set data structure."
   ]
  },
  {
   "cell_type": "markdown",
   "id": "5d3567f4",
   "metadata": {},
   "source": [
    "### 11. Come up with a correct solution for the problem. State it in plain English.\n",
    "\n",
    "\n",
    "1. Convert a the list `nums` to set.\n",
    "2. Find the number of element in a set and list `nums`.\n",
    "3. Compare number of element in a set and list `nums`.\n",
    "4. If both are equal than return False (no duplicate).\n",
    "5. If both are different than return True (duplicate)."
   ]
  },
  {
   "cell_type": "markdown",
   "id": "9b7e1a38",
   "metadata": {},
   "source": [
    "### 12. Implement the solution and test it using example inputs. Fix bugs, if any."
   ]
  },
  {
   "cell_type": "code",
   "execution_count": 11,
   "id": "30402560",
   "metadata": {},
   "outputs": [],
   "source": [
    "def is_contain_duplicate(nums):\n",
    "    \n",
    "    # Conver the list to set \n",
    "    nums_set = set(nums)\n",
    "    \n",
    "    # Check whether number of element is equal in both set and list\n",
    "    if len(nums) == len(nums_set):\n",
    "        # Duplicate not found\n",
    "        return False\n",
    "    else:\n",
    "        # Duplicate found\n",
    "        return True"
   ]
  },
  {
   "cell_type": "code",
   "execution_count": 12,
   "id": "c536d90e",
   "metadata": {},
   "outputs": [
    {
     "name": "stdout",
     "output_type": "stream",
     "text": [
      "True\n",
      "True\n",
      "True\n",
      "True\n"
     ]
    }
   ],
   "source": [
    "for i in range(4):\n",
    "    print(is_contain_duplicate(tests[i]['input']['nums']) == tests[i]['output'])"
   ]
  },
  {
   "cell_type": "markdown",
   "id": "282b3de0",
   "metadata": {},
   "source": [
    "### 13. Analyze the algorithm's complexity and identify inefficiencies, if any."
   ]
  },
  {
   "cell_type": "markdown",
   "id": "35b92910",
   "metadata": {},
   "source": [
    "> Time complexity : **O(N)**\n",
    "<br>\n",
    "> Space complexity : **O(N)**"
   ]
  }
 ],
 "metadata": {
  "kernelspec": {
   "display_name": "Python 3 (ipykernel)",
   "language": "python",
   "name": "python3"
  },
  "language_info": {
   "codemirror_mode": {
    "name": "ipython",
    "version": 3
   },
   "file_extension": ".py",
   "mimetype": "text/x-python",
   "name": "python",
   "nbconvert_exporter": "python",
   "pygments_lexer": "ipython3",
   "version": "3.10.8"
  }
 },
 "nbformat": 4,
 "nbformat_minor": 5
}
