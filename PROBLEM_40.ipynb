{
 "cells": [
  {
   "cell_type": "markdown",
   "id": "e5d4903a",
   "metadata": {},
   "source": [
    "# Third Maximum Number"
   ]
  },
  {
   "cell_type": "markdown",
   "id": "e00f4d89",
   "metadata": {},
   "source": [
    "## Problem Statement\n",
    "\n",
    "\n",
    "> Given an integer array nums, return the third distinct maximum number in this array. If the third maximum does not exist, return the maximum number.\n",
    "\n",
    "\n",
    "Source: https://leetcode.com/problems/third-maximum-number/description/"
   ]
  },
  {
   "cell_type": "markdown",
   "id": "d7e8d774",
   "metadata": {},
   "source": [
    "## Solution\n",
    "\n",
    "\n",
    "### 1. State the problem clearly. Identify the input & output formats.\n",
    "\n",
    "\n",
    "**Problem**\n",
    "\n",
    "> Given an integer array nums, return the third distinct maximum number in this array. If the third maximum does not exist, return the maximum number.\n",
    "\n",
    "<br/>\n",
    "\n",
    "\n",
    "**Input**\n",
    "\n",
    "1.  nums = [3,2,2,1]\n",
    "\n",
    "\n",
    "\n",
    "**Output**\n",
    "\n",
    "1. 1\n",
    "\n",
    "\n",
    "<br/>\n",
    "\n",
    "Based on the above, we can now create a signature of our function:"
   ]
  },
  {
   "cell_type": "code",
   "execution_count": 1,
   "id": "2066c59e",
   "metadata": {},
   "outputs": [],
   "source": [
    "def third_max(nums):\n",
    "    pass"
   ]
  },
  {
   "cell_type": "markdown",
   "id": "d6a980f9",
   "metadata": {},
   "source": [
    "### 2. Come up with some example inputs & outputs. Try to cover all edge cases.\n",
    "\n",
    "\n",
    "1. list lenght is 1 or 2.\n",
    "2. list contain duplicate & not contain third max.\n",
    "3. list not contain third max.\n",
    "4. list contain duplicate & third max. "
   ]
  },
  {
   "cell_type": "code",
   "execution_count": 2,
   "id": "31370543",
   "metadata": {},
   "outputs": [],
   "source": [
    "tests = []"
   ]
  },
  {
   "cell_type": "code",
   "execution_count": 3,
   "id": "f76e7f08",
   "metadata": {},
   "outputs": [],
   "source": [
    "tests.append({\n",
    "    'input': {\n",
    "        'nums' : [1]\n",
    "    },\n",
    "    'output': 1\n",
    "})"
   ]
  },
  {
   "cell_type": "code",
   "execution_count": 4,
   "id": "fb327405",
   "metadata": {},
   "outputs": [],
   "source": [
    "tests.append({\n",
    "    'input': {\n",
    "        'nums' : [1,2]\n",
    "    },\n",
    "    'output': 2\n",
    "})"
   ]
  },
  {
   "cell_type": "code",
   "execution_count": 5,
   "id": "08134a2b",
   "metadata": {},
   "outputs": [],
   "source": [
    "tests.append({\n",
    "    'input': {\n",
    "        'nums' : [1,2,3,4,5,6]\n",
    "    },\n",
    "    'output': 4\n",
    "})"
   ]
  },
  {
   "cell_type": "code",
   "execution_count": 6,
   "id": "433c570c",
   "metadata": {},
   "outputs": [],
   "source": [
    "tests.append({\n",
    "    'input': {\n",
    "        'nums' : [1,2,3,4,4,4,4,5,5,6,6,6]\n",
    "    },\n",
    "    'output': 4\n",
    "})"
   ]
  },
  {
   "cell_type": "code",
   "execution_count": 7,
   "id": "a9f2448c",
   "metadata": {},
   "outputs": [],
   "source": [
    "tests.append({\n",
    "    'input': {\n",
    "        'nums' : [5,5,6,6,6]\n",
    "    },\n",
    "    'output': 6\n",
    "})"
   ]
  },
  {
   "cell_type": "markdown",
   "id": "e881b6ff",
   "metadata": {},
   "source": [
    "### 3. Come up with a correct solution for the problem. State it in plain English.\n",
    "\n",
    "\n",
    "1. Sort the list (reversed order).\n",
    "2. Iterate a loop & keep counting distinct three number.\n",
    "3. If we counted 3 distinct number Then return third number which is third max.\n",
    "4. If we fail to counted three distinct number then return first max."
   ]
  },
  {
   "cell_type": "markdown",
   "id": "e82eb080",
   "metadata": {},
   "source": [
    "###  4. Implement the solution and test it using example inputs. Fix bugs, if any."
   ]
  },
  {
   "cell_type": "code",
   "execution_count": 8,
   "id": "977f6188",
   "metadata": {},
   "outputs": [],
   "source": [
    "def third_max(nums):\n",
    "    \n",
    "    # Sort the list\n",
    "    nums.sort(reverse = True)\n",
    "    \n",
    "    # Count max\n",
    "    count = 1\n",
    "    \n",
    "    # Consider first max element is previous\n",
    "    prev = nums[0]\n",
    "    \n",
    "    \n",
    "    # Set a loop for finding third max element\n",
    "    for i in range(1,len(nums)):\n",
    "        \n",
    "        # If current element is differnet fro previous\n",
    "        if nums[i] != prev:\n",
    "            \n",
    "            # Increment count\n",
    "            count += 1\n",
    "            \n",
    "            # Set previous element\n",
    "            prev = nums[i]\n",
    "        \n",
    "        \n",
    "        # If we counted 3 number\n",
    "        if count == 3:\n",
    "            \n",
    "            # Than return third max\n",
    "            return nums[i]\n",
    "        \n",
    "    # Return first max\n",
    "    return nums[0]"
   ]
  },
  {
   "cell_type": "code",
   "execution_count": 9,
   "id": "7a5c23a2",
   "metadata": {},
   "outputs": [
    {
     "name": "stdout",
     "output_type": "stream",
     "text": [
      "True\n",
      "True\n",
      "True\n",
      "True\n",
      "True\n"
     ]
    }
   ],
   "source": [
    "for i in range(len(tests)):\n",
    "    print(third_max(tests[i]['input']['nums'])==tests[i]['output'])"
   ]
  },
  {
   "cell_type": "markdown",
   "id": "43746b77",
   "metadata": {},
   "source": [
    "### 5. Analyze the algorithm's complexity and identify inefficiencies, if any."
   ]
  },
  {
   "cell_type": "markdown",
   "id": "9072f68d",
   "metadata": {},
   "source": [
    "> Time complexity: **O(NlogN)** <br>\n",
    "> Space complexity : **O(1)**"
   ]
  },
  {
   "cell_type": "markdown",
   "id": "14c03d94",
   "metadata": {},
   "source": [
    "### 6. Apply the right technique to overcome the inefficiency. Repeat steps 3 to 6."
   ]
  },
  {
   "cell_type": "markdown",
   "id": "07e53202",
   "metadata": {},
   "source": [
    "> **3 Pointer**"
   ]
  },
  {
   "cell_type": "markdown",
   "id": "6c81c692",
   "metadata": {},
   "source": [
    "### 7. Come up with a correct solution for the problem. State it in plain English.\n",
    "\n",
    "\n",
    "> Three Pointer"
   ]
  },
  {
   "cell_type": "markdown",
   "id": "6986aefd",
   "metadata": {},
   "source": [
    "### 8. Implement the solution and test it using example inputs. Fix bugs, if any."
   ]
  },
  {
   "cell_type": "code",
   "execution_count": 10,
   "id": "4da38c43",
   "metadata": {},
   "outputs": [],
   "source": [
    "from math import inf\n",
    "\n",
    "def third_max(nums):\n",
    "    \n",
    "    # Set three variables to minimum for finding maximum\n",
    "    mx1 = mx2 = mx3 = -inf\n",
    "    \n",
    "    # Set a loop for repetation\n",
    "    for num in nums:\n",
    "        \n",
    "        # If number is already used once\n",
    "        if mx1 == num or mx2 == num or mx3 == num:\n",
    "            \n",
    "            # Than skip the number\n",
    "            continue\n",
    "        \n",
    "        # Set first maximum\n",
    "        if mx1 < num :\n",
    "            mx3 = mx2\n",
    "            mx2 = mx1\n",
    "            mx1 = num\n",
    "        \n",
    "        # Set second maximum\n",
    "        elif mx2 < num :\n",
    "            mx3 = mx2\n",
    "            mx2 = num\n",
    "        \n",
    "        # Set third maximum\n",
    "        elif mx3 < num :\n",
    "            mx3 = num\n",
    "    \n",
    "    # If third maximum is not present\n",
    "    if mx3 == -inf:\n",
    "        \n",
    "        # Then return first maximum\n",
    "        return mx1\n",
    "    \n",
    "    # Return Third maximum\n",
    "    return mx3"
   ]
  },
  {
   "cell_type": "code",
   "execution_count": 11,
   "id": "2f8759d5",
   "metadata": {},
   "outputs": [
    {
     "name": "stdout",
     "output_type": "stream",
     "text": [
      "True\n",
      "True\n",
      "True\n",
      "True\n",
      "True\n"
     ]
    }
   ],
   "source": [
    "for i in range(len(tests)):\n",
    "    print(third_max(tests[i]['input']['nums'])==tests[i]['output'])"
   ]
  },
  {
   "cell_type": "markdown",
   "id": "35da7de7",
   "metadata": {},
   "source": [
    "### 9. Analyze the algorithm's complexity and identify inefficiencies, if any."
   ]
  },
  {
   "cell_type": "markdown",
   "id": "a06a42f3",
   "metadata": {},
   "source": [
    "> Time complexity: **O(N)** <br>\n",
    "> Space complexity : **O(1)**"
   ]
  }
 ],
 "metadata": {
  "kernelspec": {
   "display_name": "Python 3 (ipykernel)",
   "language": "python",
   "name": "python3"
  },
  "language_info": {
   "codemirror_mode": {
    "name": "ipython",
    "version": 3
   },
   "file_extension": ".py",
   "mimetype": "text/x-python",
   "name": "python",
   "nbconvert_exporter": "python",
   "pygments_lexer": "ipython3",
   "version": "3.10.8"
  }
 },
 "nbformat": 4,
 "nbformat_minor": 5
}
